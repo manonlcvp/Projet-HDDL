{
 "cells": [
  {
   "cell_type": "markdown",
   "metadata": {},
   "source": [
    "# Mini-project n° 4– RNN, LSTM and GRU vs MLP and CNN"
   ]
  },
  {
   "cell_type": "markdown",
   "metadata": {},
   "source": [
    "## Importation des librairies"
   ]
  },
  {
   "cell_type": "code",
   "execution_count": null,
   "metadata": {},
   "outputs": [
    {
     "name": "stderr",
     "output_type": "stream",
     "text": [
      "[nltk_data] Downloading package stopwords to\n",
      "[nltk_data]     C:\\Users\\janca\\AppData\\Roaming\\nltk_data...\n",
      "[nltk_data]   Package stopwords is already up-to-date!\n",
      "[nltk_data] Downloading package wordnet to\n",
      "[nltk_data]     C:\\Users\\janca\\AppData\\Roaming\\nltk_data...\n",
      "[nltk_data]   Package wordnet is already up-to-date!\n",
      "[nltk_data] Downloading package punkt to\n",
      "[nltk_data]     C:\\Users\\janca\\AppData\\Roaming\\nltk_data...\n",
      "[nltk_data]   Package punkt is already up-to-date!\n"
     ]
    },
    {
     "name": "stdout",
     "output_type": "stream",
     "text": [
      "cpu\n"
     ]
    }
   ],
   "source": [
    "# data manipulation\n",
    "import pandas as pd\n",
    "import numpy as np\n",
    "\n",
    "# data visualization\n",
    "import matplotlib.pyplot as plt\n",
    "import seaborn as sns\n",
    "\n",
    "# text processing\n",
    "import re\n",
    "import nltk\n",
    "from nltk.tokenize import word_tokenize, sent_tokenize\n",
    "from nltk.corpus import stopwords\n",
    "from nltk.stem.wordnet import WordNetLemmatizer\n",
    "#nltk.download('stopwords')\n",
    "#nltk.download('wordnet')\n",
    "#nltk.download('punkt')\n",
    "stopwords = set(stopwords.words('english'))\n",
    "\n",
    "# pytorch\n",
    "import torch\n",
    "from torch import nn\n",
    "from torch.optim import Adam\n",
    "from torch.utils.data import TensorDataset, DataLoader\n",
    "\n",
    "# sklearn\n",
    "from sklearn.metrics import classification_report, confusion_matrix\n",
    "\n",
    "# utils\n",
    "import os\n",
    "from tqdm import tqdm\n",
    "tqdm.pandas()\n",
    "from collections import Counter\n",
    "\n",
    "device = torch.device(\"cuda\" if torch.cuda.is_available() else \"cpu\")\n",
    "print(device)"
   ]
  },
  {
   "cell_type": "markdown",
   "metadata": {},
   "source": [
    "Doc : https://www.kaggle.com/code/affand20/imdb-with-pytorch"
   ]
  },
  {
   "cell_type": "markdown",
   "metadata": {},
   "source": [
    "## Chargment et étude préliminaire du jeu de données"
   ]
  },
  {
   "cell_type": "code",
   "execution_count": 2,
   "metadata": {},
   "outputs": [],
   "source": [
    "data = pd.read_csv('data/IMDB Dataset.csv')"
   ]
  },
  {
   "cell_type": "markdown",
   "metadata": {},
   "source": [
    "On transforme ensuite les labels des classes (ou sentiment) qui sont des chaînes de caractères en valeurs numériques. Le label \"positive\" ou \"négative\" renvoie à la critique des spectateurs ayant vu le film et ayant laissé un commentaire. Un sentiment \"postifif\" sera associé au label 1 tandis qu'un sentiment négatif sera associé au label 0."
   ]
  },
  {
   "cell_type": "code",
   "execution_count": 3,
   "metadata": {},
   "outputs": [
    {
     "name": "stderr",
     "output_type": "stream",
     "text": [
      "100%|██████████| 50000/50000 [00:00<00:00, 642023.96it/s]\n"
     ]
    },
    {
     "data": {
      "text/html": [
       "<div>\n",
       "<style scoped>\n",
       "    .dataframe tbody tr th:only-of-type {\n",
       "        vertical-align: middle;\n",
       "    }\n",
       "\n",
       "    .dataframe tbody tr th {\n",
       "        vertical-align: top;\n",
       "    }\n",
       "\n",
       "    .dataframe thead th {\n",
       "        text-align: right;\n",
       "    }\n",
       "</style>\n",
       "<table border=\"1\" class=\"dataframe\">\n",
       "  <thead>\n",
       "    <tr style=\"text-align: right;\">\n",
       "      <th></th>\n",
       "      <th>review</th>\n",
       "      <th>sentiment</th>\n",
       "      <th>label</th>\n",
       "    </tr>\n",
       "  </thead>\n",
       "  <tbody>\n",
       "    <tr>\n",
       "      <th>0</th>\n",
       "      <td>One of the other reviewers has mentioned that ...</td>\n",
       "      <td>positive</td>\n",
       "      <td>1</td>\n",
       "    </tr>\n",
       "    <tr>\n",
       "      <th>1</th>\n",
       "      <td>A wonderful little production. &lt;br /&gt;&lt;br /&gt;The...</td>\n",
       "      <td>positive</td>\n",
       "      <td>1</td>\n",
       "    </tr>\n",
       "    <tr>\n",
       "      <th>2</th>\n",
       "      <td>I thought this was a wonderful way to spend ti...</td>\n",
       "      <td>positive</td>\n",
       "      <td>1</td>\n",
       "    </tr>\n",
       "    <tr>\n",
       "      <th>3</th>\n",
       "      <td>Basically there's a family where a little boy ...</td>\n",
       "      <td>negative</td>\n",
       "      <td>0</td>\n",
       "    </tr>\n",
       "    <tr>\n",
       "      <th>4</th>\n",
       "      <td>Petter Mattei's \"Love in the Time of Money\" is...</td>\n",
       "      <td>positive</td>\n",
       "      <td>1</td>\n",
       "    </tr>\n",
       "  </tbody>\n",
       "</table>\n",
       "</div>"
      ],
      "text/plain": [
       "                                              review sentiment  label\n",
       "0  One of the other reviewers has mentioned that ...  positive      1\n",
       "1  A wonderful little production. <br /><br />The...  positive      1\n",
       "2  I thought this was a wonderful way to spend ti...  positive      1\n",
       "3  Basically there's a family where a little boy ...  negative      0\n",
       "4  Petter Mattei's \"Love in the Time of Money\" is...  positive      1"
      ]
     },
     "execution_count": 3,
     "metadata": {},
     "output_type": "execute_result"
    }
   ],
   "source": [
    "def transform_label(label):\n",
    "    return 1 if label == 'positive' else 0\n",
    "\n",
    "data['label'] = data['sentiment'].progress_apply(transform_label)\n",
    "data.head()"
   ]
  },
  {
   "cell_type": "code",
   "execution_count": 4,
   "metadata": {},
   "outputs": [
    {
     "data": {
      "text/plain": [
       "sentiment\n",
       "positive    25000\n",
       "negative    25000\n",
       "Name: count, dtype: int64"
      ]
     },
     "execution_count": 4,
     "metadata": {},
     "output_type": "execute_result"
    }
   ],
   "source": [
    "data.sentiment.value_counts()"
   ]
  },
  {
   "cell_type": "markdown",
   "metadata": {},
   "source": [
    "On remarque que le jeu de données est équilibré : la moitié des films ont reçu des critiques \"positives\" et l'autre moitié des critiques \"négatives\"."
   ]
  },
  {
   "cell_type": "code",
   "execution_count": 5,
   "metadata": {},
   "outputs": [
    {
     "name": "stderr",
     "output_type": "stream",
     "text": [
      "100%|██████████| 50000/50000 [00:00<00:00, 54783.79it/s]\n"
     ]
    }
   ],
   "source": [
    "data['token_length'] = data.review.progress_apply(lambda x: len(x.split()))"
   ]
  },
  {
   "cell_type": "code",
   "execution_count": 6,
   "metadata": {},
   "outputs": [
    {
     "data": {
      "text/plain": [
       "count    25000.000000\n",
       "mean       232.849320\n",
       "std        177.497046\n",
       "min         10.000000\n",
       "25%        125.000000\n",
       "50%        172.000000\n",
       "75%        284.000000\n",
       "max       2470.000000\n",
       "Name: token_length, dtype: float64"
      ]
     },
     "execution_count": 6,
     "metadata": {},
     "output_type": "execute_result"
    }
   ],
   "source": [
    "data_pos = data[data['label'] == 1]\n",
    "data_pos['token_length'].describe()"
   ]
  },
  {
   "cell_type": "markdown",
   "metadata": {},
   "source": [
    "On s'intéresse ici à la longueur des commentaires positifs. En moyenne elle est d'environ 233 tokens et varie de 10 à 2470 tokens."
   ]
  },
  {
   "cell_type": "code",
   "execution_count": 7,
   "metadata": {},
   "outputs": [
    {
     "data": {
      "text/plain": [
       "count    25000.000000\n",
       "mean       229.464560\n",
       "std        164.947795\n",
       "min          4.000000\n",
       "25%        128.000000\n",
       "50%        174.000000\n",
       "75%        278.000000\n",
       "max       1522.000000\n",
       "Name: token_length, dtype: float64"
      ]
     },
     "execution_count": 7,
     "metadata": {},
     "output_type": "execute_result"
    }
   ],
   "source": [
    "data_neg = data[data['label'] == 0]\n",
    "data_neg['token_length'].describe()"
   ]
  },
  {
   "cell_type": "markdown",
   "metadata": {},
   "source": [
    "En répétant le même processus pour les commentaires négatifs, on constate que la moyenne des commentaires négatifs, ainsi que les premiers, deuxième et troisième quartiles ont des longueurs proches de celles des commentaires positifs. Le nombre de tokens ne semblent donc pas influencer le type de commentaires (positifs ou négatifs). On le visualise aisément sur le boxplot suivant :"
   ]
  },
  {
   "cell_type": "code",
   "execution_count": 8,
   "metadata": {},
   "outputs": [
    {
     "name": "stderr",
     "output_type": "stream",
     "text": [
      "C:\\Users\\janca\\AppData\\Local\\Temp\\ipykernel_40228\\127678021.py:3: FutureWarning: \n",
      "\n",
      "Passing `palette` without assigning `hue` is deprecated and will be removed in v0.14.0. Assign the `x` variable to `hue` and set `legend=False` for the same effect.\n",
      "\n",
      "  sns.boxplot(x='sentiment', y='token_length', data=data, palette='Set2')\n"
     ]
    },
    {
     "data": {
      "image/png": "[encoded data removed]",
      "text/plain": [
       "<Figure size 800x600 with 1 Axes>"
      ]
     },
     "metadata": {},
     "output_type": "display_data"
    }
   ],
   "source": [
    "# Création du boxplot\n",
    "plt.figure(figsize=(8, 6))\n",
    "sns.boxplot(x='sentiment', y='token_length', data=data, palette='Set2')\n",
    "\n",
    "plt.title('Boxplot du nombre de tokens pour les critiques positives et négatives')\n",
    "plt.xlabel('Sentiment')\n",
    "plt.ylabel('Nombre de tokens')\n",
    "\n",
    "plt.show()"
   ]
  },
  {
   "cell_type": "markdown",
   "metadata": {},
   "source": [
    "On peut également visualiser quelques exemples de commentaires positifs et négatifs."
   ]
  },
  {
   "cell_type": "code",
   "execution_count": 9,
   "metadata": {},
   "outputs": [
    {
     "name": "stdout",
     "output_type": "stream",
     "text": [
      "Positive\n",
      "Brilliant and moving performances by Tom Courtenay and Peter Finch.\n",
      "Adrian Pasdar is excellent is this film. He makes a fascinating woman.\n",
      "This is a great movie. Too bad it is not available on home video.\n",
      "\n",
      "Negative\n",
      "Primary plot!Primary direction!Poor interpretation.\n",
      "Read the book, forget the movie!\n",
      "What a script, what a story, what a mess!\n"
     ]
    }
   ],
   "source": [
    "# Exemples de commentaires positifs\n",
    "print('Positive')\n",
    "print(data_pos[data_pos['token_length'] == data_pos['token_length'].min()]['review'].item())\n",
    "print(data_pos[data_pos['token_length'] == data_pos['token_length'].min() + 2]['review'].item())\n",
    "print(data_pos[data_pos['token_length'] == data_pos['token_length'].min() + 4]['review'].item())\n",
    "print()\n",
    "\n",
    "# Exemples de commentaires négatifs\n",
    "print('Negative')\n",
    "print(data_neg[data_neg['token_length'] == data_neg['token_length'].min()]['review'].item())\n",
    "print(data_neg[data_neg['token_length'] == data_neg['token_length'].min() + 2]['review'].item())\n",
    "print(data_neg[data_neg['token_length'] == data_neg['token_length'].min() + 5]['review'].item())"
   ]
  },
  {
   "cell_type": "markdown",
   "metadata": {},
   "source": [
    "# Nettoyage du texte"
   ]
  },
  {
   "cell_type": "markdown",
   "metadata": {},
   "source": [
    "## Séléction des caractères conservés"
   ]
  },
  {
   "cell_type": "markdown",
   "metadata": {},
   "source": [
    "L'objectif de cette section est de retirer tous les éléments des textes pouvant être présents mais que l'on ne juge pas utiles d'exploiter pour détecter la nature du commentaire. <br>\n",
    "Par exemple \"I loooove this movie !!! 😁 \\<br\\>\" devient \"I love this movie !\""
   ]
  },
  {
   "cell_type": "code",
   "execution_count": null,
   "metadata": {},
   "outputs": [],
   "source": [
    "def rm_link(text):\n",
    "    return re.sub(r'https?://\\S+|www\\.\\S+', '', text) # supprime les liens url\n",
    "\n",
    "def rm_punct(text):\n",
    "    # supprime des signes de ponctuation spécifiques (mais . ! et ? sont conservés par exemple)\n",
    "    return re.sub(r'[\\\"\\#\\$\\%\\&\\'\\(\\)\\*\\+\\/\\:\\;\\<\\=\\>\\@\\[\\\\\\]\\^\\_\\`\\{\\|\\}\\~]', ' ', text)\n",
    "\n",
    "def rm_html(text):\n",
    "    return re.sub(r'<[^>]+>', '', text) # supprime les balises html\n",
    "\n",
    "def space_bt_punct(text):\n",
    "    pattern = r'([.,!?-])'\n",
    "    s = re.sub(pattern, r' \\1 ', text) # ajoute des espaces entre la ponctuation et les mots\n",
    "    s = re.sub(r'\\s{2,}', ' ', s) # retire les doubles espaces   \n",
    "    return s\n",
    "\n",
    "def rm_number(text):\n",
    "    return re.sub(r'\\d+', '', text) # supprime les chiffres\n",
    "\n",
    "def rm_whitespaces(text):\n",
    "    return re.sub(r' +', ' ', text) # supprime les espaces excédentaires\n",
    "\n",
    "def rm_nonascii(text):\n",
    "    return re.sub(r'[^\\x00-\\x7f]', r'', text) # supprime les caracteres non ASCII\n",
    "\n",
    "def rm_emoji(text):\n",
    "    # supprime les emojis\n",
    "    emojis = re.compile(\n",
    "        '['\n",
    "        u'\\U0001F600-\\U0001F64F'\n",
    "        u'\\U0001F300-\\U0001F5FF'\n",
    "        u'\\U0001F680-\\U0001F6FF'\n",
    "        u'\\U0001F1E0-\\U0001F1FF'\n",
    "        u'\\U00002702-\\U000027B0'\n",
    "        u'\\U000024C2-\\U0001F251'\n",
    "        ']+',\n",
    "        flags=re.UNICODE\n",
    "    )\n",
    "    return emojis.sub(r'', text)\n",
    "\n",
    "def spell_correction(text):\n",
    "    return re.sub(r'(.)\\1+', r'\\1\\1', text) # supprime les repetitions de lettres consecutives (de sorte à en laisser au plus 2)\n",
    "\n",
    "def clean_pipeline(text):    \n",
    "    no_link = rm_link(text)\n",
    "    no_html = rm_html(no_link)\n",
    "    space_punct = space_bt_punct(no_html)\n",
    "    no_punct = rm_punct(space_punct)\n",
    "    no_number = rm_number(no_punct)\n",
    "    no_whitespaces = rm_whitespaces(no_number)\n",
    "    no_nonasci = rm_nonascii(no_whitespaces)\n",
    "    no_emoji = rm_emoji(no_nonasci)\n",
    "    spell_corrected = spell_correction(no_emoji)\n",
    "    return spell_corrected"
   ]
  },
  {
   "cell_type": "markdown",
   "metadata": {},
   "source": [
    "## Transformation en tokens"
   ]
  },
  {
   "cell_type": "markdown",
   "metadata": {},
   "source": [
    "Pour transformer notre texte en tokens, il existe différentes possibilités. Ici le choix a été fait d'un découpage \"mot par mot\" via la fonction word_tokenize, c'est-à-dire que chaque token est assimilé à un mot du texte. <br>\n",
    "De plus, les \"stopwords\" = les mots n'apportant pas un sens significatif au texte (ex : \"the\", \"at\", \"and\"...), sont retirés du texte et chaque mot est récupéré sous une forme simplifiée appelée forme \"canonique\" (ex : \"running\", \"runs\" et \"runner\" deviennent \"run\"). <br>\n",
    "Ainsi, par exemple la séquence ['The', 'men', 'are', 'fighting'] est récupérée sous la forme \"men fight\"."
   ]
  },
  {
   "cell_type": "code",
   "execution_count": 11,
   "metadata": {},
   "outputs": [],
   "source": [
    "def tokenize(text):\n",
    "    return word_tokenize(text)\n",
    "\n",
    "def rm_stopwords(text):\n",
    "    return [i for i in text if i not in stopwords] # élimine les \"stopwords\"\n",
    "\n",
    "def lemmatize(text):\n",
    "    lemmatizer = WordNetLemmatizer() # récupère chaque mot dans sa forme \"canonique\"\n",
    "    lemmas = [lemmatizer.lemmatize(t) for t in text] # à nouveau élimination des \"stopwords\"\n",
    "    return rm_stopwords(lemmas)\n",
    "\n",
    "def preprocess_pipeline(text):\n",
    "    tokens = tokenize(text)\n",
    "    no_stopwords = rm_stopwords(tokens)\n",
    "    lemmas = lemmatize(no_stopwords)\n",
    "    return ' '.join(lemmas)"
   ]
  },
  {
   "cell_type": "code",
   "execution_count": 22,
   "metadata": {},
   "outputs": [
    {
     "name": "stderr",
     "output_type": "stream",
     "text": [
      "100%|██████████| 50000/50000 [00:19<00:00, 2538.76it/s]\n",
      "100%|██████████| 50000/50000 [02:15<00:00, 368.76it/s]\n"
     ]
    },
    {
     "data": {
      "text/html": [
       "<div>\n",
       "<style scoped>\n",
       "    .dataframe tbody tr th:only-of-type {\n",
       "        vertical-align: middle;\n",
       "    }\n",
       "\n",
       "    .dataframe tbody tr th {\n",
       "        vertical-align: top;\n",
       "    }\n",
       "\n",
       "    .dataframe thead th {\n",
       "        text-align: right;\n",
       "    }\n",
       "</style>\n",
       "<table border=\"1\" class=\"dataframe\">\n",
       "  <thead>\n",
       "    <tr style=\"text-align: right;\">\n",
       "      <th></th>\n",
       "      <th>review</th>\n",
       "      <th>sentiment</th>\n",
       "      <th>label</th>\n",
       "      <th>token_length</th>\n",
       "      <th>clean</th>\n",
       "      <th>processed</th>\n",
       "    </tr>\n",
       "  </thead>\n",
       "  <tbody>\n",
       "    <tr>\n",
       "      <th>0</th>\n",
       "      <td>One of the other reviewers has mentioned that ...</td>\n",
       "      <td>positive</td>\n",
       "      <td>1</td>\n",
       "      <td>307</td>\n",
       "      <td>One of the other reviewers has mentioned that ...</td>\n",
       "      <td>One reviewer mentioned watching Oz episode hoo...</td>\n",
       "    </tr>\n",
       "    <tr>\n",
       "      <th>1</th>\n",
       "      <td>A wonderful little production. &lt;br /&gt;&lt;br /&gt;The...</td>\n",
       "      <td>positive</td>\n",
       "      <td>1</td>\n",
       "      <td>162</td>\n",
       "      <td>A wonderful little production . The filming te...</td>\n",
       "      <td>A wonderful little production . The filming te...</td>\n",
       "    </tr>\n",
       "    <tr>\n",
       "      <th>2</th>\n",
       "      <td>I thought this was a wonderful way to spend ti...</td>\n",
       "      <td>positive</td>\n",
       "      <td>1</td>\n",
       "      <td>166</td>\n",
       "      <td>I thought this was a wonderful way to spend ti...</td>\n",
       "      <td>I thought wonderful way spend time hot summer ...</td>\n",
       "    </tr>\n",
       "    <tr>\n",
       "      <th>3</th>\n",
       "      <td>Basically there's a family where a little boy ...</td>\n",
       "      <td>negative</td>\n",
       "      <td>0</td>\n",
       "      <td>138</td>\n",
       "      <td>Basically there s a family where a little boy ...</td>\n",
       "      <td>Basically family little boy Jake think zombie ...</td>\n",
       "    </tr>\n",
       "    <tr>\n",
       "      <th>4</th>\n",
       "      <td>Petter Mattei's \"Love in the Time of Money\" is...</td>\n",
       "      <td>positive</td>\n",
       "      <td>1</td>\n",
       "      <td>230</td>\n",
       "      <td>Petter Mattei s Love in the Time of Money is a...</td>\n",
       "      <td>Petter Mattei Love Time Money visually stunnin...</td>\n",
       "    </tr>\n",
       "  </tbody>\n",
       "</table>\n",
       "</div>"
      ],
      "text/plain": [
       "                                              review sentiment  label  \\\n",
       "0  One of the other reviewers has mentioned that ...  positive      1   \n",
       "1  A wonderful little production. <br /><br />The...  positive      1   \n",
       "2  I thought this was a wonderful way to spend ti...  positive      1   \n",
       "3  Basically there's a family where a little boy ...  negative      0   \n",
       "4  Petter Mattei's \"Love in the Time of Money\" is...  positive      1   \n",
       "\n",
       "   token_length                                              clean  \\\n",
       "0           307  One of the other reviewers has mentioned that ...   \n",
       "1           162  A wonderful little production . The filming te...   \n",
       "2           166  I thought this was a wonderful way to spend ti...   \n",
       "3           138  Basically there s a family where a little boy ...   \n",
       "4           230  Petter Mattei s Love in the Time of Money is a...   \n",
       "\n",
       "                                           processed  \n",
       "0  One reviewer mentioned watching Oz episode hoo...  \n",
       "1  A wonderful little production . The filming te...  \n",
       "2  I thought wonderful way spend time hot summer ...  \n",
       "3  Basically family little boy Jake think zombie ...  \n",
       "4  Petter Mattei Love Time Money visually stunnin...  "
      ]
     },
     "execution_count": 22,
     "metadata": {},
     "output_type": "execute_result"
    }
   ],
   "source": [
    "data['clean'] = data['review'].progress_apply(clean_pipeline) # après nettoyage du texte\n",
    "data['processed'] = data['clean'].progress_apply(preprocess_pipeline) # après tokenization\n",
    "data.head()"
   ]
  },
  {
   "cell_type": "markdown",
   "metadata": {},
   "source": [
    "# Encodage des textes"
   ]
  },
  {
   "cell_type": "markdown",
   "metadata": {},
   "source": [
    "Pour la suite, pour réaliser la prédiction de classe, on ne conserve que les textes prétraîtés ainsi que leurs labels."
   ]
  },
  {
   "cell_type": "code",
   "execution_count": 31,
   "metadata": {},
   "outputs": [
    {
     "data": {
      "text/html": [
       "<div>\n",
       "<style scoped>\n",
       "    .dataframe tbody tr th:only-of-type {\n",
       "        vertical-align: middle;\n",
       "    }\n",
       "\n",
       "    .dataframe tbody tr th {\n",
       "        vertical-align: top;\n",
       "    }\n",
       "\n",
       "    .dataframe thead th {\n",
       "        text-align: right;\n",
       "    }\n",
       "</style>\n",
       "<table border=\"1\" class=\"dataframe\">\n",
       "  <thead>\n",
       "    <tr style=\"text-align: right;\">\n",
       "      <th></th>\n",
       "      <th>processed</th>\n",
       "      <th>label</th>\n",
       "    </tr>\n",
       "  </thead>\n",
       "  <tbody>\n",
       "    <tr>\n",
       "      <th>0</th>\n",
       "      <td>One reviewer mentioned watching Oz episode hoo...</td>\n",
       "      <td>1</td>\n",
       "    </tr>\n",
       "    <tr>\n",
       "      <th>1</th>\n",
       "      <td>A wonderful little production . The filming te...</td>\n",
       "      <td>1</td>\n",
       "    </tr>\n",
       "    <tr>\n",
       "      <th>2</th>\n",
       "      <td>I thought wonderful way spend time hot summer ...</td>\n",
       "      <td>1</td>\n",
       "    </tr>\n",
       "    <tr>\n",
       "      <th>3</th>\n",
       "      <td>Basically family little boy Jake think zombie ...</td>\n",
       "      <td>0</td>\n",
       "    </tr>\n",
       "    <tr>\n",
       "      <th>4</th>\n",
       "      <td>Petter Mattei Love Time Money visually stunnin...</td>\n",
       "      <td>1</td>\n",
       "    </tr>\n",
       "  </tbody>\n",
       "</table>\n",
       "</div>"
      ],
      "text/plain": [
       "                                           processed  label\n",
       "0  One reviewer mentioned watching Oz episode hoo...      1\n",
       "1  A wonderful little production . The filming te...      1\n",
       "2  I thought wonderful way spend time hot summer ...      1\n",
       "3  Basically family little boy Jake think zombie ...      0\n",
       "4  Petter Mattei Love Time Money visually stunnin...      1"
      ]
     },
     "execution_count": 31,
     "metadata": {},
     "output_type": "execute_result"
    }
   ],
   "source": [
    "data_pred = pd.read_csv('data/IMDB_pred.csv') # data précédent avec uniquement les colonnes processed et label\n",
    "data_pred.head()"
   ]
  },
  {
   "cell_type": "markdown",
   "metadata": {},
   "source": [
    "Puisque dans notre étude un mot est associé à un token, il est nécessaire de trouver une méthode de codage de à chacun de ces tokens, c'est-à-dire leur affecter une valeur numérique (de sorte à ce qu'un même mot ait toujours le même \"numéro de token\").\n",
    "\n",
    "Pour cela, on commence par extraire toutes les critiques (que l'on vient de prétraitées), on les fusionne en une seule chaîne de texte, puis on les divise en mots individuels. <br>\n",
    "On crée ensuite un vocabulaire en comptant la fréquence des mots, puis en triant les mots par fréquence. Le mot le plus fréquent parmi toutes les critiques se verra donc affecter la valeur numérique la plus élevée parmi les tokens, et le mot le moins présent parmi tous les textes la valeur la plus basse. On génère alors deux dictionnaires : \n",
    "\n",
    "- int2word : associe un entier (index) à chaque mot.\n",
    "- word2int : associe chaque mot à son index."
   ]
  },
  {
   "cell_type": "code",
   "execution_count": 48,
   "metadata": {},
   "outputs": [
    {
     "data": {
      "text/plain": [
       "['One',\n",
       " 'reviewer',\n",
       " 'mentioned',\n",
       " 'watching',\n",
       " 'Oz',\n",
       " 'episode',\n",
       " 'hooked',\n",
       " '.',\n",
       " 'They',\n",
       " 'right']"
      ]
     },
     "execution_count": 48,
     "metadata": {},
     "output_type": "execute_result"
    }
   ],
   "source": [
    "texts = data.processed.values \n",
    "words = ' '.join(texts) # fusionne tous les textes en un seul\n",
    "\n",
    "words = words.split() # recupère la liste de tous les mots\n",
    "\n",
    "words[:10]"
   ]
  },
  {
   "cell_type": "code",
   "execution_count": 49,
   "metadata": {},
   "outputs": [],
   "source": [
    "# Création des dictionnaires\n",
    "counter = Counter(words)\n",
    "vocab = sorted(counter, key=counter.get, reverse=True) # trie les mots par fréquence décroissante\n",
    "int2word = dict(enumerate(vocab, 1))\n",
    "int2word[0] = '<PAD>'\n",
    "word2int = {word: id for id, word in int2word.items()}"
   ]
  },
  {
   "cell_type": "markdown",
   "metadata": {},
   "source": [
    "Maintenant que notre dictionnaire est crée, on peut encoder chacun des textes."
   ]
  },
  {
   "cell_type": "code",
   "execution_count": 50,
   "metadata": {},
   "outputs": [
    {
     "name": "stderr",
     "output_type": "stream",
     "text": [
      "100%|██████████| 50000/50000 [00:03<00:00, 16553.68it/s]"
     ]
    },
    {
     "name": "stdout",
     "output_type": "stream",
     "text": [
      "[191, 1083, 930, 81, 3722, 186, 3030, 1, 118, 114]\n",
      "[47, 328, 59, 244, 1, 7, 1267, 1608, 17880, 4]\n",
      "[3, 95, 328, 30, 1041, 13, 845, 1774, 2633, 2]\n"
     ]
    },
    {
     "name": "stderr",
     "output_type": "stream",
     "text": [
      "\n"
     ]
    }
   ],
   "source": [
    "texts_enc = [[word2int[word] for word in review.split()] for review in tqdm(texts)]\n",
    "\n",
    "# Affichage des 10 premiers encodages des 3 premiers textes\n",
    "for i in range(3):\n",
    "    print(texts_enc[i][:10])"
   ]
  },
  {
   "cell_type": "markdown",
   "metadata": {},
   "source": [
    "Enfin, pour les modèles de RNN avec lesquels on souhaite ensuite travailler pour réaliser notre prédiction, il est nécessaire que toutes nos entrées soient de même taille. Or, nous l'avons vu au début de l'étude, on dispose de textes de taille différentes. Il est donc nécessaire de fixer une taille \"standard\" des entrées : pour les critiques \"plus courtes\" on fait du padding (c'est-à-dire qu'on complète la séquence avec un identifiant spécial \\<PAD\\>) et pour celles \"plus longues\", la séquence est tronquée.\n",
    "\n",
    "Pour le choix de la taille standard, il vaut mieux une valeur qui limite le nombre de textes tronqués, tout en restreignant la taille totale des séquences. Souvent, pour des réseaux tels que des LSTM ou GRU, la taille des séquences utilisées est de 128 ou 256. Ici, en prenant une taille de 256, on se rend compte qu'une grande majorité des séquences n'aura pas à être tronquée. Ce sera uniquement le cas des séquences excessivement longues (1721 tokens pour la plus longue séquence)."
   ]
  },
  {
   "cell_type": "code",
   "execution_count": 51,
   "metadata": {},
   "outputs": [
    {
     "name": "stdout",
     "output_type": "stream",
     "text": [
      "Longueur moyenne des textes : 157.7677\n",
      "Longueur médiane des textes : 119.0\n",
      "Longueur maximale des textes : 1721\n"
     ]
    }
   ],
   "source": [
    "# Calcul des longueurs des revues\n",
    "texts_lengths = [len(review.split()) for review in texts]\n",
    "\n",
    "# Calcul de la moyenne et de la médiane\n",
    "avg_length = np.mean(texts_lengths)\n",
    "median_length = np.median(texts_lengths)\n",
    "max_length = np.max(texts_lengths)\n",
    "\n",
    "# Affichage des résultats\n",
    "print(f\"Longueur moyenne des textes : {avg_length}\")\n",
    "print(f\"Longueur médiane des textes : {median_length}\")\n",
    "print(f\"Longueur maximale des textes : {max_length}\")"
   ]
  },
  {
   "cell_type": "code",
   "execution_count": 52,
   "metadata": {},
   "outputs": [
    {
     "name": "stderr",
     "output_type": "stream",
     "text": [
      "C:\\Users\\janca\\AppData\\Local\\Temp\\ipykernel_40228\\1896687383.py:3: FutureWarning: \n",
      "\n",
      "Passing `palette` without assigning `hue` is deprecated and will be removed in v0.14.0. Assign the `x` variable to `hue` and set `legend=False` for the same effect.\n",
      "\n",
      "  sns.boxplot(data=texts_lengths, palette='Set2')\n"
     ]
    },
    {
     "data": {
      "image/png": "[encoded data removed]",
      "text/plain": [
       "<Figure size 800x600 with 1 Axes>"
      ]
     },
     "metadata": {},
     "output_type": "display_data"
    }
   ],
   "source": [
    "# Création du boxplot\n",
    "plt.figure(figsize=(8, 6))\n",
    "sns.boxplot(data=texts_lengths, palette='Set2')\n",
    "\n",
    "plt.title('Boxplot du nombre de tokens dans les différents textes')\n",
    "plt.ylabel('Nombre de tokens')\n",
    "\n",
    "plt.show()"
   ]
  },
  {
   "cell_type": "code",
   "execution_count": null,
   "metadata": {},
   "outputs": [
    {
     "data": {
      "text/plain": [
       "array([[  191,  1083,   930],\n",
       "       [   47,   328,    59],\n",
       "       [    3,    95,   328],\n",
       "       [ 2408,   136,    59],\n",
       "       [70998, 10569,  1081],\n",
       "       [ 2795,     4,    13],\n",
       "       [    3,   197,    18],\n",
       "       [   14,    31,   427],\n",
       "       [47907,   980,   359],\n",
       "       [   64,    10,   125]])"
      ]
     },
     "execution_count": 54,
     "metadata": {},
     "output_type": "execute_result"
    }
   ],
   "source": [
    "def pad_features(texts, pad_id, seq_length=256):\n",
    "    # pad_id est l'indice de l'identifiant spécial <PAD> \n",
    "\n",
    "    sequences = np.full((len(texts), seq_length), pad_id, dtype=int) # initialisation d'une matrice feature de longueur seq_length avec l'element <PAD>\n",
    "\n",
    "    for i, row in enumerate(texts):\n",
    "        sequences[i, :len(row)] = np.array(row)[:seq_length] # feature est completee par les elements de la sequence d'entree review\n",
    "\n",
    "    return sequences\n",
    "\n",
    "seq_length = 256\n",
    "sequences = pad_features(texts_enc, pad_id=word2int['<PAD>'], seq_length=seq_length)\n",
    "\n",
    "assert len(sequences) == len(texts_enc)\n",
    "assert len(sequences[0]) == seq_length\n",
    "\n",
    "sequences[:10, :3] # 3 premiers élèments des 10 premières séquences"
   ]
  },
  {
   "cell_type": "code",
   "execution_count": 55,
   "metadata": {},
   "outputs": [],
   "source": [
    "labels = data.label.to_numpy() # conversion des labels en numpy"
   ]
  },
  {
   "cell_type": "markdown",
   "metadata": {},
   "source": [
    "# Modèles de prédiction"
   ]
  },
  {
   "cell_type": "markdown",
   "metadata": {},
   "source": [
    "## Séparation du jeu de données"
   ]
  },
  {
   "cell_type": "code",
   "execution_count": 56,
   "metadata": {},
   "outputs": [
    {
     "name": "stdout",
     "output_type": "stream",
     "text": [
      "Taille des échantillons:\n",
      "===============\n",
      "Train set: (40000, 256)\n",
      "Validation set: (5000, 256)\n",
      "Test set: (5000, 256)\n"
     ]
    }
   ],
   "source": [
    "# Choix des ratios pour la séparation des données\n",
    "train_size = .8     # utilisation de 80% des données pour l'apprentissage et 20% pour le test\n",
    "val_size = .5       # utilisation de 50% des données test pour la validation (Total : 80% apprentissage, 10% validation, 10% test)\n",
    "\n",
    "# Données d'apprentissage\n",
    "split_id = int(len(sequences) * train_size)\n",
    "train_x, remain_x = sequences[:split_id], sequences[split_id:]\n",
    "train_y, remain_y = labels[:split_id], labels[split_id:]\n",
    "\n",
    "# Données de validation et de test\n",
    "split_val_id = int(len(remain_x) * val_size)\n",
    "val_x, test_x = remain_x[:split_val_id], remain_x[split_val_id:]\n",
    "val_y, test_y = remain_y[:split_val_id], remain_y[split_val_id:]\n",
    "\n",
    "# print out the shape\n",
    "print('Taille des échantillons:')\n",
    "print('===============')\n",
    "print('Train set: {}'.format(train_x.shape))\n",
    "print('Validation set: {}'.format(val_x.shape))\n",
    "print('Test set: {}'.format(test_x.shape))"
   ]
  },
  {
   "cell_type": "code",
   "execution_count": 57,
   "metadata": {},
   "outputs": [
    {
     "name": "stdout",
     "output_type": "stream",
     "text": [
      "Échantillon d'apprentissage :\n",
      "Nombre de critiques positives : 20007\n",
      "Nombre de critiques négatives : 19993\n",
      "\n",
      "Échantillon de validation :\n",
      "Nombre de critiques positives : 2463\n",
      "Nombre de critiques négatives : 2537\n",
      "\n",
      "Échantillon test :\n",
      "Nombre de critiques positives : 2530\n",
      "Nombre de critiques négatives : 2470\n",
      "\n"
     ]
    }
   ],
   "source": [
    "# Répartition des labels dans les échantillons\n",
    "\n",
    "print(\"Échantillon d'apprentissage :\")\n",
    "print(\"Nombre de critiques positives : \" + str(len(train_y[train_y == 0])))\n",
    "print(\"Nombre de critiques négatives : \" + str(len(train_y[train_y == 1])))\n",
    "print()\n",
    "\n",
    "print(\"Échantillon de validation :\")\n",
    "print(\"Nombre de critiques positives : \" + str(len(val_y[val_y == 0])))\n",
    "print(\"Nombre de critiques négatives : \" + str(len(val_y[val_y == 1])))\n",
    "print()\n",
    "\n",
    "print(\"Échantillon test :\")\n",
    "print(\"Nombre de critiques positives : \" + str(len(test_y[test_y == 0])))\n",
    "print(\"Nombre de critiques négatives : \" + str(len(test_y[test_y == 1])))\n",
    "print()\n"
   ]
  },
  {
   "cell_type": "markdown",
   "metadata": {},
   "source": [
    "Nos classes sont donc toujours réparties de manière équitable dans les différents échantillons."
   ]
  },
  {
   "cell_type": "code",
   "execution_count": 58,
   "metadata": {},
   "outputs": [],
   "source": [
    "batch_size = 128\n",
    "\n",
    "# Création des tenseurs\n",
    "train_set = TensorDataset(torch.from_numpy(train_x), torch.from_numpy(train_y))\n",
    "valid_set = TensorDataset(torch.from_numpy(val_x), torch.from_numpy(val_y))\n",
    "test_set = TensorDataset(torch.from_numpy(test_x), torch.from_numpy(test_y))\n",
    "\n",
    "# Création des DataLoaders\n",
    "train_loader = DataLoader(train_set, shuffle=True, batch_size=batch_size)\n",
    "val_loader = DataLoader(valid_set, shuffle=True, batch_size=batch_size)\n",
    "test_loader = DataLoader(test_set, shuffle=True, batch_size=batch_size)"
   ]
  },
  {
   "cell_type": "code",
   "execution_count": null,
   "metadata": {},
   "outputs": [],
   "source": []
  }
 ],
 "metadata": {
  "kernelspec": {
   "display_name": "pytorch_env",
   "language": "python",
   "name": "python3"
  },
  "language_info": {
   "codemirror_mode": {
    "name": "ipython",
    "version": 3
   },
   "file_extension": ".py",
   "mimetype": "text/x-python",
   "name": "python",
   "nbconvert_exporter": "python",
   "pygments_lexer": "ipython3",
   "version": "3.9.20"
  }
 },
 "nbformat": 4,
 "nbformat_minor": 2
}
