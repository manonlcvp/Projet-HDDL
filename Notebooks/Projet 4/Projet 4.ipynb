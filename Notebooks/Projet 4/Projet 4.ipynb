{
 "cells": [
  {
   "cell_type": "markdown",
   "metadata": {},
   "source": [
    "# Mini-project n° 4– RNN, LSTM and GRU vs MLP and CNN"
   ]
  },
  {
   "cell_type": "markdown",
   "metadata": {},
   "source": [
    "## Importation des librairies"
   ]
  },
  {
   "cell_type": "code",
   "execution_count": 1,
   "metadata": {},
   "outputs": [
    {
     "name": "stdout",
     "output_type": "stream",
     "text": [
      "cuda\n"
     ]
    },
    {
     "name": "stderr",
     "output_type": "stream",
     "text": [
      "/home/rabasquinho/.conda/envs/torch/lib/python3.10/site-packages/tqdm/auto.py:21: TqdmWarning: IProgress not found. Please update jupyter and ipywidgets. See https://ipywidgets.readthedocs.io/en/stable/user_install.html\n",
      "  from .autonotebook import tqdm as notebook_tqdm\n"
     ]
    }
   ],
   "source": [
    "# data manipulation\n",
    "import pandas as pd\n",
    "import numpy as np\n",
    "\n",
    "# data visualization\n",
    "import matplotlib.pyplot as plt\n",
    "import seaborn as sns\n",
    "\n",
    "# text processing\n",
    "import re\n",
    "import nltk\n",
    "from nltk.tokenize import word_tokenize, sent_tokenize\n",
    "from nltk.corpus import stopwords\n",
    "from nltk.stem.wordnet import WordNetLemmatizer\n",
    "# nltk.download('stopwords')\n",
    "# nltk.download('wordnet')\n",
    "# nltk.download('punkt')\n",
    "stopwords = set(stopwords.words('english'))\n",
    "\n",
    "# pytorch\n",
    "import torch\n",
    "from torch import nn\n",
    "import torch.nn.functional as F\n",
    "from torch.optim import Adam\n",
    "from torch.utils.data import TensorDataset, DataLoader\n",
    "\n",
    "# sklearn\n",
    "from sklearn.metrics import classification_report, confusion_matrix\n",
    "\n",
    "# utils\n",
    "import os\n",
    "from tqdm import tqdm\n",
    "tqdm.pandas()\n",
    "from collections import Counter\n",
    "import optuna\n",
    "\n",
    "device = torch.device(\"cuda\" if torch.cuda.is_available() else \"cpu\")\n",
    "print(device)"
   ]
  },
  {
   "cell_type": "markdown",
   "metadata": {},
   "source": [
    "Doc : https://www.kaggle.com/code/affand20/imdb-with-pytorch"
   ]
  },
  {
   "cell_type": "markdown",
   "metadata": {},
   "source": [
    "## Chargment et étude préliminaire du jeu de données"
   ]
  },
  {
   "cell_type": "markdown",
   "metadata": {},
   "source": [
    "L'objectif du projet est de réussir à obtenir un modèle efficace permettant de prédire si un commentaire laissé en ligne par un spectateur ayant vu un film est une critique positive ou négative de ce film. Pour cela on veut comparer les performances prédictives de 5 modèles différents : \n",
    "- 3 types de RNN (Recurrent Neural Network) : un RNN \"classique\", un LSTM (Long Short-Terme Memory) et un GRU (Gated Recurrent Unit)\n",
    "- un CNN (Convolutionnal Neural Netowork) \n",
    "- un MLP (MultiPerceptron Layer)"
   ]
  },
  {
   "cell_type": "code",
   "execution_count": 2,
   "metadata": {},
   "outputs": [],
   "source": [
    "data = pd.read_csv('data/IMDB Dataset.csv')"
   ]
  },
  {
   "cell_type": "markdown",
   "metadata": {},
   "source": [
    "On transforme ensuite les labels des classes (ou sentiment) qui sont des chaînes de caractères en valeurs numériques. Le label \"positive\" ou \"négative\" renvoie à la critique des spectateurs ayant vu le film et ayant laissé un commentaire. Un sentiment \"postifif\" sera associé au label 1 tandis qu'un sentiment négatif sera associé au label 0."
   ]
  },
  {
   "cell_type": "code",
   "execution_count": 3,
   "metadata": {},
   "outputs": [
    {
     "name": "stderr",
     "output_type": "stream",
     "text": [
      "100%|██████████| 50000/50000 [00:00<00:00, 878771.07it/s]\n"
     ]
    },
    {
     "data": {
      "text/html": [
       "<div>\n",
       "<style scoped>\n",
       "    .dataframe tbody tr th:only-of-type {\n",
       "        vertical-align: middle;\n",
       "    }\n",
       "\n",
       "    .dataframe tbody tr th {\n",
       "        vertical-align: top;\n",
       "    }\n",
       "\n",
       "    .dataframe thead th {\n",
       "        text-align: right;\n",
       "    }\n",
       "</style>\n",
       "<table border=\"1\" class=\"dataframe\">\n",
       "  <thead>\n",
       "    <tr style=\"text-align: right;\">\n",
       "      <th></th>\n",
       "      <th>review</th>\n",
       "      <th>sentiment</th>\n",
       "      <th>label</th>\n",
       "    </tr>\n",
       "  </thead>\n",
       "  <tbody>\n",
       "    <tr>\n",
       "      <th>0</th>\n",
       "      <td>One of the other reviewers has mentioned that ...</td>\n",
       "      <td>positive</td>\n",
       "      <td>1</td>\n",
       "    </tr>\n",
       "    <tr>\n",
       "      <th>1</th>\n",
       "      <td>A wonderful little production. &lt;br /&gt;&lt;br /&gt;The...</td>\n",
       "      <td>positive</td>\n",
       "      <td>1</td>\n",
       "    </tr>\n",
       "    <tr>\n",
       "      <th>2</th>\n",
       "      <td>I thought this was a wonderful way to spend ti...</td>\n",
       "      <td>positive</td>\n",
       "      <td>1</td>\n",
       "    </tr>\n",
       "    <tr>\n",
       "      <th>3</th>\n",
       "      <td>Basically there's a family where a little boy ...</td>\n",
       "      <td>negative</td>\n",
       "      <td>0</td>\n",
       "    </tr>\n",
       "    <tr>\n",
       "      <th>4</th>\n",
       "      <td>Petter Mattei's \"Love in the Time of Money\" is...</td>\n",
       "      <td>positive</td>\n",
       "      <td>1</td>\n",
       "    </tr>\n",
       "  </tbody>\n",
       "</table>\n",
       "</div>"
      ],
      "text/plain": [
       "                                              review sentiment  label\n",
       "0  One of the other reviewers has mentioned that ...  positive      1\n",
       "1  A wonderful little production. <br /><br />The...  positive      1\n",
       "2  I thought this was a wonderful way to spend ti...  positive      1\n",
       "3  Basically there's a family where a little boy ...  negative      0\n",
       "4  Petter Mattei's \"Love in the Time of Money\" is...  positive      1"
      ]
     },
     "execution_count": 3,
     "metadata": {},
     "output_type": "execute_result"
    }
   ],
   "source": [
    "def transform_label(label):\n",
    "    return 1 if label == 'positive' else 0\n",
    "\n",
    "data['label'] = data['sentiment'].progress_apply(transform_label)\n",
    "data.head()"
   ]
  },
  {
   "cell_type": "code",
   "execution_count": 4,
   "metadata": {},
   "outputs": [
    {
     "data": {
      "text/plain": [
       "sentiment\n",
       "positive    25000\n",
       "negative    25000\n",
       "Name: count, dtype: int64"
      ]
     },
     "execution_count": 4,
     "metadata": {},
     "output_type": "execute_result"
    }
   ],
   "source": [
    "data.sentiment.value_counts()"
   ]
  },
  {
   "cell_type": "markdown",
   "metadata": {},
   "source": [
    "On remarque que le jeu de données est équilibré : la moitié des films ont reçu des critiques \"positives\" et l'autre moitié des critiques \"négatives\"."
   ]
  },
  {
   "cell_type": "code",
   "execution_count": 5,
   "metadata": {},
   "outputs": [
    {
     "name": "stderr",
     "output_type": "stream",
     "text": [
      "100%|██████████| 50000/50000 [00:00<00:00, 75103.18it/s]\n"
     ]
    }
   ],
   "source": [
    "data['token_length'] = data.review.progress_apply(lambda x: len(x.split()))"
   ]
  },
  {
   "cell_type": "code",
   "execution_count": 6,
   "metadata": {},
   "outputs": [
    {
     "data": {
      "text/plain": [
       "count    25000.000000\n",
       "mean       232.849320\n",
       "std        177.497046\n",
       "min         10.000000\n",
       "25%        125.000000\n",
       "50%        172.000000\n",
       "75%        284.000000\n",
       "max       2470.000000\n",
       "Name: token_length, dtype: float64"
      ]
     },
     "execution_count": 6,
     "metadata": {},
     "output_type": "execute_result"
    }
   ],
   "source": [
    "data_pos = data[data['label'] == 1]\n",
    "data_pos['token_length'].describe()"
   ]
  },
  {
   "cell_type": "markdown",
   "metadata": {},
   "source": [
    "On s'intéresse ici à la longueur des commentaires positifs. En moyenne elle est d'environ 233 tokens et varie de 10 à 2470 tokens. Un token, on le verra par la suite, désigne en fait un mot, un symbole de ponctuation ou tout autre symbole spécial."
   ]
  },
  {
   "cell_type": "code",
   "execution_count": 7,
   "metadata": {},
   "outputs": [
    {
     "data": {
      "text/plain": [
       "count    25000.000000\n",
       "mean       229.464560\n",
       "std        164.947795\n",
       "min          4.000000\n",
       "25%        128.000000\n",
       "50%        174.000000\n",
       "75%        278.000000\n",
       "max       1522.000000\n",
       "Name: token_length, dtype: float64"
      ]
     },
     "execution_count": 7,
     "metadata": {},
     "output_type": "execute_result"
    }
   ],
   "source": [
    "data_neg = data[data['label'] == 0]\n",
    "data_neg['token_length'].describe()"
   ]
  },
  {
   "cell_type": "markdown",
   "metadata": {},
   "source": [
    "En répétant le même processus pour les commentaires négatifs, on constate que la moyenne des commentaires négatifs, ainsi que les premiers, deuxième et troisième quartiles ont des longueurs proches de celles des commentaires positifs. Le nombre de tokens ne semblent donc pas influencer le type de commentaires (positifs ou négatifs). On le visualise aisément sur le boxplot suivant :"
   ]
  },
  {
   "cell_type": "code",
   "execution_count": 8,
   "metadata": {},
   "outputs": [
    {
     "name": "stderr",
     "output_type": "stream",
     "text": [
      "/tmp/ipykernel_6238/127678021.py:3: FutureWarning: \n",
      "\n",
      "Passing `palette` without assigning `hue` is deprecated and will be removed in v0.14.0. Assign the `x` variable to `hue` and set `legend=False` for the same effect.\n",
      "\n",
      "  sns.boxplot(x='sentiment', y='token_length', data=data, palette='Set2')\n"
     ]
    },
    {
     "data": {
      "image/png": "[encoded data removed]",
      "text/plain": [
       "<Figure size 800x600 with 1 Axes>"
      ]
     },
     "metadata": {},
     "output_type": "display_data"
    }
   ],
   "source": [
    "# Création du boxplot\n",
    "plt.figure(figsize=(8, 6))\n",
    "sns.boxplot(x='sentiment', y='token_length', data=data, palette='Set2')\n",
    "\n",
    "plt.title('Boxplot du nombre de tokens pour les critiques positives et négatives')\n",
    "plt.xlabel('Sentiment')\n",
    "plt.ylabel('Nombre de tokens')\n",
    "\n",
    "plt.show()"
   ]
  },
  {
   "cell_type": "markdown",
   "metadata": {},
   "source": [
    "On peut également visualiser quelques exemples de commentaires positifs et négatifs."
   ]
  },
  {
   "cell_type": "code",
   "execution_count": 9,
   "metadata": {},
   "outputs": [
    {
     "name": "stdout",
     "output_type": "stream",
     "text": [
      "Positive\n",
      "Brilliant and moving performances by Tom Courtenay and Peter Finch.\n",
      "Adrian Pasdar is excellent is this film. He makes a fascinating woman.\n",
      "This is a great movie. Too bad it is not available on home video.\n",
      "\n",
      "Negative\n",
      "Primary plot!Primary direction!Poor interpretation.\n",
      "Read the book, forget the movie!\n",
      "What a script, what a story, what a mess!\n"
     ]
    }
   ],
   "source": [
    "# Exemples de commentaires positifs\n",
    "print('Positive')\n",
    "print(data_pos[data_pos['token_length'] == data_pos['token_length'].min()]['review'].item())\n",
    "print(data_pos[data_pos['token_length'] == data_pos['token_length'].min() + 2]['review'].item())\n",
    "print(data_pos[data_pos['token_length'] == data_pos['token_length'].min() + 4]['review'].item())\n",
    "print()\n",
    "\n",
    "# Exemples de commentaires négatifs\n",
    "print('Negative')\n",
    "print(data_neg[data_neg['token_length'] == data_neg['token_length'].min()]['review'].item())\n",
    "print(data_neg[data_neg['token_length'] == data_neg['token_length'].min() + 2]['review'].item())\n",
    "print(data_neg[data_neg['token_length'] == data_neg['token_length'].min() + 5]['review'].item())"
   ]
  },
  {
   "cell_type": "markdown",
   "metadata": {},
   "source": [
    "# Nettoyage du texte"
   ]
  },
  {
   "cell_type": "markdown",
   "metadata": {},
   "source": [
    "## Séléction des caractères conservés"
   ]
  },
  {
   "cell_type": "markdown",
   "metadata": {},
   "source": [
    "L'objectif de cette section est de retirer tous les éléments des textes pouvant être présents mais que l'on ne juge pas utiles d'exploiter pour détecter la nature du commentaire. <br>\n",
    "Par exemple \"\\<b\\> I loooove this movie !!! 😁 \\<b\\>\" devient \"I love this movie !\""
   ]
  },
  {
   "cell_type": "code",
   "execution_count": 10,
   "metadata": {},
   "outputs": [],
   "source": [
    "def rm_link(text):\n",
    "    return re.sub(r'https?://\\S+|www\\.\\S+', '', text) # supprime les liens url\n",
    "\n",
    "def rm_punct(text):\n",
    "    # supprime des signes de ponctuation spécifiques (mais . ! et ? sont conservés par exemple)\n",
    "    return re.sub(r'[\\\"\\#\\$\\%\\&\\'\\(\\)\\*\\+\\/\\:\\;\\<\\=\\>\\@\\[\\\\\\]\\^\\_\\`\\{\\|\\}\\~]', ' ', text)\n",
    "\n",
    "def rm_html(text):\n",
    "    return re.sub(r'<[^>]+>', '', text) # supprime les balises html\n",
    "\n",
    "def space_bt_punct(text):\n",
    "    pattern = r'([.,!?-])'\n",
    "    s = re.sub(pattern, r' \\1 ', text) # ajoute des espaces entre la ponctuation et les mots\n",
    "    s = re.sub(r'\\s{2,}', ' ', text) # enleve les doubles espaces\n",
    "    return s\n",
    "\n",
    "def rm_number(text):\n",
    "    return re.sub(r'\\d+', '', text) # supprime les chiffres\n",
    "\n",
    "def rm_whitespaces(text):\n",
    "    return re.sub(r' +', ' ', text) # supprime les espaces excédentaires\n",
    "\n",
    "def rm_nonascii(text):\n",
    "    return re.sub(r'[^\\x00-\\x7f]', r'', text) # supprime les caracteres non ASCII\n",
    "\n",
    "def rm_emoji(text):\n",
    "    # supprime les emojis\n",
    "    emojis = re.compile(\n",
    "        '['\n",
    "        u'\\U0001F600-\\U0001F64F'\n",
    "        u'\\U0001F300-\\U0001F5FF'\n",
    "        u'\\U0001F680-\\U0001F6FF'\n",
    "        u'\\U0001F1E0-\\U0001F1FF'\n",
    "        u'\\U00002702-\\U000027B0'\n",
    "        u'\\U000024C2-\\U0001F251'\n",
    "        ']+',\n",
    "        flags=re.UNICODE\n",
    "    )\n",
    "    return emojis.sub(r'', text)\n",
    "\n",
    "def spell_correction(text):\n",
    "    return re.sub(r'(.)\\1+', r'\\1\\1', text) # supprime les repetitions de lettres consecutives (de sorte à en laisser au plus 2)\n",
    "\n",
    "def clean_pipeline(text):    \n",
    "    no_link = rm_link(text)\n",
    "    no_html = rm_html(no_link)\n",
    "    space_punct = space_bt_punct(no_html)\n",
    "    no_punct = rm_punct(space_punct)\n",
    "    no_number = rm_number(no_punct)\n",
    "    no_whitespaces = rm_whitespaces(no_number)\n",
    "    no_nonasci = rm_nonascii(no_whitespaces)\n",
    "    no_emoji = rm_emoji(no_nonasci)\n",
    "    spell_corrected = spell_correction(no_emoji)\n",
    "    return spell_corrected"
   ]
  },
  {
   "cell_type": "markdown",
   "metadata": {},
   "source": [
    "## Transformation en tokens"
   ]
  },
  {
   "cell_type": "markdown",
   "metadata": {},
   "source": [
    "Pour transformer notre texte en tokens, il existe différentes possibilités. Ici le choix a été fait d'un découpage \"mot par mot\" via la fonction word_tokenize, c'est-à-dire que chaque token est assimilé à un mot du texte. <br>\n",
    "De plus, les \"stopwords\" c'est-à-dire les mots n'apportant pas un sens significatif au texte (ex : \"the\", \"at\", \"and\"...), sont retirés du texte et chaque mot est récupéré sous une forme simplifiée appelée forme \"canonique\" (ex : \"running\", \"runs\" et \"runner\" deviennent \"run\"). <br>\n",
    "Ainsi, par exemple la séquence ['The', 'men', 'are', 'fighting'] est récupérée sous la forme \"men fight\"."
   ]
  },
  {
   "cell_type": "code",
   "execution_count": 11,
   "metadata": {},
   "outputs": [],
   "source": [
    "def tokenize(text):\n",
    "    return word_tokenize(text)\n",
    "\n",
    "def rm_stopwords(text):\n",
    "    return [i for i in text if i not in stopwords] # élimine les \"stopwords\"\n",
    "\n",
    "def lemmatize(text):\n",
    "    lemmatizer = WordNetLemmatizer() # récupère chaque mot dans sa forme \"canonique\"\n",
    "    lemmas = [lemmatizer.lemmatize(t) for t in text] # à nouveau élimination des \"stopwords\"\n",
    "    return rm_stopwords(lemmas)\n",
    "\n",
    "def preprocess_pipeline(text):\n",
    "    tokens = tokenize(text)\n",
    "    no_stopwords = rm_stopwords(tokens)\n",
    "    lemmas = lemmatize(no_stopwords)\n",
    "    return ' '.join(lemmas)"
   ]
  },
  {
   "cell_type": "code",
   "execution_count": 12,
   "metadata": {},
   "outputs": [
    {
     "name": "stderr",
     "output_type": "stream",
     "text": [
      "100%|██████████| 50000/50000 [00:15<00:00, 3190.08it/s]\n",
      "  0%|          | 1/50000 [00:00<04:13, 196.92it/s]\n"
     ]
    },
    {
     "ename": "LookupError",
     "evalue": "\n**********************************************************************\n  Resource \u001b[93mpunkt_tab\u001b[0m not found.\n  Please use the NLTK Downloader to obtain the resource:\n\n  \u001b[31m>>> import nltk\n  >>> nltk.download('punkt_tab')\n  \u001b[0m\n  For more information see: https://www.nltk.org/data.html\n\n  Attempted to load \u001b[93mtokenizers/punkt_tab/english/\u001b[0m\n\n  Searched in:\n    - '/home/rabasquinho/nltk_data'\n    - '/home/rabasquinho/.conda/envs/torch/nltk_data'\n    - '/home/rabasquinho/.conda/envs/torch/share/nltk_data'\n    - '/home/rabasquinho/.conda/envs/torch/lib/nltk_data'\n    - '/usr/share/nltk_data'\n    - '/usr/local/share/nltk_data'\n    - '/usr/lib/nltk_data'\n    - '/usr/local/lib/nltk_data'\n**********************************************************************\n",
     "output_type": "error",
     "traceback": [
      "\u001b[0;31m---------------------------------------------------------------------------\u001b[0m",
      "\u001b[0;31mLookupError\u001b[0m                               Traceback (most recent call last)",
      "Cell \u001b[0;32mIn[12], line 2\u001b[0m\n\u001b[1;32m      1\u001b[0m data[\u001b[38;5;124m'\u001b[39m\u001b[38;5;124mclean\u001b[39m\u001b[38;5;124m'\u001b[39m] \u001b[38;5;241m=\u001b[39m data[\u001b[38;5;124m'\u001b[39m\u001b[38;5;124mreview\u001b[39m\u001b[38;5;124m'\u001b[39m]\u001b[38;5;241m.\u001b[39mprogress_apply(clean_pipeline) \u001b[38;5;66;03m# après nettoyage du texte\u001b[39;00m\n\u001b[0;32m----> 2\u001b[0m data[\u001b[38;5;124m'\u001b[39m\u001b[38;5;124mprocessed\u001b[39m\u001b[38;5;124m'\u001b[39m] \u001b[38;5;241m=\u001b[39m \u001b[43mdata\u001b[49m\u001b[43m[\u001b[49m\u001b[38;5;124;43m'\u001b[39;49m\u001b[38;5;124;43mclean\u001b[39;49m\u001b[38;5;124;43m'\u001b[39;49m\u001b[43m]\u001b[49m\u001b[38;5;241;43m.\u001b[39;49m\u001b[43mprogress_apply\u001b[49m\u001b[43m(\u001b[49m\u001b[43mpreprocess_pipeline\u001b[49m\u001b[43m)\u001b[49m \u001b[38;5;66;03m# après tokenization\u001b[39;00m\n\u001b[1;32m      3\u001b[0m data\u001b[38;5;241m.\u001b[39mhead()\n",
      "File \u001b[0;32m~/.conda/envs/torch/lib/python3.10/site-packages/tqdm/std.py:917\u001b[0m, in \u001b[0;36mtqdm.pandas.<locals>.inner_generator.<locals>.inner\u001b[0;34m(df, func, *args, **kwargs)\u001b[0m\n\u001b[1;32m    914\u001b[0m \u001b[38;5;66;03m# Apply the provided function (in **kwargs)\u001b[39;00m\n\u001b[1;32m    915\u001b[0m \u001b[38;5;66;03m# on the df using our wrapper (which provides bar updating)\u001b[39;00m\n\u001b[1;32m    916\u001b[0m \u001b[38;5;28;01mtry\u001b[39;00m:\n\u001b[0;32m--> 917\u001b[0m     \u001b[38;5;28;01mreturn\u001b[39;00m \u001b[38;5;28;43mgetattr\u001b[39;49m\u001b[43m(\u001b[49m\u001b[43mdf\u001b[49m\u001b[43m,\u001b[49m\u001b[43m \u001b[49m\u001b[43mdf_function\u001b[49m\u001b[43m)\u001b[49m\u001b[43m(\u001b[49m\u001b[43mwrapper\u001b[49m\u001b[43m,\u001b[49m\u001b[43m \u001b[49m\u001b[38;5;241;43m*\u001b[39;49m\u001b[38;5;241;43m*\u001b[39;49m\u001b[43mkwargs\u001b[49m\u001b[43m)\u001b[49m\n\u001b[1;32m    918\u001b[0m \u001b[38;5;28;01mfinally\u001b[39;00m:\n\u001b[1;32m    919\u001b[0m     t\u001b[38;5;241m.\u001b[39mclose()\n",
      "File \u001b[0;32m~/.conda/envs/torch/lib/python3.10/site-packages/pandas/core/series.py:4924\u001b[0m, in \u001b[0;36mSeries.apply\u001b[0;34m(self, func, convert_dtype, args, by_row, **kwargs)\u001b[0m\n\u001b[1;32m   4789\u001b[0m \u001b[38;5;28;01mdef\u001b[39;00m \u001b[38;5;21mapply\u001b[39m(\n\u001b[1;32m   4790\u001b[0m     \u001b[38;5;28mself\u001b[39m,\n\u001b[1;32m   4791\u001b[0m     func: AggFuncType,\n\u001b[0;32m   (...)\u001b[0m\n\u001b[1;32m   4796\u001b[0m     \u001b[38;5;241m*\u001b[39m\u001b[38;5;241m*\u001b[39mkwargs,\n\u001b[1;32m   4797\u001b[0m ) \u001b[38;5;241m-\u001b[39m\u001b[38;5;241m>\u001b[39m DataFrame \u001b[38;5;241m|\u001b[39m Series:\n\u001b[1;32m   4798\u001b[0m \u001b[38;5;250m    \u001b[39m\u001b[38;5;124;03m\"\"\"\u001b[39;00m\n\u001b[1;32m   4799\u001b[0m \u001b[38;5;124;03m    Invoke function on values of Series.\u001b[39;00m\n\u001b[1;32m   4800\u001b[0m \n\u001b[0;32m   (...)\u001b[0m\n\u001b[1;32m   4915\u001b[0m \u001b[38;5;124;03m    dtype: float64\u001b[39;00m\n\u001b[1;32m   4916\u001b[0m \u001b[38;5;124;03m    \"\"\"\u001b[39;00m\n\u001b[1;32m   4917\u001b[0m     \u001b[38;5;28;01mreturn\u001b[39;00m \u001b[43mSeriesApply\u001b[49m\u001b[43m(\u001b[49m\n\u001b[1;32m   4918\u001b[0m \u001b[43m        \u001b[49m\u001b[38;5;28;43mself\u001b[39;49m\u001b[43m,\u001b[49m\n\u001b[1;32m   4919\u001b[0m \u001b[43m        \u001b[49m\u001b[43mfunc\u001b[49m\u001b[43m,\u001b[49m\n\u001b[1;32m   4920\u001b[0m \u001b[43m        \u001b[49m\u001b[43mconvert_dtype\u001b[49m\u001b[38;5;241;43m=\u001b[39;49m\u001b[43mconvert_dtype\u001b[49m\u001b[43m,\u001b[49m\n\u001b[1;32m   4921\u001b[0m \u001b[43m        \u001b[49m\u001b[43mby_row\u001b[49m\u001b[38;5;241;43m=\u001b[39;49m\u001b[43mby_row\u001b[49m\u001b[43m,\u001b[49m\n\u001b[1;32m   4922\u001b[0m \u001b[43m        \u001b[49m\u001b[43margs\u001b[49m\u001b[38;5;241;43m=\u001b[39;49m\u001b[43margs\u001b[49m\u001b[43m,\u001b[49m\n\u001b[1;32m   4923\u001b[0m \u001b[43m        \u001b[49m\u001b[43mkwargs\u001b[49m\u001b[38;5;241;43m=\u001b[39;49m\u001b[43mkwargs\u001b[49m\u001b[43m,\u001b[49m\n\u001b[0;32m-> 4924\u001b[0m \u001b[43m    \u001b[49m\u001b[43m)\u001b[49m\u001b[38;5;241;43m.\u001b[39;49m\u001b[43mapply\u001b[49m\u001b[43m(\u001b[49m\u001b[43m)\u001b[49m\n",
      "File \u001b[0;32m~/.conda/envs/torch/lib/python3.10/site-packages/pandas/core/apply.py:1427\u001b[0m, in \u001b[0;36mSeriesApply.apply\u001b[0;34m(self)\u001b[0m\n\u001b[1;32m   1424\u001b[0m     \u001b[38;5;28;01mreturn\u001b[39;00m \u001b[38;5;28mself\u001b[39m\u001b[38;5;241m.\u001b[39mapply_compat()\n\u001b[1;32m   1426\u001b[0m \u001b[38;5;66;03m# self.func is Callable\u001b[39;00m\n\u001b[0;32m-> 1427\u001b[0m \u001b[38;5;28;01mreturn\u001b[39;00m \u001b[38;5;28;43mself\u001b[39;49m\u001b[38;5;241;43m.\u001b[39;49m\u001b[43mapply_standard\u001b[49m\u001b[43m(\u001b[49m\u001b[43m)\u001b[49m\n",
      "File \u001b[0;32m~/.conda/envs/torch/lib/python3.10/site-packages/pandas/core/apply.py:1507\u001b[0m, in \u001b[0;36mSeriesApply.apply_standard\u001b[0;34m(self)\u001b[0m\n\u001b[1;32m   1501\u001b[0m \u001b[38;5;66;03m# row-wise access\u001b[39;00m\n\u001b[1;32m   1502\u001b[0m \u001b[38;5;66;03m# apply doesn't have a `na_action` keyword and for backward compat reasons\u001b[39;00m\n\u001b[1;32m   1503\u001b[0m \u001b[38;5;66;03m# we need to give `na_action=\"ignore\"` for categorical data.\u001b[39;00m\n\u001b[1;32m   1504\u001b[0m \u001b[38;5;66;03m# TODO: remove the `na_action=\"ignore\"` when that default has been changed in\u001b[39;00m\n\u001b[1;32m   1505\u001b[0m \u001b[38;5;66;03m#  Categorical (GH51645).\u001b[39;00m\n\u001b[1;32m   1506\u001b[0m action \u001b[38;5;241m=\u001b[39m \u001b[38;5;124m\"\u001b[39m\u001b[38;5;124mignore\u001b[39m\u001b[38;5;124m\"\u001b[39m \u001b[38;5;28;01mif\u001b[39;00m \u001b[38;5;28misinstance\u001b[39m(obj\u001b[38;5;241m.\u001b[39mdtype, CategoricalDtype) \u001b[38;5;28;01melse\u001b[39;00m \u001b[38;5;28;01mNone\u001b[39;00m\n\u001b[0;32m-> 1507\u001b[0m mapped \u001b[38;5;241m=\u001b[39m \u001b[43mobj\u001b[49m\u001b[38;5;241;43m.\u001b[39;49m\u001b[43m_map_values\u001b[49m\u001b[43m(\u001b[49m\n\u001b[1;32m   1508\u001b[0m \u001b[43m    \u001b[49m\u001b[43mmapper\u001b[49m\u001b[38;5;241;43m=\u001b[39;49m\u001b[43mcurried\u001b[49m\u001b[43m,\u001b[49m\u001b[43m \u001b[49m\u001b[43mna_action\u001b[49m\u001b[38;5;241;43m=\u001b[39;49m\u001b[43maction\u001b[49m\u001b[43m,\u001b[49m\u001b[43m \u001b[49m\u001b[43mconvert\u001b[49m\u001b[38;5;241;43m=\u001b[39;49m\u001b[38;5;28;43mself\u001b[39;49m\u001b[38;5;241;43m.\u001b[39;49m\u001b[43mconvert_dtype\u001b[49m\n\u001b[1;32m   1509\u001b[0m \u001b[43m\u001b[49m\u001b[43m)\u001b[49m\n\u001b[1;32m   1511\u001b[0m \u001b[38;5;28;01mif\u001b[39;00m \u001b[38;5;28mlen\u001b[39m(mapped) \u001b[38;5;129;01mand\u001b[39;00m \u001b[38;5;28misinstance\u001b[39m(mapped[\u001b[38;5;241m0\u001b[39m], ABCSeries):\n\u001b[1;32m   1512\u001b[0m     \u001b[38;5;66;03m# GH#43986 Need to do list(mapped) in order to get treated as nested\u001b[39;00m\n\u001b[1;32m   1513\u001b[0m     \u001b[38;5;66;03m#  See also GH#25959 regarding EA support\u001b[39;00m\n\u001b[1;32m   1514\u001b[0m     \u001b[38;5;28;01mreturn\u001b[39;00m obj\u001b[38;5;241m.\u001b[39m_constructor_expanddim(\u001b[38;5;28mlist\u001b[39m(mapped), index\u001b[38;5;241m=\u001b[39mobj\u001b[38;5;241m.\u001b[39mindex)\n",
      "File \u001b[0;32m~/.conda/envs/torch/lib/python3.10/site-packages/pandas/core/base.py:921\u001b[0m, in \u001b[0;36mIndexOpsMixin._map_values\u001b[0;34m(self, mapper, na_action, convert)\u001b[0m\n\u001b[1;32m    918\u001b[0m \u001b[38;5;28;01mif\u001b[39;00m \u001b[38;5;28misinstance\u001b[39m(arr, ExtensionArray):\n\u001b[1;32m    919\u001b[0m     \u001b[38;5;28;01mreturn\u001b[39;00m arr\u001b[38;5;241m.\u001b[39mmap(mapper, na_action\u001b[38;5;241m=\u001b[39mna_action)\n\u001b[0;32m--> 921\u001b[0m \u001b[38;5;28;01mreturn\u001b[39;00m \u001b[43malgorithms\u001b[49m\u001b[38;5;241;43m.\u001b[39;49m\u001b[43mmap_array\u001b[49m\u001b[43m(\u001b[49m\u001b[43marr\u001b[49m\u001b[43m,\u001b[49m\u001b[43m \u001b[49m\u001b[43mmapper\u001b[49m\u001b[43m,\u001b[49m\u001b[43m \u001b[49m\u001b[43mna_action\u001b[49m\u001b[38;5;241;43m=\u001b[39;49m\u001b[43mna_action\u001b[49m\u001b[43m,\u001b[49m\u001b[43m \u001b[49m\u001b[43mconvert\u001b[49m\u001b[38;5;241;43m=\u001b[39;49m\u001b[43mconvert\u001b[49m\u001b[43m)\u001b[49m\n",
      "File \u001b[0;32m~/.conda/envs/torch/lib/python3.10/site-packages/pandas/core/algorithms.py:1743\u001b[0m, in \u001b[0;36mmap_array\u001b[0;34m(arr, mapper, na_action, convert)\u001b[0m\n\u001b[1;32m   1741\u001b[0m values \u001b[38;5;241m=\u001b[39m arr\u001b[38;5;241m.\u001b[39mastype(\u001b[38;5;28mobject\u001b[39m, copy\u001b[38;5;241m=\u001b[39m\u001b[38;5;28;01mFalse\u001b[39;00m)\n\u001b[1;32m   1742\u001b[0m \u001b[38;5;28;01mif\u001b[39;00m na_action \u001b[38;5;129;01mis\u001b[39;00m \u001b[38;5;28;01mNone\u001b[39;00m:\n\u001b[0;32m-> 1743\u001b[0m     \u001b[38;5;28;01mreturn\u001b[39;00m \u001b[43mlib\u001b[49m\u001b[38;5;241;43m.\u001b[39;49m\u001b[43mmap_infer\u001b[49m\u001b[43m(\u001b[49m\u001b[43mvalues\u001b[49m\u001b[43m,\u001b[49m\u001b[43m \u001b[49m\u001b[43mmapper\u001b[49m\u001b[43m,\u001b[49m\u001b[43m \u001b[49m\u001b[43mconvert\u001b[49m\u001b[38;5;241;43m=\u001b[39;49m\u001b[43mconvert\u001b[49m\u001b[43m)\u001b[49m\n\u001b[1;32m   1744\u001b[0m \u001b[38;5;28;01melse\u001b[39;00m:\n\u001b[1;32m   1745\u001b[0m     \u001b[38;5;28;01mreturn\u001b[39;00m lib\u001b[38;5;241m.\u001b[39mmap_infer_mask(\n\u001b[1;32m   1746\u001b[0m         values, mapper, mask\u001b[38;5;241m=\u001b[39misna(values)\u001b[38;5;241m.\u001b[39mview(np\u001b[38;5;241m.\u001b[39muint8), convert\u001b[38;5;241m=\u001b[39mconvert\n\u001b[1;32m   1747\u001b[0m     )\n",
      "File \u001b[0;32mlib.pyx:2972\u001b[0m, in \u001b[0;36mpandas._libs.lib.map_infer\u001b[0;34m()\u001b[0m\n",
      "File \u001b[0;32m~/.conda/envs/torch/lib/python3.10/site-packages/tqdm/std.py:912\u001b[0m, in \u001b[0;36mtqdm.pandas.<locals>.inner_generator.<locals>.inner.<locals>.wrapper\u001b[0;34m(*args, **kwargs)\u001b[0m\n\u001b[1;32m    906\u001b[0m \u001b[38;5;28;01mdef\u001b[39;00m \u001b[38;5;21mwrapper\u001b[39m(\u001b[38;5;241m*\u001b[39margs, \u001b[38;5;241m*\u001b[39m\u001b[38;5;241m*\u001b[39mkwargs):\n\u001b[1;32m    907\u001b[0m     \u001b[38;5;66;03m# update tbar correctly\u001b[39;00m\n\u001b[1;32m    908\u001b[0m     \u001b[38;5;66;03m# it seems `pandas apply` calls `func` twice\u001b[39;00m\n\u001b[1;32m    909\u001b[0m     \u001b[38;5;66;03m# on the first column/row to decide whether it can\u001b[39;00m\n\u001b[1;32m    910\u001b[0m     \u001b[38;5;66;03m# take a fast or slow code path; so stop when t.total==t.n\u001b[39;00m\n\u001b[1;32m    911\u001b[0m     t\u001b[38;5;241m.\u001b[39mupdate(n\u001b[38;5;241m=\u001b[39m\u001b[38;5;241m1\u001b[39m \u001b[38;5;28;01mif\u001b[39;00m \u001b[38;5;129;01mnot\u001b[39;00m t\u001b[38;5;241m.\u001b[39mtotal \u001b[38;5;129;01mor\u001b[39;00m t\u001b[38;5;241m.\u001b[39mn \u001b[38;5;241m<\u001b[39m t\u001b[38;5;241m.\u001b[39mtotal \u001b[38;5;28;01melse\u001b[39;00m \u001b[38;5;241m0\u001b[39m)\n\u001b[0;32m--> 912\u001b[0m     \u001b[38;5;28;01mreturn\u001b[39;00m \u001b[43mfunc\u001b[49m\u001b[43m(\u001b[49m\u001b[38;5;241;43m*\u001b[39;49m\u001b[43margs\u001b[49m\u001b[43m,\u001b[49m\u001b[43m \u001b[49m\u001b[38;5;241;43m*\u001b[39;49m\u001b[38;5;241;43m*\u001b[39;49m\u001b[43mkwargs\u001b[49m\u001b[43m)\u001b[49m\n",
      "Cell \u001b[0;32mIn[11], line 13\u001b[0m, in \u001b[0;36mpreprocess_pipeline\u001b[0;34m(text)\u001b[0m\n\u001b[1;32m     12\u001b[0m \u001b[38;5;28;01mdef\u001b[39;00m \u001b[38;5;21mpreprocess_pipeline\u001b[39m(text):\n\u001b[0;32m---> 13\u001b[0m     tokens \u001b[38;5;241m=\u001b[39m \u001b[43mtokenize\u001b[49m\u001b[43m(\u001b[49m\u001b[43mtext\u001b[49m\u001b[43m)\u001b[49m\n\u001b[1;32m     14\u001b[0m     no_stopwords \u001b[38;5;241m=\u001b[39m rm_stopwords(tokens)\n\u001b[1;32m     15\u001b[0m     lemmas \u001b[38;5;241m=\u001b[39m lemmatize(no_stopwords)\n",
      "Cell \u001b[0;32mIn[11], line 2\u001b[0m, in \u001b[0;36mtokenize\u001b[0;34m(text)\u001b[0m\n\u001b[1;32m      1\u001b[0m \u001b[38;5;28;01mdef\u001b[39;00m \u001b[38;5;21mtokenize\u001b[39m(text):\n\u001b[0;32m----> 2\u001b[0m     \u001b[38;5;28;01mreturn\u001b[39;00m \u001b[43mword_tokenize\u001b[49m\u001b[43m(\u001b[49m\u001b[43mtext\u001b[49m\u001b[43m)\u001b[49m\n",
      "File \u001b[0;32m~/.conda/envs/torch/lib/python3.10/site-packages/nltk/tokenize/__init__.py:142\u001b[0m, in \u001b[0;36mword_tokenize\u001b[0;34m(text, language, preserve_line)\u001b[0m\n\u001b[1;32m    127\u001b[0m \u001b[38;5;28;01mdef\u001b[39;00m \u001b[38;5;21mword_tokenize\u001b[39m(text, language\u001b[38;5;241m=\u001b[39m\u001b[38;5;124m\"\u001b[39m\u001b[38;5;124menglish\u001b[39m\u001b[38;5;124m\"\u001b[39m, preserve_line\u001b[38;5;241m=\u001b[39m\u001b[38;5;28;01mFalse\u001b[39;00m):\n\u001b[1;32m    128\u001b[0m \u001b[38;5;250m    \u001b[39m\u001b[38;5;124;03m\"\"\"\u001b[39;00m\n\u001b[1;32m    129\u001b[0m \u001b[38;5;124;03m    Return a tokenized copy of *text*,\u001b[39;00m\n\u001b[1;32m    130\u001b[0m \u001b[38;5;124;03m    using NLTK's recommended word tokenizer\u001b[39;00m\n\u001b[0;32m   (...)\u001b[0m\n\u001b[1;32m    140\u001b[0m \u001b[38;5;124;03m    :type preserve_line: bool\u001b[39;00m\n\u001b[1;32m    141\u001b[0m \u001b[38;5;124;03m    \"\"\"\u001b[39;00m\n\u001b[0;32m--> 142\u001b[0m     sentences \u001b[38;5;241m=\u001b[39m [text] \u001b[38;5;28;01mif\u001b[39;00m preserve_line \u001b[38;5;28;01melse\u001b[39;00m \u001b[43msent_tokenize\u001b[49m\u001b[43m(\u001b[49m\u001b[43mtext\u001b[49m\u001b[43m,\u001b[49m\u001b[43m \u001b[49m\u001b[43mlanguage\u001b[49m\u001b[43m)\u001b[49m\n\u001b[1;32m    143\u001b[0m     \u001b[38;5;28;01mreturn\u001b[39;00m [\n\u001b[1;32m    144\u001b[0m         token \u001b[38;5;28;01mfor\u001b[39;00m sent \u001b[38;5;129;01min\u001b[39;00m sentences \u001b[38;5;28;01mfor\u001b[39;00m token \u001b[38;5;129;01min\u001b[39;00m _treebank_word_tokenizer\u001b[38;5;241m.\u001b[39mtokenize(sent)\n\u001b[1;32m    145\u001b[0m     ]\n",
      "File \u001b[0;32m~/.conda/envs/torch/lib/python3.10/site-packages/nltk/tokenize/__init__.py:119\u001b[0m, in \u001b[0;36msent_tokenize\u001b[0;34m(text, language)\u001b[0m\n\u001b[1;32m    109\u001b[0m \u001b[38;5;28;01mdef\u001b[39;00m \u001b[38;5;21msent_tokenize\u001b[39m(text, language\u001b[38;5;241m=\u001b[39m\u001b[38;5;124m\"\u001b[39m\u001b[38;5;124menglish\u001b[39m\u001b[38;5;124m\"\u001b[39m):\n\u001b[1;32m    110\u001b[0m \u001b[38;5;250m    \u001b[39m\u001b[38;5;124;03m\"\"\"\u001b[39;00m\n\u001b[1;32m    111\u001b[0m \u001b[38;5;124;03m    Return a sentence-tokenized copy of *text*,\u001b[39;00m\n\u001b[1;32m    112\u001b[0m \u001b[38;5;124;03m    using NLTK's recommended sentence tokenizer\u001b[39;00m\n\u001b[0;32m   (...)\u001b[0m\n\u001b[1;32m    117\u001b[0m \u001b[38;5;124;03m    :param language: the model name in the Punkt corpus\u001b[39;00m\n\u001b[1;32m    118\u001b[0m \u001b[38;5;124;03m    \"\"\"\u001b[39;00m\n\u001b[0;32m--> 119\u001b[0m     tokenizer \u001b[38;5;241m=\u001b[39m \u001b[43m_get_punkt_tokenizer\u001b[49m\u001b[43m(\u001b[49m\u001b[43mlanguage\u001b[49m\u001b[43m)\u001b[49m\n\u001b[1;32m    120\u001b[0m     \u001b[38;5;28;01mreturn\u001b[39;00m tokenizer\u001b[38;5;241m.\u001b[39mtokenize(text)\n",
      "File \u001b[0;32m~/.conda/envs/torch/lib/python3.10/site-packages/nltk/tokenize/__init__.py:105\u001b[0m, in \u001b[0;36m_get_punkt_tokenizer\u001b[0;34m(language)\u001b[0m\n\u001b[1;32m     96\u001b[0m \u001b[38;5;129m@functools\u001b[39m\u001b[38;5;241m.\u001b[39mlru_cache\n\u001b[1;32m     97\u001b[0m \u001b[38;5;28;01mdef\u001b[39;00m \u001b[38;5;21m_get_punkt_tokenizer\u001b[39m(language\u001b[38;5;241m=\u001b[39m\u001b[38;5;124m\"\u001b[39m\u001b[38;5;124menglish\u001b[39m\u001b[38;5;124m\"\u001b[39m):\n\u001b[1;32m     98\u001b[0m \u001b[38;5;250m    \u001b[39m\u001b[38;5;124;03m\"\"\"\u001b[39;00m\n\u001b[1;32m     99\u001b[0m \u001b[38;5;124;03m    A constructor for the PunktTokenizer that utilizes\u001b[39;00m\n\u001b[1;32m    100\u001b[0m \u001b[38;5;124;03m    a lru cache for performance.\u001b[39;00m\n\u001b[0;32m   (...)\u001b[0m\n\u001b[1;32m    103\u001b[0m \u001b[38;5;124;03m    :type language: str\u001b[39;00m\n\u001b[1;32m    104\u001b[0m \u001b[38;5;124;03m    \"\"\"\u001b[39;00m\n\u001b[0;32m--> 105\u001b[0m     \u001b[38;5;28;01mreturn\u001b[39;00m \u001b[43mPunktTokenizer\u001b[49m\u001b[43m(\u001b[49m\u001b[43mlanguage\u001b[49m\u001b[43m)\u001b[49m\n",
      "File \u001b[0;32m~/.conda/envs/torch/lib/python3.10/site-packages/nltk/tokenize/punkt.py:1744\u001b[0m, in \u001b[0;36mPunktTokenizer.__init__\u001b[0;34m(self, lang)\u001b[0m\n\u001b[1;32m   1742\u001b[0m \u001b[38;5;28;01mdef\u001b[39;00m \u001b[38;5;21m__init__\u001b[39m(\u001b[38;5;28mself\u001b[39m, lang\u001b[38;5;241m=\u001b[39m\u001b[38;5;124m\"\u001b[39m\u001b[38;5;124menglish\u001b[39m\u001b[38;5;124m\"\u001b[39m):\n\u001b[1;32m   1743\u001b[0m     PunktSentenceTokenizer\u001b[38;5;241m.\u001b[39m\u001b[38;5;21m__init__\u001b[39m(\u001b[38;5;28mself\u001b[39m)\n\u001b[0;32m-> 1744\u001b[0m     \u001b[38;5;28;43mself\u001b[39;49m\u001b[38;5;241;43m.\u001b[39;49m\u001b[43mload_lang\u001b[49m\u001b[43m(\u001b[49m\u001b[43mlang\u001b[49m\u001b[43m)\u001b[49m\n",
      "File \u001b[0;32m~/.conda/envs/torch/lib/python3.10/site-packages/nltk/tokenize/punkt.py:1749\u001b[0m, in \u001b[0;36mPunktTokenizer.load_lang\u001b[0;34m(self, lang)\u001b[0m\n\u001b[1;32m   1746\u001b[0m \u001b[38;5;28;01mdef\u001b[39;00m \u001b[38;5;21mload_lang\u001b[39m(\u001b[38;5;28mself\u001b[39m, lang\u001b[38;5;241m=\u001b[39m\u001b[38;5;124m\"\u001b[39m\u001b[38;5;124menglish\u001b[39m\u001b[38;5;124m\"\u001b[39m):\n\u001b[1;32m   1747\u001b[0m     \u001b[38;5;28;01mfrom\u001b[39;00m \u001b[38;5;21;01mnltk\u001b[39;00m\u001b[38;5;21;01m.\u001b[39;00m\u001b[38;5;21;01mdata\u001b[39;00m \u001b[38;5;28;01mimport\u001b[39;00m find\n\u001b[0;32m-> 1749\u001b[0m     lang_dir \u001b[38;5;241m=\u001b[39m \u001b[43mfind\u001b[49m\u001b[43m(\u001b[49m\u001b[38;5;124;43mf\u001b[39;49m\u001b[38;5;124;43m\"\u001b[39;49m\u001b[38;5;124;43mtokenizers/punkt_tab/\u001b[39;49m\u001b[38;5;132;43;01m{\u001b[39;49;00m\u001b[43mlang\u001b[49m\u001b[38;5;132;43;01m}\u001b[39;49;00m\u001b[38;5;124;43m/\u001b[39;49m\u001b[38;5;124;43m\"\u001b[39;49m\u001b[43m)\u001b[49m\n\u001b[1;32m   1750\u001b[0m     \u001b[38;5;28mself\u001b[39m\u001b[38;5;241m.\u001b[39m_params \u001b[38;5;241m=\u001b[39m load_punkt_params(lang_dir)\n\u001b[1;32m   1751\u001b[0m     \u001b[38;5;28mself\u001b[39m\u001b[38;5;241m.\u001b[39m_lang \u001b[38;5;241m=\u001b[39m lang\n",
      "File \u001b[0;32m~/.conda/envs/torch/lib/python3.10/site-packages/nltk/data.py:579\u001b[0m, in \u001b[0;36mfind\u001b[0;34m(resource_name, paths)\u001b[0m\n\u001b[1;32m    577\u001b[0m sep \u001b[38;5;241m=\u001b[39m \u001b[38;5;124m\"\u001b[39m\u001b[38;5;124m*\u001b[39m\u001b[38;5;124m\"\u001b[39m \u001b[38;5;241m*\u001b[39m \u001b[38;5;241m70\u001b[39m\n\u001b[1;32m    578\u001b[0m resource_not_found \u001b[38;5;241m=\u001b[39m \u001b[38;5;124mf\u001b[39m\u001b[38;5;124m\"\u001b[39m\u001b[38;5;130;01m\\n\u001b[39;00m\u001b[38;5;132;01m{\u001b[39;00msep\u001b[38;5;132;01m}\u001b[39;00m\u001b[38;5;130;01m\\n\u001b[39;00m\u001b[38;5;132;01m{\u001b[39;00mmsg\u001b[38;5;132;01m}\u001b[39;00m\u001b[38;5;130;01m\\n\u001b[39;00m\u001b[38;5;132;01m{\u001b[39;00msep\u001b[38;5;132;01m}\u001b[39;00m\u001b[38;5;130;01m\\n\u001b[39;00m\u001b[38;5;124m\"\u001b[39m\n\u001b[0;32m--> 579\u001b[0m \u001b[38;5;28;01mraise\u001b[39;00m \u001b[38;5;167;01mLookupError\u001b[39;00m(resource_not_found)\n",
      "\u001b[0;31mLookupError\u001b[0m: \n**********************************************************************\n  Resource \u001b[93mpunkt_tab\u001b[0m not found.\n  Please use the NLTK Downloader to obtain the resource:\n\n  \u001b[31m>>> import nltk\n  >>> nltk.download('punkt_tab')\n  \u001b[0m\n  For more information see: https://www.nltk.org/data.html\n\n  Attempted to load \u001b[93mtokenizers/punkt_tab/english/\u001b[0m\n\n  Searched in:\n    - '/home/rabasquinho/nltk_data'\n    - '/home/rabasquinho/.conda/envs/torch/nltk_data'\n    - '/home/rabasquinho/.conda/envs/torch/share/nltk_data'\n    - '/home/rabasquinho/.conda/envs/torch/lib/nltk_data'\n    - '/usr/share/nltk_data'\n    - '/usr/local/share/nltk_data'\n    - '/usr/lib/nltk_data'\n    - '/usr/local/lib/nltk_data'\n**********************************************************************\n"
     ]
    }
   ],
   "source": [
    "data['clean'] = data['review'].progress_apply(clean_pipeline) # après nettoyage du texte\n",
    "data['processed'] = data['clean'].progress_apply(preprocess_pipeline) # après tokenization\n",
    "data.head()"
   ]
  },
  {
   "cell_type": "markdown",
   "metadata": {},
   "source": [
    "# Encodage des textes"
   ]
  },
  {
   "cell_type": "markdown",
   "metadata": {},
   "source": [
    "Pour la suite, pour réaliser la prédiction de classe, on ne conserve que les textes prétraîtés ainsi que leurs labels."
   ]
  },
  {
   "cell_type": "code",
   "execution_count": 2,
   "metadata": {},
   "outputs": [
    {
     "data": {
      "text/html": [
       "<div>\n",
       "<style scoped>\n",
       "    .dataframe tbody tr th:only-of-type {\n",
       "        vertical-align: middle;\n",
       "    }\n",
       "\n",
       "    .dataframe tbody tr th {\n",
       "        vertical-align: top;\n",
       "    }\n",
       "\n",
       "    .dataframe thead th {\n",
       "        text-align: right;\n",
       "    }\n",
       "</style>\n",
       "<table border=\"1\" class=\"dataframe\">\n",
       "  <thead>\n",
       "    <tr style=\"text-align: right;\">\n",
       "      <th></th>\n",
       "      <th>processed</th>\n",
       "      <th>label</th>\n",
       "    </tr>\n",
       "  </thead>\n",
       "  <tbody>\n",
       "    <tr>\n",
       "      <th>0</th>\n",
       "      <td>One reviewer mentioned watching Oz episode hoo...</td>\n",
       "      <td>1</td>\n",
       "    </tr>\n",
       "    <tr>\n",
       "      <th>1</th>\n",
       "      <td>A wonderful little production . The filming te...</td>\n",
       "      <td>1</td>\n",
       "    </tr>\n",
       "    <tr>\n",
       "      <th>2</th>\n",
       "      <td>I thought wonderful way spend time hot summer ...</td>\n",
       "      <td>1</td>\n",
       "    </tr>\n",
       "    <tr>\n",
       "      <th>3</th>\n",
       "      <td>Basically family little boy Jake think zombie ...</td>\n",
       "      <td>0</td>\n",
       "    </tr>\n",
       "    <tr>\n",
       "      <th>4</th>\n",
       "      <td>Petter Mattei Love Time Money visually stunnin...</td>\n",
       "      <td>1</td>\n",
       "    </tr>\n",
       "  </tbody>\n",
       "</table>\n",
       "</div>"
      ],
      "text/plain": [
       "                                           processed  label\n",
       "0  One reviewer mentioned watching Oz episode hoo...      1\n",
       "1  A wonderful little production . The filming te...      1\n",
       "2  I thought wonderful way spend time hot summer ...      1\n",
       "3  Basically family little boy Jake think zombie ...      0\n",
       "4  Petter Mattei Love Time Money visually stunnin...      1"
      ]
     },
     "execution_count": 2,
     "metadata": {},
     "output_type": "execute_result"
    }
   ],
   "source": [
    "data_pred = pd.read_csv('data/IMDB_Pred.csv') # data précédent avec uniquement les colonnes processed et label\n",
    "data_pred.head()"
   ]
  },
  {
   "cell_type": "markdown",
   "metadata": {},
   "source": [
    "Puisque dans notre étude un mot est associé à un token, il est nécessaire de trouver une méthode de codage de chacun de ces tokens, c'est-à-dire leur affecter une valeur numérique (de sorte à ce qu'un même mot ait toujours le même \"numéro de token\").\n",
    "\n",
    "Pour cela, on commence par extraire toutes les critiques (que l'on vient de prétraitées), on les fusionne en une seule chaîne de texte, puis on les divise en mots individuels. <br>\n",
    "On crée ensuite un vocabulaire en comptant la fréquence des mots, puis en triant les mots par fréquence. Le mot le plus fréquent parmi toutes les critiques se verra donc affecter la valeur numérique la plus élevée parmi les tokens, et le mot le moins présent parmi tous les textes la valeur la plus basse. On génère alors deux dictionnaires : \n",
    "\n",
    "- int2word : associe un entier (index) à chaque mot.\n",
    "- word2int : associe chaque mot à son index."
   ]
  },
  {
   "cell_type": "code",
   "execution_count": 3,
   "metadata": {},
   "outputs": [
    {
     "data": {
      "text/plain": [
       "['One',\n",
       " 'reviewer',\n",
       " 'mentioned',\n",
       " 'watching',\n",
       " 'Oz',\n",
       " 'episode',\n",
       " 'hooked',\n",
       " '.',\n",
       " 'They',\n",
       " 'right',\n",
       " ',',\n",
       " 'exactly',\n",
       " 'happened',\n",
       " '.',\n",
       " 'The',\n",
       " 'first',\n",
       " 'thing',\n",
       " 'struck',\n",
       " 'Oz',\n",
       " 'brutality',\n",
       " 'unflinching',\n",
       " 'scene',\n",
       " 'violence',\n",
       " ',',\n",
       " 'set',\n",
       " 'right',\n",
       " 'word',\n",
       " 'GO',\n",
       " '.',\n",
       " 'Trust',\n",
       " ',',\n",
       " 'show',\n",
       " 'faint',\n",
       " 'hearted',\n",
       " 'timid',\n",
       " '.',\n",
       " 'This',\n",
       " 'show',\n",
       " 'pull',\n",
       " 'punch',\n",
       " 'regard',\n",
       " 'drug',\n",
       " ',',\n",
       " 'sex',\n",
       " 'violence',\n",
       " '.',\n",
       " 'Its',\n",
       " 'hardcore',\n",
       " ',',\n",
       " 'classic',\n",
       " 'use',\n",
       " 'word',\n",
       " '.',\n",
       " 'It',\n",
       " 'called',\n",
       " 'OZ',\n",
       " 'nickname',\n",
       " 'given',\n",
       " 'Oswald',\n",
       " 'Maximum',\n",
       " 'Security',\n",
       " 'State',\n",
       " 'Penitentary',\n",
       " '.',\n",
       " 'It',\n",
       " 'focus',\n",
       " 'mainly',\n",
       " 'Emerald',\n",
       " 'City',\n",
       " ',',\n",
       " 'experimental',\n",
       " 'section',\n",
       " 'prison',\n",
       " 'cell',\n",
       " 'glass',\n",
       " 'front',\n",
       " 'face',\n",
       " 'inwards',\n",
       " ',',\n",
       " 'privacy',\n",
       " 'high',\n",
       " 'agenda',\n",
       " '.',\n",
       " 'Em',\n",
       " 'City',\n",
       " 'home',\n",
       " 'many',\n",
       " '.',\n",
       " '.',\n",
       " 'Aryans',\n",
       " ',',\n",
       " 'Muslims',\n",
       " ',',\n",
       " 'gangsta',\n",
       " ',',\n",
       " 'Latinos',\n",
       " ',',\n",
       " 'Christians',\n",
       " ',',\n",
       " 'Italians']"
      ]
     },
     "execution_count": 3,
     "metadata": {},
     "output_type": "execute_result"
    }
   ],
   "source": [
    "texts = data_pred.processed.values \n",
    "words = ' '.join(texts) # fusionne tous les textes en un seul\n",
    "\n",
    "words = words.split() # recupère la liste de tous les mots\n",
    "\n",
    "words[:100]"
   ]
  },
  {
   "cell_type": "code",
   "execution_count": 4,
   "metadata": {},
   "outputs": [],
   "source": [
    "# Création des dictionnaires\n",
    "counter = Counter(words)\n",
    "vocab = sorted(counter, key=counter.get, reverse=True) # trie les mots par fréquence décroissante\n",
    "int2word = dict(enumerate(vocab, 1))\n",
    "int2word[0] = '<PAD>'\n",
    "word2int = {word: id for id, word in int2word.items()}"
   ]
  },
  {
   "cell_type": "markdown",
   "metadata": {},
   "source": [
    "Maintenant que notre dictionnaire est crée, on peut encoder chacun des textes."
   ]
  },
  {
   "cell_type": "code",
   "execution_count": 5,
   "metadata": {},
   "outputs": [
    {
     "name": "stderr",
     "output_type": "stream",
     "text": [
      "100%|██████████| 50000/50000 [00:01<00:00, 29752.57it/s]"
     ]
    },
    {
     "name": "stdout",
     "output_type": "stream",
     "text": [
      "[191, 1083, 930, 81, 3722, 186, 3030, 1, 118, 114]\n",
      "[47, 328, 59, 244, 1, 7, 1267, 1608, 17880, 4]\n",
      "[3, 95, 328, 30, 1041, 13, 845, 1774, 2633, 2]\n"
     ]
    },
    {
     "name": "stderr",
     "output_type": "stream",
     "text": [
      "\n"
     ]
    }
   ],
   "source": [
    "texts_enc = [[word2int[word] for word in review.split()] for review in tqdm(texts)]\n",
    "\n",
    "# Affichage des 10 premiers encodages des 3 premiers textes\n",
    "for i in range(3):\n",
    "    print(texts_enc[i][:10])"
   ]
  },
  {
   "cell_type": "markdown",
   "metadata": {},
   "source": [
    "Enfin, pour les modèles de RNN avec lesquels on souhaite ensuite travailler pour réaliser notre prédiction, il est nécessaire que toutes nos entrées soient de même taille. Or, nous l'avons vu au début de l'étude, on dispose de textes de taille différentes. Il est donc nécessaire de fixer une taille \"standard\" des entrées : pour les critiques \"plus courtes\" on fait du padding (c'est-à-dire qu'on complète la séquence avec un identifiant spécial \\<PAD\\>) et pour celles \"plus longues\", la séquence est tronquée.\n",
    "\n",
    "Pour le choix de la taille standard, il vaut mieux une valeur qui limite le nombre de textes tronqués, tout en restreignant la taille totale des séquences. Souvent, pour des réseaux tels que des LSTM ou GRU, la taille des séquences utilisées est de 128 ou 256. Ici, en prenant une taille de 256, on se rend compte qu'une grande majorité des séquences n'aura pas à être tronquée. Ce sera uniquement le cas des séquences excessivement longues (avec notamment 1721 tokens pour la plus longue séquence)."
   ]
  },
  {
   "cell_type": "code",
   "execution_count": 6,
   "metadata": {},
   "outputs": [
    {
     "name": "stdout",
     "output_type": "stream",
     "text": [
      "Longueur moyenne des textes : 157.7677\n",
      "Longueur médiane des textes : 119.0\n",
      "Longueur maximale des textes : 1721\n"
     ]
    }
   ],
   "source": [
    "# Calcul des longueurs des revues\n",
    "texts_lengths = [len(review.split()) for review in texts]\n",
    "\n",
    "# Calcul de la moyenne et de la médiane\n",
    "avg_length = np.mean(texts_lengths)\n",
    "median_length = np.median(texts_lengths)\n",
    "max_length = np.max(texts_lengths)\n",
    "\n",
    "# Affichage des résultats\n",
    "print(f\"Longueur moyenne des textes : {avg_length}\")\n",
    "print(f\"Longueur médiane des textes : {median_length}\")\n",
    "print(f\"Longueur maximale des textes : {max_length}\")"
   ]
  },
  {
   "cell_type": "code",
   "execution_count": 7,
   "metadata": {},
   "outputs": [
    {
     "name": "stderr",
     "output_type": "stream",
     "text": [
      "/tmp/ipykernel_5151/1896687383.py:3: FutureWarning: \n",
      "\n",
      "Passing `palette` without assigning `hue` is deprecated and will be removed in v0.14.0. Assign the `x` variable to `hue` and set `legend=False` for the same effect.\n",
      "\n",
      "  sns.boxplot(data=texts_lengths, palette='Set2')\n"
     ]
    },
    {
     "data": {
      "image/png": "[encoded data removed]",
      "text/plain": [
       "<Figure size 800x600 with 1 Axes>"
      ]
     },
     "metadata": {},
     "output_type": "display_data"
    }
   ],
   "source": [
    "# Création du boxplot\n",
    "plt.figure(figsize=(8, 6))\n",
    "sns.boxplot(data=texts_lengths, palette='Set2')\n",
    "\n",
    "plt.title('Boxplot du nombre de tokens dans les différents textes')\n",
    "plt.ylabel('Nombre de tokens')\n",
    "\n",
    "plt.show()"
   ]
  },
  {
   "cell_type": "code",
   "execution_count": 8,
   "metadata": {},
   "outputs": [
    {
     "data": {
      "text/plain": [
       "array([[  191,  1083,   930],\n",
       "       [   47,   328,    59],\n",
       "       [    3,    95,   328],\n",
       "       [ 2408,   136,    59],\n",
       "       [70998, 10569,  1081],\n",
       "       [ 2795,     4,    13],\n",
       "       [    3,   197,    18],\n",
       "       [   14,    31,   427],\n",
       "       [47907,   980,   359],\n",
       "       [   64,    10,   125]])"
      ]
     },
     "execution_count": 8,
     "metadata": {},
     "output_type": "execute_result"
    }
   ],
   "source": [
    "def pad_features(texts, pad_id, seq_length=256):\n",
    "    # pad_id est l'indice de l'identifiant spécial <PAD> \n",
    "\n",
    "    sequences = np.full((len(texts), seq_length), pad_id, dtype=int) # initialisation d'une matrice feature de longueur seq_length avec l'element <PAD>\n",
    "\n",
    "    for i, row in enumerate(texts):\n",
    "        sequences[i, :len(row)] = np.array(row)[:seq_length] # feature est completee par les elements de la sequence d'entree review\n",
    "\n",
    "    return sequences\n",
    "\n",
    "seq_length = 256\n",
    "sequences = pad_features(texts_enc, pad_id=word2int['<PAD>'], seq_length=seq_length)\n",
    "\n",
    "assert len(sequences) == len(texts_enc)\n",
    "assert len(sequences[0]) == seq_length\n",
    "\n",
    "sequences[:10, :3] # 3 premiers élèments des 10 premières séquences"
   ]
  },
  {
   "cell_type": "code",
   "execution_count": 9,
   "metadata": {},
   "outputs": [],
   "source": [
    "labels = data_pred.label.to_numpy() # conversion des labels en numpy"
   ]
  },
  {
   "cell_type": "markdown",
   "metadata": {},
   "source": [
    "# Modèles de prédiction"
   ]
  },
  {
   "cell_type": "markdown",
   "metadata": {},
   "source": [
    "## Séparation du jeu de données"
   ]
  },
  {
   "cell_type": "code",
   "execution_count": 10,
   "metadata": {},
   "outputs": [
    {
     "name": "stdout",
     "output_type": "stream",
     "text": [
      "Taille des échantillons:\n",
      "========================\n",
      "Train set: (40000, 256)\n",
      "Validation set: (5000, 256)\n",
      "Test set: (5000, 256)\n"
     ]
    }
   ],
   "source": [
    "# Choix des ratios pour la séparation des données\n",
    "train_size = .8     # utilisation de 80% des données pour l'apprentissage et 20% pour le test\n",
    "val_size = .5       # utilisation de 50% des données test pour la validation (Total : 80% apprentissage, 10% validation, 10% test)\n",
    "\n",
    "# Données d'apprentissage\n",
    "split_id = int(len(sequences) * train_size)\n",
    "train_x, remain_x = sequences[:split_id], sequences[split_id:]\n",
    "train_y, remain_y = labels[:split_id], labels[split_id:]\n",
    "\n",
    "# Données de validation et de test\n",
    "split_val_id = int(len(remain_x) * val_size)\n",
    "val_x, test_x = remain_x[:split_val_id], remain_x[split_val_id:]\n",
    "val_y, test_y = remain_y[:split_val_id], remain_y[split_val_id:]\n",
    "\n",
    "# print out the shape\n",
    "print('Taille des échantillons:')\n",
    "print('========================')\n",
    "print('Train set: {}'.format(train_x.shape))\n",
    "print('Validation set: {}'.format(val_x.shape))\n",
    "print('Test set: {}'.format(test_x.shape))"
   ]
  },
  {
   "cell_type": "code",
   "execution_count": 11,
   "metadata": {},
   "outputs": [
    {
     "name": "stdout",
     "output_type": "stream",
     "text": [
      "Échantillon d'apprentissage :\n",
      "Nombre de critiques positives : 20007\n",
      "Nombre de critiques négatives : 19993\n",
      "\n",
      "Échantillon de validation :\n",
      "Nombre de critiques positives : 2463\n",
      "Nombre de critiques négatives : 2537\n",
      "\n",
      "Échantillon test :\n",
      "Nombre de critiques positives : 2530\n",
      "Nombre de critiques négatives : 2470\n",
      "\n"
     ]
    }
   ],
   "source": [
    "# Répartition des labels dans les échantillons\n",
    "\n",
    "print(\"Échantillon d'apprentissage :\")\n",
    "print(\"Nombre de critiques positives : \" + str(len(train_y[train_y == 0])))\n",
    "print(\"Nombre de critiques négatives : \" + str(len(train_y[train_y == 1])))\n",
    "print()\n",
    "\n",
    "print(\"Échantillon de validation :\")\n",
    "print(\"Nombre de critiques positives : \" + str(len(val_y[val_y == 0])))\n",
    "print(\"Nombre de critiques négatives : \" + str(len(val_y[val_y == 1])))\n",
    "print()\n",
    "\n",
    "print(\"Échantillon test :\")\n",
    "print(\"Nombre de critiques positives : \" + str(len(test_y[test_y == 0])))\n",
    "print(\"Nombre de critiques négatives : \" + str(len(test_y[test_y == 1])))\n",
    "print()\n"
   ]
  },
  {
   "cell_type": "markdown",
   "metadata": {},
   "source": [
    "Nos classes sont donc toujours réparties de manière équitable dans les différents échantillons."
   ]
  },
  {
   "cell_type": "code",
   "execution_count": 12,
   "metadata": {},
   "outputs": [],
   "source": [
    "batch_size = 128\n",
    "\n",
    "# Création des tenseurs\n",
    "train_set = TensorDataset(torch.from_numpy(train_x), torch.from_numpy(train_y))\n",
    "valid_set = TensorDataset(torch.from_numpy(val_x), torch.from_numpy(val_y))\n",
    "test_set = TensorDataset(torch.from_numpy(test_x), torch.from_numpy(test_y))\n",
    "\n",
    "# Création des DataLoaders\n",
    "train_loader = DataLoader(train_set, shuffle=True, batch_size=batch_size)\n",
    "val_loader = DataLoader(valid_set, shuffle=True, batch_size=batch_size)\n",
    "test_loader = DataLoader(test_set, shuffle=True, batch_size=batch_size)"
   ]
  },
  {
   "cell_type": "markdown",
   "metadata": {},
   "source": [
    "## Création des modèles de prédiction"
   ]
  },
  {
   "cell_type": "markdown",
   "metadata": {},
   "source": [
    "L'objectif dès à présent est de réussir à obtenir un modèle capable de prédire, à partir d'une critique d'un spectateur, la classe de cette critique : \"positive\" ou \"négative\". On a ici un problème de classification binaire (le modèle doit retourner 0 pour une critique négative et 1 pour une critique positive). Ceci justfie qu'en sortie de nos modèles, on utlise une fonction d'activation de type sigmoïde (en plus de renvoyer des valeurs comprises entre 0 et 1, elle contraint les valeurs renvoyées à être proches des valeurs extrêmes).\n",
    "\n",
    "Les données récupérées précédemment via les loaders sont au format (batch_size, seq_length) et contiennent des entiers qui représentent des indices de mots dans le vocabulaire (nos tokens). Ces indices n'ont pas de signification intrinsèque pour le modèle. On va donc utiliser dans chacun des modèles de prédiction une couche d'embedding qui transforme ces indices en représentations vectorielles continues dans un espace de dimension embedding_size. Cela permettra de capturer les relations et similitudes entre les mots. Pour chaque mot (représenté par son indice), la couche d'embedding associera un vecteur dense de taille embedding_size. Ces vecteurs seront appris pendant l'entraînement pour capturer des relations sémantiques entre les mots. Ainsi, les mots ayant des significations proches ou apparaissant dans des contextes similaires auront des vecteurs proches dans l'espace des embeddings. <br>\n",
    "On aurait pu envisager le cas où les données passées en entrée au modèle étaient déja vectorisées et ainsi se passer de l'étape d'embedding dans les modèles."
   ]
  },
  {
   "cell_type": "markdown",
   "metadata": {},
   "source": [
    "### Choix des hyperparamètres"
   ]
  },
  {
   "cell_type": "markdown",
   "metadata": {},
   "source": [
    "Les hyperparamètres ont initialement été fixés de manière arbitraire. On cherchera à les optimiser dans une section ultérieure, en les adaptant à chaque modèle."
   ]
  },
  {
   "cell_type": "code",
   "execution_count": 13,
   "metadata": {},
   "outputs": [],
   "source": [
    "vocab_size = len(word2int)\n",
    "output_size = 1\n",
    "\n",
    "# Liste des hyperparamètres\n",
    "embedding_size = 256\n",
    "hidden_size = 512\n",
    "n_layers = 2\n",
    "dropout=0.25\n",
    "dropout_layer = 0.3\n",
    "lr = 0.001\n",
    "epochs = 5\n",
    "grad_clip = 5 # permet d'éviter le problème d'exploding gradients"
   ]
  },
  {
   "cell_type": "markdown",
   "metadata": {},
   "source": [
    "### Création des modèles"
   ]
  },
  {
   "cell_type": "markdown",
   "metadata": {},
   "source": [
    "On crée d'abord un modèle de RNN \"classique\" en utilisant la fonction <i> nn.RNN </i> du package torch. La fonction d'activation des couches cachées du réseau peut-être au choix une ReLU ou une tanh. Ici, nous avons choisi d'utiliser la fonction d'activation tanh (une ReLU risque en effet d'être instable, d'une part car les états cachés peuvent exploser (la fonction n'étant pas bornée) et d'autre part car si une valeur négative est transmise, les neurones deviennent inactifs (il y  a donc un risque que trop de neurones deviennent inactifs)).\n",
    "\n",
    "Par ailleurs, pour les trois modèles de RNN (classique, LSTM et GRU), des couches de dropout ont été introduites à deux niveaux :\n",
    "- Au niveau des connexions entre les couches récurrentes : il empêche le surapprentissage en rendant les connexions entre ces couches moins dépendantes.\n",
    "- Hors de la structure récurrente  : au niveau des couches denses pour régulariser les activations avant de passer à la phase finale de prédiction. Il permet donc d'éviter le surapprentissage des sorties globales.\n",
    "\n",
    "\n",
    "Dans la même logique d'éviter le surapprentissage, dans le MLP des couches de dropout ont été introduites au niveau des différentes couches denses, et dans le CNN au niveau de la dernière couche dense (à nouveau juste avant la prédiction finale)."
   ]
  },
  {
   "cell_type": "code",
   "execution_count": 40,
   "metadata": {},
   "outputs": [],
   "source": [
    "class Modele_RNN(nn.Module):\n",
    "    def __init__(self, vocab_size, output_size, hidden_size=128, embedding_size=400, n_layers=2, dropout=0.2, dropout_layer = 0.3):\n",
    "        super(Modele_RNN, self).__init__()\n",
    "        self.embedding = nn.Embedding(vocab_size, embedding_size)\n",
    "        self.rnn = nn.RNN(embedding_size, hidden_size, n_layers, nonlinearity='tanh', dropout=dropout, batch_first=True)\n",
    "        self.dropout = nn.Dropout(dropout_layer)\n",
    "        self.fc = nn.Linear(hidden_size, output_size)\n",
    "        self.sigmoid = nn.Sigmoid()\n",
    "\n",
    "    def forward(self, x):\n",
    "        x = x.long()\n",
    "        x = self.embedding(x)\n",
    "        o, _ = self.rnn(x)\n",
    "        o = o[:, -1, :]\n",
    "        o = self.dropout(o)\n",
    "        o = self.fc(o)\n",
    "        o = self.sigmoid(o)\n",
    "        return o\n"
   ]
  },
  {
   "cell_type": "code",
   "execution_count": 41,
   "metadata": {},
   "outputs": [
    {
     "name": "stdout",
     "output_type": "stream",
     "text": [
      "Modele_RNN(\n",
      "  (embedding): Embedding(121332, 256)\n",
      "  (rnn): RNN(256, 512, num_layers=2, batch_first=True, dropout=0.25)\n",
      "  (dropout): Dropout(p=0.3, inplace=False)\n",
      "  (fc): Linear(in_features=512, out_features=1, bias=True)\n",
      "  (sigmoid): Sigmoid()\n",
      ")\n"
     ]
    }
   ],
   "source": [
    "model_RNN = Modele_RNN(vocab_size, output_size, hidden_size, embedding_size, n_layers, dropout, dropout_layer)\n",
    "print(model_RNN)"
   ]
  },
  {
   "cell_type": "code",
   "execution_count": 16,
   "metadata": {},
   "outputs": [],
   "source": [
    "class Modele_LSTM(nn.Module):\n",
    "    def __init__(self, vocab_size, output_size, hidden_size=128, embedding_size=400, n_layers=2, dropout=0.2, dropout_layer = 0.3):\n",
    "        super(Modele_LSTM, self).__init__()\n",
    "\n",
    "        self.embedding = nn.Embedding(vocab_size, embedding_size) # couche d'embedding pour \"mapper\" les entrées en vecteurs\n",
    "        self.lstm = nn.LSTM(embedding_size, hidden_size, n_layers, dropout=dropout, batch_first=True)\n",
    "        self.dropout = nn.Dropout(dropout_layer)\n",
    "        self.fc = nn.Linear(hidden_size, output_size)\n",
    "        self.sigmoid = nn.Sigmoid()\n",
    "\n",
    "    def forward(self, x):\n",
    "        \n",
    "        x = x.long() # conversion en entiers longs\n",
    "        x = self.embedding(x)\n",
    "        o, _ =  self.lstm(x) # 'o' = la sortie à chaque pas de temps\n",
    "        o = o[:, -1, :] # récupération de la dernière sortie temporelle\n",
    "        o = self.dropout(o) # desactivation aléatoire des neurones (pour éviter le surapprentissage)\n",
    "        o = self.fc(o) # output_size=1 car classification binaire\n",
    "        o = self.sigmoid(o) # fonction d'activation sigmoïde pour la prédiction (renvoie une proba entre 0 et 1 d'appartenir à la classe positive)\n",
    "\n",
    "        return o\n",
    "        "
   ]
  },
  {
   "cell_type": "code",
   "execution_count": 17,
   "metadata": {},
   "outputs": [
    {
     "name": "stdout",
     "output_type": "stream",
     "text": [
      "Modele_LSTM(\n",
      "  (embedding): Embedding(121332, 256)\n",
      "  (lstm): LSTM(256, 512, num_layers=2, batch_first=True, dropout=0.25)\n",
      "  (dropout): Dropout(p=0.3, inplace=False)\n",
      "  (fc): Linear(in_features=512, out_features=1, bias=True)\n",
      "  (sigmoid): Sigmoid()\n",
      ")\n"
     ]
    }
   ],
   "source": [
    "model_LSTM = Modele_LSTM(vocab_size, output_size, hidden_size, embedding_size, n_layers, dropout, dropout_layer)\n",
    "print(model_LSTM)"
   ]
  },
  {
   "cell_type": "code",
   "execution_count": 18,
   "metadata": {},
   "outputs": [],
   "source": [
    "class Modele_GRU(nn.Module):\n",
    "    def __init__(self, vocab_size, output_size, hidden_size=128, embedding_size=400, n_layers=2, dropout=0.2, dropout_layer = 0.3):\n",
    "        super(Modele_GRU, self).__init__()\n",
    "        self.embedding = nn.Embedding(vocab_size, embedding_size)\n",
    "        self.rnn = nn.GRU(embedding_size, hidden_size, n_layers, dropout=dropout, batch_first=True)\n",
    "        self.dropout = nn.Dropout(dropout_layer)\n",
    "        self.fc = nn.Linear(hidden_size, output_size)\n",
    "        self.sigmoid = nn.Sigmoid()\n",
    "\n",
    "    def forward(self, x):\n",
    "        x = x.long()\n",
    "        x = self.embedding(x)\n",
    "        o, _ = self.rnn(x)\n",
    "        o = o[:, -1, :]\n",
    "        o = self.dropout(o)\n",
    "        o = self.fc(o)\n",
    "        o = self.sigmoid(o)\n",
    "        return o\n"
   ]
  },
  {
   "cell_type": "code",
   "execution_count": 19,
   "metadata": {},
   "outputs": [
    {
     "name": "stdout",
     "output_type": "stream",
     "text": [
      "Modele_GRU(\n",
      "  (embedding): Embedding(121332, 256)\n",
      "  (rnn): GRU(256, 512, num_layers=2, batch_first=True, dropout=0.25)\n",
      "  (dropout): Dropout(p=0.3, inplace=False)\n",
      "  (fc): Linear(in_features=512, out_features=1, bias=True)\n",
      "  (sigmoid): Sigmoid()\n",
      ")\n"
     ]
    }
   ],
   "source": [
    "model_GRU = Modele_GRU(vocab_size, output_size, hidden_size, embedding_size, n_layers, dropout, dropout_layer)\n",
    "print(model_GRU)"
   ]
  },
  {
   "cell_type": "code",
   "execution_count": 20,
   "metadata": {},
   "outputs": [],
   "source": [
    "class Modele_MLP(nn.Module):\n",
    "    def __init__(self, vocab_size, output_size, embedding_size=256, hidden_size=512, dropout=0.25):\n",
    "        super(Modele_MLP, self).__init__()\n",
    "        \n",
    "        self.embedding = nn.Embedding(vocab_size, embedding_size)\n",
    "        self.fc1 = nn.Linear(embedding_size, hidden_size)\n",
    "        self.fc2 = nn.Linear(hidden_size, hidden_size)\n",
    "        self.fc3 = nn.Linear(hidden_size, output_size)\n",
    "        self.dropout = nn.Dropout(dropout)\n",
    "        self.sigmoid = nn.Sigmoid()\n",
    "\n",
    "        self.to(device)\n",
    "\n",
    "    def forward(self, x):\n",
    "        x = x.long().to(device)\n",
    "        x = self.embedding(x)\n",
    "        x = x.mean(dim=1)  # Moyenne sur la séquence de mots\n",
    "        \n",
    "        x = F.relu(self.fc1(x))\n",
    "        x = self.dropout(x)\n",
    "        x = F.relu(self.fc2(x))\n",
    "        x = self.dropout(x)\n",
    "        x = self.fc3(x)\n",
    "        x = self.sigmoid(x)\n",
    "\n",
    "        return x\n",
    "\n"
   ]
  },
  {
   "cell_type": "code",
   "execution_count": 21,
   "metadata": {},
   "outputs": [
    {
     "name": "stdout",
     "output_type": "stream",
     "text": [
      "Modele_MLP(\n",
      "  (embedding): Embedding(121332, 256)\n",
      "  (fc1): Linear(in_features=256, out_features=512, bias=True)\n",
      "  (fc2): Linear(in_features=512, out_features=512, bias=True)\n",
      "  (fc3): Linear(in_features=512, out_features=1, bias=True)\n",
      "  (dropout): Dropout(p=0.3, inplace=False)\n",
      "  (sigmoid): Sigmoid()\n",
      ")\n"
     ]
    }
   ],
   "source": [
    "model_MLP = Modele_MLP(vocab_size, output_size, embedding_size, hidden_size, dropout_layer)\n",
    "print(model_MLP)"
   ]
  },
  {
   "cell_type": "code",
   "execution_count": 22,
   "metadata": {},
   "outputs": [],
   "source": [
    "class Modele_CNN(nn.Module):\n",
    "    def __init__(self, vocab_size, output_size, embedding_size=400, n_filters=100, filter_sizes=[3, 4, 5], dropout=0.5):\n",
    "        super(Modele_CNN, self).__init__()\n",
    "        \n",
    "        self.embedding = nn.Embedding(vocab_size, embedding_size)\n",
    "        \n",
    "        self.convs = nn.ModuleList([\n",
    "            nn.Conv1d(in_channels=embedding_size, out_channels=n_filters, kernel_size=fs) # couches de convolution avec différentes tailles de filtres (par défault 3 pour des motifs plus locaux, 5 pour des motifs plus larges)\n",
    "            for fs in filter_sizes\n",
    "        ])\n",
    "\n",
    "        self.fc = nn.Linear(len(filter_sizes) * n_filters, output_size) # couche entièrement connectée\n",
    "        self.dropout = nn.Dropout(dropout)\n",
    "        self.sigmoid = nn.Sigmoid()\n",
    "\n",
    "    def forward(self, x):\n",
    "        x = x.long()\n",
    "        x = self.embedding(x)\n",
    "\n",
    "        x = x.transpose(1, 2)  # on intervertit les dimensions pour avoir le bon format pour la fonction Conv1D\n",
    "        conv_outputs = [F.relu(conv(x)) for conv in self.convs] # appel des différentes couches de convolution auxquelles on applique des fonctions d'activation de type ReLu\n",
    "        pooled_outputs = [F.max_pool1d(conv_output, conv_output.size(2)).squeeze(2) for conv_output in conv_outputs] # max_pooling pour réduire la dimension à chaque fois\n",
    "        x = torch.cat(pooled_outputs, dim=1) # concaténation des pooled_outputs\n",
    "        \n",
    "        x = self.dropout(x) # régularisation avec un dropout\n",
    "        x = self.fc(x) # couche entièrement connectée\n",
    "        x = self.sigmoid(x) # classification binaire\n",
    "        \n",
    "        return x\n"
   ]
  },
  {
   "cell_type": "code",
   "execution_count": 23,
   "metadata": {},
   "outputs": [
    {
     "name": "stdout",
     "output_type": "stream",
     "text": [
      "Modele_CNN(\n",
      "  (embedding): Embedding(121332, 256)\n",
      "  (convs): ModuleList(\n",
      "    (0): Conv1d(256, 100, kernel_size=(3,), stride=(1,))\n",
      "    (1): Conv1d(256, 100, kernel_size=(4,), stride=(1,))\n",
      "    (2): Conv1d(256, 100, kernel_size=(5,), stride=(1,))\n",
      "  )\n",
      "  (fc): Linear(in_features=300, out_features=1, bias=True)\n",
      "  (dropout): Dropout(p=0.3, inplace=False)\n",
      "  (sigmoid): Sigmoid()\n",
      ")\n"
     ]
    }
   ],
   "source": [
    "n_filters = 100 # 50 à 300\n",
    "filter_sizes=[3, 4, 5]\n",
    "\n",
    "model_CNN = Modele_CNN(vocab_size, output_size, embedding_size, n_filters, filter_sizes, dropout_layer)\n",
    "print(model_CNN)"
   ]
  },
  {
   "cell_type": "markdown",
   "metadata": {},
   "source": [
    "### Entraînement des modèles"
   ]
  },
  {
   "cell_type": "markdown",
   "metadata": {},
   "source": [
    "Pour tous les modèles, la fonction de perte utilisée est la BCE (Binary Cross-Entropy) car on a ici un problème de classification binaire. <br>\n",
    "L'optimiseur utilisé est quant à lui Adam, qui a révélé de bonnes performances dans des cas de classifications analogues dans la littérature."
   ]
  },
  {
   "cell_type": "markdown",
   "metadata": {},
   "source": [
    "#### Modèle naïf : exemple avec un modèle de type LSTM"
   ]
  },
  {
   "cell_type": "markdown",
   "metadata": {},
   "source": [
    "Dans un premier temps, on tente d'appliquer un modèle dit \"naïf\" de LSTM, c'est-à-dire que les paramètres utilisés ne sont pas optimisés. Cela permet simplement d'avoir un premier aperçu des performances du modèle. L'optimisation des hyperparamètres sera réalisée ultérieurement."
   ]
  },
  {
   "cell_type": "code",
   "execution_count": 24,
   "metadata": {},
   "outputs": [],
   "source": [
    "criterion = nn.BCELoss()  # Binary Cross-Entropy car classification binaire\n",
    "optim = Adam(model_LSTM.parameters(), lr=lr)\n",
    "print_every = 1\n",
    "history = {\n",
    "    'train_loss': [],\n",
    "    'train_acc': [],\n",
    "    'val_loss': [],\n",
    "    'val_acc': [],\n",
    "    'epochs': epochs\n",
    "}\n",
    "es_limit = 5"
   ]
  },
  {
   "cell_type": "markdown",
   "metadata": {},
   "source": [
    "Pour évaluer les performances du modèle :\n",
    "\n",
    "- On observe l'évolution de la fonction de perte (loss) des données d'apprentissage et de test : l'objectif est de voir si la loss diminue pour les deux ensemble de données.\n",
    "- Si la loss de la validation ne diminue pas pour 5 epochs consécutives, alors on arrête l'entraînement (early stopping).\n",
    "- On calcule à chaque epoch l'accuracy (c'est-à-dire le taux de bonnes prédictions globales) : plus il est élevé, plus le modèle est performant."
   ]
  },
  {
   "cell_type": "code",
   "execution_count": null,
   "metadata": {},
   "outputs": [
    {
     "name": "stderr",
     "output_type": "stream",
     "text": [
      "Training:  20%|██        | 1/5 [00:56<03:45, 56.31s/it, Val Loss: 0.695 | Val Acc: 0.511]"
     ]
    },
    {
     "name": "stdout",
     "output_type": "stream",
     "text": [
      "Epoch 1/5 | Train Loss: 0.694 Train Acc: 0.506 | Val Loss: 0.695 Val Acc: 0.511\n"
     ]
    },
    {
     "name": "stderr",
     "output_type": "stream",
     "text": [
      "Training:  60%|██████    | 3/5 [01:52<01:15, 37.92s/it, Val Loss: 0.692 | Val Acc: 0.507]"
     ]
    },
    {
     "name": "stdout",
     "output_type": "stream",
     "text": [
      "Epoch 2/5 | Train Loss: 0.693 Train Acc: 0.502 | Val Loss: 0.692 Val Acc: 0.507\n"
     ]
    },
    {
     "name": "stderr",
     "output_type": "stream",
     "text": [
      "Training: 100%|██████████| 5/5 [02:48<00:00, 45.26s/it, Training batch 1/313]            "
     ]
    },
    {
     "name": "stdout",
     "output_type": "stream",
     "text": [
      "Epoch 3/5 | Train Loss: 0.686 Train Acc: 0.526 | Val Loss: 0.693 Val Acc: 0.514\n",
      "[WARNING] Validation loss did not improved (0.692 --> 0.693)\n"
     ]
    },
    {
     "name": "stderr",
     "output_type": "stream",
     "text": [
      "Training: 6it [03:43, 35.83s/it, Val Loss: 0.560 | Val Acc: 0.729]                       "
     ]
    },
    {
     "name": "stdout",
     "output_type": "stream",
     "text": [
      "Epoch 4/5 | Train Loss: 0.552 Train Acc: 0.708 | Val Loss: 0.560 Val Acc: 0.729\n"
     ]
    },
    {
     "name": "stderr",
     "output_type": "stream",
     "text": [
      "Training: 7it [04:40, 41.52s/it, Val Loss: 0.407 | Val Acc: 0.837]"
     ]
    },
    {
     "name": "stdout",
     "output_type": "stream",
     "text": [
      "Epoch 5/5 | Train Loss: 0.350 Train Acc: 0.858 | Val Loss: 0.407 Val Acc: 0.837\n"
     ]
    },
    {
     "name": "stderr",
     "output_type": "stream",
     "text": [
      "Training: 100%|██████████| 5/5 [04:41<00:00, 56.32s/it, Val Loss: 0.407 | Val Acc: 0.837]\n"
     ]
    }
   ],
   "source": [
    "model_LSTM = model_LSTM.to(device)\n",
    "\n",
    "epochloop = tqdm(range(epochs), position=0, desc='Training', leave=True)\n",
    "\n",
    "# early stop trigger\n",
    "es_trigger = 0\n",
    "val_loss_min = torch.inf\n",
    "\n",
    "for e in epochloop:\n",
    "\n",
    "    #################\n",
    "    # training mode #\n",
    "    #################\n",
    "\n",
    "    model_LSTM.train()\n",
    "\n",
    "    train_loss = 0\n",
    "    train_acc = 0\n",
    "\n",
    "    for id, (feature, target) in enumerate(train_loader):\n",
    "        \n",
    "        epochloop.set_postfix_str(f'Training batch {id}/{len(train_loader)}')\n",
    "\n",
    "        feature, target = feature.to(device), target.to(device)\n",
    "\n",
    "        # reset de l'optimiseur\n",
    "        optim.zero_grad()\n",
    "\n",
    "        out = model_LSTM(feature)\n",
    "\n",
    "        # accuracy\n",
    "        predicted = torch.tensor([1 if i == True else 0 for i in out > 0.5], device=device)\n",
    "        equals = predicted == target\n",
    "        acc = torch.mean(equals.type(torch.FloatTensor))\n",
    "        train_acc += acc.item()\n",
    "\n",
    "        # loss\n",
    "        loss = criterion(out.squeeze(), target.float())\n",
    "        train_loss += loss.item()\n",
    "        loss.backward()\n",
    "\n",
    "        nn.utils.clip_grad_norm_(model_LSTM.parameters(), grad_clip)\n",
    "\n",
    "        # optimiseur mis à jour\n",
    "        optim.step()\n",
    "\n",
    "        # libère de la mémoire\n",
    "        del feature, target, predicted\n",
    "\n",
    "    history['train_loss'].append(train_loss / len(train_loader))\n",
    "    history['train_acc'].append(train_acc / len(train_loader))\n",
    "\n",
    "    ####################\n",
    "    # validation model #\n",
    "    ####################\n",
    "\n",
    "    model_LSTM.eval()\n",
    "\n",
    "    val_loss = 0\n",
    "    val_acc = 0\n",
    "\n",
    "    with torch.no_grad():\n",
    "        for id, (feature, target) in enumerate(val_loader):\n",
    "            \n",
    "            epochloop.set_postfix_str(f'Validation batch {id}/{len(val_loader)}')\n",
    "            \n",
    "            feature, target = feature.to(device), target.to(device)\n",
    "\n",
    "            out = model_LSTM(feature)\n",
    "\n",
    "            # accuracy\n",
    "            predicted = torch.tensor([1 if i == True else 0 for i in out > 0.5], device=device)\n",
    "            equals = predicted == target\n",
    "            acc = torch.mean(equals.type(torch.FloatTensor))\n",
    "            val_acc += acc.item()\n",
    "\n",
    "            # loss\n",
    "            loss = criterion(out.squeeze(), target.float())\n",
    "            val_loss += loss.item()\n",
    "\n",
    "            # libère de la mémoire\n",
    "            del feature, target, predicted\n",
    "\n",
    "        history['val_loss'].append(val_loss / len(val_loader))\n",
    "        history['val_acc'].append(val_acc / len(val_loader))\n",
    "\n",
    "    # repasse le modèle en mode entrainement\n",
    "    model_LSTM.train()\n",
    "\n",
    "    epochloop.set_postfix_str(f'Val Loss: {val_loss / len(val_loader):.3f} | Val Acc: {val_acc / len(val_loader):.3f}')\n",
    " \n",
    "    if (e+1) % print_every == 0:\n",
    "        epochloop.write(f'Epoch {e+1}/{epochs} | Train Loss: {train_loss / len(train_loader):.3f} Train Acc: {train_acc / len(train_loader):.3f} | Val Loss: {val_loss / len(val_loader):.3f} Val Acc: {val_acc / len(val_loader):.3f}')\n",
    "        epochloop.update()\n",
    "\n",
    "    # sauvegarde le modèle si la perte de validation diminue\n",
    "    if val_loss / len(val_loader) <= val_loss_min:\n",
    "        torch.save(model_LSTM.state_dict(), './sentiment_lstm.pt')\n",
    "        val_loss_min = val_loss / len(val_loader)\n",
    "        es_trigger = 0\n",
    "    else:\n",
    "        epochloop.write(f'[WARNING] Validation loss did not improved ({val_loss_min:.3f} --> {val_loss / len(val_loader):.3f})')\n",
    "        es_trigger += 1\n",
    "\n",
    "    # early stopping si le modèle ne s'améliore pas\n",
    "    if es_trigger >= es_limit:\n",
    "        epochloop.write(f'Early stopped at Epoch-{e+1}')\n",
    "        \n",
    "        history['epochs'] = e+1\n",
    "        break"
   ]
  },
  {
   "cell_type": "markdown",
   "metadata": {},
   "source": [
    "On affiche maintenant l'évolution de la loss et de l'accuracy au cours de l'entraînement."
   ]
  },
  {
   "cell_type": "code",
   "execution_count": null,
   "metadata": {},
   "outputs": [
    {
     "data": {
      "image/png": "[encoded data removed]",
      "text/plain": [
       "<Figure size 600x800 with 1 Axes>"
      ]
     },
     "metadata": {},
     "output_type": "display_data"
    }
   ],
   "source": [
    "# Affichage du taux de bonnes prédictions\n",
    "plt.figure(figsize=(6, 8))\n",
    "plt.plot(range(history['epochs']), history['train_acc'], label='Train Acc')\n",
    "plt.plot(range(history['epochs']), history['val_acc'], label='Val Acc')\n",
    "plt.xlabel(\"Epochs\")\n",
    "plt.legend()\n",
    "plt.show()"
   ]
  },
  {
   "cell_type": "code",
   "execution_count": null,
   "metadata": {},
   "outputs": [
    {
     "data": {
      "image/png": "[encoded data removed]",
      "text/plain": [
       "<Figure size 600x800 with 1 Axes>"
      ]
     },
     "metadata": {},
     "output_type": "display_data"
    }
   ],
   "source": [
    "# Affichage de la fonction de perte\n",
    "plt.figure(figsize=(6, 8))\n",
    "plt.plot(range(history['epochs']), history['train_loss'], label='Train Loss')\n",
    "plt.plot(range(history['epochs']), history['val_loss'], label='Val Loss')\n",
    "plt.xlabel(\"Epochs\")\n",
    "plt.legend()\n",
    "plt.show()"
   ]
  },
  {
   "cell_type": "markdown",
   "metadata": {},
   "source": [
    "On constate que le modèle non optimisé est déjà très performant :\n",
    "\n",
    "- La loss est décroissante au cours des itérations à la fois pour les données d'apprentissage et de validation (pas de surapprentissage).\n",
    "- On obtient de bonnes performances globales en terme de prédictions sur les deux ensembles de données (autour de 86% de bonnes prédictions pour l'apprentissage et de 84% pour la validation)."
   ]
  },
  {
   "cell_type": "markdown",
   "metadata": {},
   "source": [
    "#### Modèle optimisé LSTM"
   ]
  },
  {
   "cell_type": "markdown",
   "metadata": {},
   "source": [
    "On cherche maintenant à optimiser nos hyperparamètres afin de voir si l'on peut obtenir de meilleurs performances de prédiction. Pour cela, on a recours à de l'optimisation bayésienne.  Le principe est le suivant : on veut trouver les hyperparamètres qui minimisent une fonction objectif. Ici notre objectif est la minimisation de la validation loss, et pour chaque hyperparamètre que l'on veut optimiser, on donne une plage de valeurs possibles à la fonction. <br>\n",
    "Contrairement à des méthodes comme la recherche aléatoire ou par grille, l'optimisation bayésienne construit un modèle probabiliste (souvent un processus gaussien) pour approximer la fonction objectif. Au fur et à mesure, elle teste différentes combinaisons de paramètres et cherche un équilibre entre 2 critères : l'exploration d'une part (c'est-à-dire la recherche de nouvelles régions intéressantes) et l'exploitation d'autre part (c'est-à-dire tester les zones jugées prometteuses)."
   ]
  },
  {
   "cell_type": "code",
   "execution_count": 41,
   "metadata": {},
   "outputs": [],
   "source": [
    "def optim_LSTM(trial):\n",
    "    # Définir les hyperparamètres à tester\n",
    "    embedding_size = trial.suggest_int('embedding_size', 128, 512)\n",
    "    hidden_size = trial.suggest_int('hidden_size', 128, 512)\n",
    "    dropout = trial.suggest_uniform('dropout', 0.2, 0.5)\n",
    "    dropout_layer = trial.suggest_uniform('dropout_layer', 0.2, 0.5)\n",
    "    lr = trial.suggest_loguniform('lr', 1e-4, 1e-3)\n",
    "    batch_size = trial.suggest_int('batch_size', 64, 128)\n",
    "    epochs = trial.suggest_int('epochs', 5, 15)\n",
    "    n_layers = trial.suggest_int('n_layers', 2, 4)\n",
    "\n",
    "    # Créer un modèle avec ces hyperparamètres\n",
    "    model = Modele_LSTM(vocab_size, output_size, \n",
    "                        embedding_size=embedding_size, \n",
    "                        hidden_size=hidden_size, \n",
    "                        dropout=dropout,\n",
    "                        n_layers=n_layers,\n",
    "                        dropout_layer=dropout_layer).to(device)\n",
    "    \n",
    "    # Définir l'optimiseur et la fonction de perte\n",
    "    optimizer = Adam(model.parameters(), lr=lr)\n",
    "    \n",
    "    # DataLoader pour charger les données par batch\n",
    "    train_loader = DataLoader(train_set, batch_size=batch_size, shuffle=True)\n",
    "    val_loader = DataLoader(valid_set, batch_size=batch_size, shuffle=False)\n",
    "    \n",
    "    # Affichage de la barre de progression pour les époques\n",
    "    epochloop = tqdm(range(epochs), position=0, desc=f\"Trial {trial.number} | Training\", leave=True)\n",
    "    \n",
    "    # Entraîner le modèle pendant les 'epochs' suggérées\n",
    "    for epoch in epochloop:\n",
    "        model.train()\n",
    "        train_loss = 0\n",
    "        for feature, target in train_loader:\n",
    "            feature, target = feature.to(device), target.to(device)\n",
    "            optimizer.zero_grad()\n",
    "            out = model(feature)\n",
    "            loss = criterion(out.squeeze(), target.float())\n",
    "            loss.backward()\n",
    "            optimizer.step()\n",
    "            train_loss += loss.item()\n",
    "\n",
    "        # Validation du modèle\n",
    "        model.eval()\n",
    "        val_loss = 0\n",
    "        with torch.no_grad():\n",
    "            for feature, target in val_loader:\n",
    "                feature, target = feature.to(device), target.to(device)\n",
    "                out = model(feature)\n",
    "                loss = criterion(out.squeeze(), target.float())\n",
    "                val_loss += loss.item()\n",
    "\n",
    "        # Mise à jour de la barre de progression de l'époch avec la validation\n",
    "        epochloop.set_postfix({'val_loss': val_loss / len(val_loader)})\n",
    "    \n",
    "    # Retourner la perte de validation, qu'Optuna va minimiser\n",
    "    return val_loss / len(val_loader)\n",
    "\n",
    "\n"
   ]
  },
  {
   "cell_type": "code",
   "execution_count": 42,
   "metadata": {},
   "outputs": [
    {
     "name": "stderr",
     "output_type": "stream",
     "text": [
      "[I 2024-12-08 17:30:27,016] A new study created in memory with name: no-name-c1514544-7070-4c21-baec-a8a9e74fa1e8\n",
      "/tmp/ipykernel_6238/1306528238.py:5: FutureWarning: suggest_uniform has been deprecated in v3.0.0. This feature will be removed in v6.0.0. See https://github.com/optuna/optuna/releases/tag/v3.0.0. Use suggest_float instead.\n",
      "  dropout = trial.suggest_uniform('dropout', 0.2, 0.5)\n",
      "/tmp/ipykernel_6238/1306528238.py:6: FutureWarning: suggest_uniform has been deprecated in v3.0.0. This feature will be removed in v6.0.0. See https://github.com/optuna/optuna/releases/tag/v3.0.0. Use suggest_float instead.\n",
      "  dropout_layer = trial.suggest_uniform('dropout_layer', 0.2, 0.5)\n",
      "/tmp/ipykernel_6238/1306528238.py:7: FutureWarning: suggest_loguniform has been deprecated in v3.0.0. This feature will be removed in v6.0.0. See https://github.com/optuna/optuna/releases/tag/v3.0.0. Use suggest_float(..., log=True) instead.\n",
      "  lr = trial.suggest_loguniform('lr', 1e-4, 1e-3)\n",
      "Trial 0 | Training: 100%|██████████| 6/6 [08:03<00:00, 80.61s/it, val_loss=0.692]\n",
      "[I 2024-12-08 17:38:30,955] Trial 0 finished with value: 0.6917063701483939 and parameters: {'embedding_size': 225, 'hidden_size': 156, 'dropout': 0.4058662425400418, 'dropout_layer': 0.25308054663116875, 'lr': 0.00034910627926915957, 'batch_size': 70, 'epochs': 6, 'n_layers': 4}. Best is trial 0 with value: 0.6917063701483939.\n",
      "Trial 1 | Training: 100%|██████████| 15/15 [12:08<00:00, 48.55s/it, val_loss=0.367]\n",
      "[I 2024-12-08 17:50:39,562] Trial 1 finished with value: 0.36678659298922867 and parameters: {'embedding_size': 307, 'hidden_size': 235, 'dropout': 0.23505663011445388, 'dropout_layer': 0.2379955208593241, 'lr': 0.00034844805708791334, 'batch_size': 79, 'epochs': 15, 'n_layers': 3}. Best is trial 1 with value: 0.36678659298922867.\n",
      "Trial 2 | Training: 100%|██████████| 8/8 [08:21<00:00, 62.70s/it, val_loss=0.359]\n",
      "[I 2024-12-08 17:59:01,589] Trial 2 finished with value: 0.3594136829093351 and parameters: {'embedding_size': 357, 'hidden_size': 462, 'dropout': 0.3179092388749985, 'dropout_layer': 0.2509381610435122, 'lr': 0.0003302036064699447, 'batch_size': 86, 'epochs': 8, 'n_layers': 2}. Best is trial 2 with value: 0.3594136829093351.\n",
      "Trial 3 | Training: 100%|██████████| 7/7 [08:16<00:00, 70.95s/it, val_loss=0.693]\n",
      "[I 2024-12-08 18:07:18,401] Trial 3 finished with value: 0.6930907103750441 and parameters: {'embedding_size': 135, 'hidden_size': 149, 'dropout': 0.22425203502801683, 'dropout_layer': 0.27934484854378444, 'lr': 0.00019253970490933694, 'batch_size': 112, 'epochs': 7, 'n_layers': 4}. Best is trial 2 with value: 0.3594136829093351.\n",
      "Trial 4 | Training: 100%|██████████| 8/8 [10:29<00:00, 78.65s/it, val_loss=0.693]\n",
      "[I 2024-12-08 18:17:47,999] Trial 4 finished with value: 0.6934475193421046 and parameters: {'embedding_size': 372, 'hidden_size': 322, 'dropout': 0.23897139276153426, 'dropout_layer': 0.23256336814484224, 'lr': 0.0004823732159383446, 'batch_size': 84, 'epochs': 8, 'n_layers': 4}. Best is trial 2 with value: 0.3594136829093351.\n",
      "Trial 5 | Training: 100%|██████████| 15/15 [09:42<00:00, 38.86s/it, val_loss=0.655]\n",
      "[I 2024-12-08 18:27:31,367] Trial 5 finished with value: 0.654702519828623 and parameters: {'embedding_size': 494, 'hidden_size': 273, 'dropout': 0.20973588625779038, 'dropout_layer': 0.4974332804371748, 'lr': 0.00015102292820000054, 'batch_size': 116, 'epochs': 15, 'n_layers': 2}. Best is trial 2 with value: 0.3594136829093351.\n",
      "Trial 6 | Training: 100%|██████████| 6/6 [04:59<00:00, 49.95s/it, val_loss=0.674]\n",
      "[I 2024-12-08 18:32:31,344] Trial 6 finished with value: 0.6744710886687563 and parameters: {'embedding_size': 221, 'hidden_size': 425, 'dropout': 0.3535272848221354, 'dropout_layer': 0.49829469874580995, 'lr': 0.00012588215604364137, 'batch_size': 89, 'epochs': 6, 'n_layers': 2}. Best is trial 2 with value: 0.3594136829093351.\n",
      "Trial 7 | Training: 100%|██████████| 9/9 [08:43<00:00, 58.14s/it, val_loss=0.642]\n",
      "[I 2024-12-08 18:41:14,836] Trial 7 finished with value: 0.6418326115999066 and parameters: {'embedding_size': 241, 'hidden_size': 359, 'dropout': 0.47284607844729537, 'dropout_layer': 0.4739450086049858, 'lr': 0.00010338075329492275, 'batch_size': 83, 'epochs': 9, 'n_layers': 3}. Best is trial 2 with value: 0.3594136829093351.\n",
      "Trial 8 | Training: 100%|██████████| 7/7 [09:29<00:00, 81.36s/it, val_loss=0.693]\n",
      "[I 2024-12-08 18:50:44,755] Trial 8 finished with value: 0.6931764062713174 and parameters: {'embedding_size': 331, 'hidden_size': 377, 'dropout': 0.38340048862280807, 'dropout_layer': 0.3963669831950755, 'lr': 0.0003772128588224514, 'batch_size': 74, 'epochs': 7, 'n_layers': 4}. Best is trial 2 with value: 0.3594136829093351.\n",
      "Trial 9 | Training: 100%|██████████| 11/11 [08:10<00:00, 44.64s/it, val_loss=0.469]\n",
      "[I 2024-12-08 18:58:56,150] Trial 9 finished with value: 0.4690335824134502 and parameters: {'embedding_size': 358, 'hidden_size': 373, 'dropout': 0.3874517096365866, 'dropout_layer': 0.4980465221524912, 'lr': 0.0002977118447286587, 'batch_size': 108, 'epochs': 11, 'n_layers': 2}. Best is trial 2 with value: 0.3594136829093351.\n",
      "Trial 10 | Training: 100%|██████████| 11/11 [15:43<00:00, 85.77s/it, val_loss=0.401]\n",
      "[I 2024-12-08 19:14:40,177] Trial 10 finished with value: 0.40083598867058756 and parameters: {'embedding_size': 460, 'hidden_size': 493, 'dropout': 0.29812602832132307, 'dropout_layer': 0.321496147142282, 'lr': 0.000998710802567201, 'batch_size': 126, 'epochs': 11, 'n_layers': 3}. Best is trial 2 with value: 0.3594136829093351.\n",
      "Trial 11 | Training: 100%|██████████| 15/15 [12:11<00:00, 48.74s/it, val_loss=0.581]\n",
      "[I 2024-12-08 19:26:51,684] Trial 11 finished with value: 0.5805944281595724 and parameters: {'embedding_size': 394, 'hidden_size': 241, 'dropout': 0.29143998061117377, 'dropout_layer': 0.20133316103693738, 'lr': 0.0005967793191909311, 'batch_size': 94, 'epochs': 15, 'n_layers': 3}. Best is trial 2 with value: 0.3594136829093351.\n",
      "Trial 12 | Training: 100%|██████████| 13/13 [09:59<00:00, 46.13s/it, val_loss=0.367]\n",
      "[I 2024-12-08 19:36:51,741] Trial 12 finished with value: 0.3669441073358833 and parameters: {'embedding_size': 278, 'hidden_size': 223, 'dropout': 0.2860062261744118, 'dropout_layer': 0.30325093103108447, 'lr': 0.00022879382800098546, 'batch_size': 65, 'epochs': 13, 'n_layers': 3}. Best is trial 2 with value: 0.3594136829093351.\n",
      "Trial 13 | Training: 100%|██████████| 13/13 [12:21<00:00, 57.08s/it, val_loss=0.516]\n",
      "[I 2024-12-08 19:49:14,221] Trial 13 finished with value: 0.5162987142801285 and parameters: {'embedding_size': 418, 'hidden_size': 475, 'dropout': 0.26275600434403934, 'dropout_layer': 0.37008176907577534, 'lr': 0.0006014586797779463, 'batch_size': 100, 'epochs': 13, 'n_layers': 2}. Best is trial 2 with value: 0.3594136829093351.\n",
      "Trial 14 | Training: 100%|██████████| 10/10 [04:30<00:00, 27.09s/it, val_loss=0.501]\n",
      "[I 2024-12-08 19:53:45,461] Trial 14 finished with value: 0.5009769991276756 and parameters: {'embedding_size': 286, 'hidden_size': 207, 'dropout': 0.32730806568728266, 'dropout_layer': 0.2002049130927613, 'lr': 0.0002483772099850169, 'batch_size': 80, 'epochs': 10, 'n_layers': 2}. Best is trial 2 with value: 0.3594136829093351.\n"
     ]
    },
    {
     "name": "stdout",
     "output_type": "stream",
     "text": [
      "Meilleurs hyperparamètres : {'embedding_size': 357, 'hidden_size': 462, 'dropout': 0.3179092388749985, 'dropout_layer': 0.2509381610435122, 'lr': 0.0003302036064699447, 'batch_size': 86, 'epochs': 8, 'n_layers': 2}\n",
      "Meilleure valeur de la perte : 0.3594136829093351\n"
     ]
    }
   ],
   "source": [
    "# Créer un objet study Optuna\n",
    "opti_LSTM = optuna.create_study(direction='minimize')  # On minimise la perte\n",
    "\n",
    "# Lancer l'optimisation\n",
    "opti_LSTM.optimize(optim_LSTM, n_trials=15)  # Teste 15 configurations différentes\n",
    "\n",
    "# Afficher les meilleurs hyperparamètres trouvés\n",
    "print(f\"Meilleurs hyperparamètres : {opti_LSTM.best_params}\")\n",
    "print(f\"Meilleure valeur de la perte : {opti_LSTM.best_value}\")\n"
   ]
  },
  {
   "cell_type": "markdown",
   "metadata": {},
   "source": [
    "On crée un maintenant un nouveau modèle de LSTM en utilisant les paramètres optimisés, c'est-à-dire ceux ayant permis d'obtenir la valeur de validation loss la plus faible."
   ]
  },
  {
   "cell_type": "code",
   "execution_count": 43,
   "metadata": {},
   "outputs": [],
   "source": [
    "# Crée un modèle final avec les meilleurs hyperparamètres\n",
    "best_params_LSTM = opti_LSTM.best_params\n",
    "best_model_LSTM = Modele_LSTM(vocab_size, output_size, \n",
    "                         embedding_size = best_params_LSTM['embedding_size'], \n",
    "                         hidden_size = best_params_LSTM['hidden_size'], \n",
    "                         dropout = best_params_LSTM['dropout'], \n",
    "                         n_layers = best_params_LSTM['n_layers'], \n",
    "                         dropout_layer = best_params_LSTM['dropout_layer']).to(device)\n",
    "\n",
    "# Optimiseur avec le meilleur learning rate\n",
    "optimizer_LSTM = Adam(best_model_LSTM.parameters(), lr=best_params_LSTM['lr'])\n",
    "epochs_LSTM = best_params_LSTM['epochs']\n",
    "\n",
    "print_every = 1\n",
    "history_LSTM = {\n",
    "    'train_loss': [],\n",
    "    'train_acc': [],\n",
    "    'val_loss': [],\n",
    "    'val_acc': [],\n",
    "    'epochs': epochs_LSTM\n",
    "}\n"
   ]
  },
  {
   "cell_type": "code",
   "execution_count": 44,
   "metadata": {},
   "outputs": [
    {
     "name": "stderr",
     "output_type": "stream",
     "text": [
      "Training:  12%|█▎        | 1/8 [00:51<06:02, 51.74s/it, Val Loss: 0.693 | Val Acc: 0.498]"
     ]
    },
    {
     "name": "stdout",
     "output_type": "stream",
     "text": [
      "Epoch 1/5 | Train Loss: 0.693 Train Acc: 0.506 | Val Loss: 0.693 Val Acc: 0.498\n"
     ]
    },
    {
     "name": "stderr",
     "output_type": "stream",
     "text": [
      "Training:  38%|███▊      | 3/8 [01:46<03:01, 36.29s/it, Val Loss: 0.690 | Val Acc: 0.522]"
     ]
    },
    {
     "name": "stdout",
     "output_type": "stream",
     "text": [
      "Epoch 2/5 | Train Loss: 0.685 Train Acc: 0.534 | Val Loss: 0.690 Val Acc: 0.522\n"
     ]
    },
    {
     "name": "stderr",
     "output_type": "stream",
     "text": [
      "Training:  50%|█████     | 4/8 [02:42<02:56, 44.09s/it, Val Loss: 0.655 | Val Acc: 0.648]"
     ]
    },
    {
     "name": "stdout",
     "output_type": "stream",
     "text": [
      "Epoch 3/5 | Train Loss: 0.668 Train Acc: 0.555 | Val Loss: 0.655 Val Acc: 0.648\n"
     ]
    },
    {
     "name": "stderr",
     "output_type": "stream",
     "text": [
      "Training:  75%|███████▌  | 6/8 [03:38<01:14, 37.45s/it, Val Loss: 0.643 | Val Acc: 0.648]"
     ]
    },
    {
     "name": "stdout",
     "output_type": "stream",
     "text": [
      "Epoch 4/5 | Train Loss: 0.648 Train Acc: 0.592 | Val Loss: 0.643 Val Acc: 0.648\n"
     ]
    },
    {
     "name": "stderr",
     "output_type": "stream",
     "text": [
      "Training:  88%|████████▊ | 7/8 [04:34<00:43, 43.58s/it, Val Loss: 0.540 | Val Acc: 0.748]"
     ]
    },
    {
     "name": "stdout",
     "output_type": "stream",
     "text": [
      "Epoch 5/5 | Train Loss: 0.528 Train Acc: 0.756 | Val Loss: 0.540 Val Acc: 0.748\n"
     ]
    },
    {
     "name": "stderr",
     "output_type": "stream",
     "text": [
      "Training: 100%|██████████| 8/8 [05:31<00:00, 47.67s/it, Val Loss: 0.452 | Val Acc: 0.807]"
     ]
    },
    {
     "name": "stdout",
     "output_type": "stream",
     "text": [
      "Epoch 6/5 | Train Loss: 0.432 Train Acc: 0.814 | Val Loss: 0.452 Val Acc: 0.807\n"
     ]
    },
    {
     "name": "stderr",
     "output_type": "stream",
     "text": [
      "Training: 10it [06:27, 39.82s/it, Val Loss: 0.434 | Val Acc: 0.826]                      "
     ]
    },
    {
     "name": "stdout",
     "output_type": "stream",
     "text": [
      "Epoch 7/5 | Train Loss: 0.355 Train Acc: 0.854 | Val Loss: 0.434 Val Acc: 0.826\n"
     ]
    },
    {
     "name": "stderr",
     "output_type": "stream",
     "text": [
      "Training: 11it [07:23, 44.93s/it, Val Loss: 0.376 | Val Acc: 0.845]"
     ]
    },
    {
     "name": "stdout",
     "output_type": "stream",
     "text": [
      "Epoch 8/5 | Train Loss: 0.296 Train Acc: 0.882 | Val Loss: 0.376 Val Acc: 0.845\n"
     ]
    },
    {
     "name": "stderr",
     "output_type": "stream",
     "text": [
      "Training: 100%|██████████| 8/8 [07:25<00:00, 55.72s/it, Val Loss: 0.376 | Val Acc: 0.845]\n"
     ]
    }
   ],
   "source": [
    "best_model_LSTM = best_model_LSTM.to(device)\n",
    "\n",
    "epochloop = tqdm(range(epochs_LSTM), position=0, desc='Training', leave=True)\n",
    "\n",
    "# early stop trigger\n",
    "es_trigger = 0\n",
    "val_loss_min = torch.inf\n",
    "\n",
    "for e in epochloop:\n",
    "\n",
    "    #################\n",
    "    # training mode #\n",
    "    #################\n",
    "\n",
    "    best_model_LSTM.train()\n",
    "\n",
    "    train_loss = 0\n",
    "    train_acc = 0\n",
    "\n",
    "    for id, (feature, target) in enumerate(train_loader):\n",
    "        # add epoch meta info\n",
    "        epochloop.set_postfix_str(f'Training batch {id}/{len(train_loader)}')\n",
    "\n",
    "        # move to device\n",
    "        feature, target = feature.to(device), target.to(device)\n",
    "\n",
    "        # reset optimizer\n",
    "        optimizer_LSTM.zero_grad()\n",
    "\n",
    "        # forward pass\n",
    "        out = best_model_LSTM(feature)\n",
    "\n",
    "        # acc\n",
    "        predicted = torch.tensor([1 if i == True else 0 for i in out > 0.5], device=device)\n",
    "        equals = predicted == target\n",
    "        acc = torch.mean(equals.type(torch.FloatTensor))\n",
    "        train_acc += acc.item()\n",
    "\n",
    "        # loss\n",
    "        loss = criterion(out.squeeze(), target.float())\n",
    "        train_loss += loss.item()\n",
    "        loss.backward()\n",
    "\n",
    "        # clip grad\n",
    "        nn.utils.clip_grad_norm_(best_model_LSTM.parameters(), grad_clip)\n",
    "\n",
    "        # update optimizer\n",
    "        optimizer_LSTM.step()\n",
    "\n",
    "        # free some memory\n",
    "        del feature, target, predicted\n",
    "\n",
    "    history_LSTM['train_loss'].append(train_loss / len(train_loader))\n",
    "    history_LSTM['train_acc'].append(train_acc / len(train_loader))\n",
    "\n",
    "    ####################\n",
    "    # validation model #\n",
    "    ####################\n",
    "\n",
    "    best_model_LSTM.eval()\n",
    "\n",
    "    val_loss = 0\n",
    "    val_acc = 0\n",
    "\n",
    "    with torch.no_grad():\n",
    "        for id, (feature, target) in enumerate(val_loader):\n",
    "            # add epoch meta info\n",
    "            epochloop.set_postfix_str(f'Validation batch {id}/{len(val_loader)}')\n",
    "            \n",
    "            # move to device\n",
    "            feature, target = feature.to(device), target.to(device)\n",
    "\n",
    "            # forward pass\n",
    "            out = best_model_LSTM(feature)\n",
    "\n",
    "            # acc\n",
    "            predicted = torch.tensor([1 if i == True else 0 for i in out > 0.5], device=device)\n",
    "            equals = predicted == target\n",
    "            acc = torch.mean(equals.type(torch.FloatTensor))\n",
    "            val_acc += acc.item()\n",
    "\n",
    "            # loss\n",
    "            loss = criterion(out.squeeze(), target.float())\n",
    "            val_loss += loss.item()\n",
    "\n",
    "            # free some memory\n",
    "            del feature, target, predicted\n",
    "\n",
    "        history_LSTM['val_loss'].append(val_loss / len(val_loader))\n",
    "        history_LSTM['val_acc'].append(val_acc / len(val_loader))\n",
    "\n",
    "    # reset model model\n",
    "    best_model_LSTM.train()\n",
    "\n",
    "    # add epoch meta info\n",
    "    epochloop.set_postfix_str(f'Val Loss: {val_loss / len(val_loader):.3f} | Val Acc: {val_acc / len(val_loader):.3f}')\n",
    "\n",
    "    # print epoch \n",
    "    if (e+1) % print_every == 0:\n",
    "        epochloop.write(f'Epoch {e+1}/{epochs} | Train Loss: {train_loss / len(train_loader):.3f} Train Acc: {train_acc / len(train_loader):.3f} | Val Loss: {val_loss / len(val_loader):.3f} Val Acc: {val_acc / len(val_loader):.3f}')\n",
    "        epochloop.update()\n",
    "\n",
    "    # save model if validation loss decrease\n",
    "    if val_loss / len(val_loader) <= val_loss_min:\n",
    "        torch.save(best_model_LSTM.state_dict(), './sentiment_lstm.pt')\n",
    "        val_loss_min = val_loss / len(val_loader)\n",
    "        es_trigger = 0\n",
    "    else:\n",
    "        epochloop.write(f'[WARNING] Validation loss did not improved ({val_loss_min:.3f} --> {val_loss / len(val_loader):.3f})')\n",
    "        es_trigger += 1\n",
    "\n",
    "    # force early stop\n",
    "    if es_trigger >= es_limit:\n",
    "        epochloop.write(f'Early stopped at Epoch-{e+1}')\n",
    "        # update epochs history_LSTM\n",
    "        history_LSTM['epochs'] = e+1\n",
    "        break"
   ]
  },
  {
   "cell_type": "code",
   "execution_count": 45,
   "metadata": {},
   "outputs": [],
   "source": [
    "# Sauvegarder à la fois les poids du modèle et les paramètres optimaux\n",
    "checkpoint = {\n",
    "    'model_state_dict': best_model_LSTM.state_dict(),\n",
    "    'best_params': best_params_LSTM\n",
    "}\n",
    "\n",
    "torch.save(checkpoint, 'best_model_checkpoint.pth')"
   ]
  },
  {
   "cell_type": "code",
   "execution_count": null,
   "metadata": {},
   "outputs": [],
   "source": [
    "# Charger le checkpoint\n",
    "#checkpoint = torch.load('best_model_checkpoint.pth')\n",
    "\n",
    "# Récupérer le modèle\n",
    "#best_model_LSTM = Modele_LSTM(vocab_size, output_size, \n",
    "#                              embedding_size = checkpoint['best_params']['embedding_size'], \n",
    "#                              hidden_size = checkpoint['best_params']['hidden_size'], \n",
    "#                              dropout = checkpoint['best_params']['dropout'], \n",
    "#                              n_layers = checkpoint['best_params']['n_layers'], \n",
    "#                              dropout_layer = checkpoint['best_params']['dropout_layer']).to(device)\n",
    "\n",
    "# Charger les poids du modèle\n",
    "#best_model_LSTM.load_state_dict(checkpoint['model_state_dict'])\n",
    "\n"
   ]
  },
  {
   "cell_type": "code",
   "execution_count": 46,
   "metadata": {},
   "outputs": [
    {
     "data": {
      "image/png": "[encoded data removed]",
      "text/plain": [
       "<Figure size 600x800 with 1 Axes>"
      ]
     },
     "metadata": {},
     "output_type": "display_data"
    }
   ],
   "source": [
    "#  Affichage du taux de bonnes prédictions\n",
    "plt.figure(figsize=(6, 8))\n",
    "plt.plot(range(history_LSTM['epochs']), history_LSTM['train_acc'], label='Train Acc')\n",
    "plt.plot(range(history_LSTM['epochs']), history_LSTM['val_acc'], label='Val Acc')\n",
    "plt.xlabel(\"Epochs\")\n",
    "plt.legend()\n",
    "plt.show()"
   ]
  },
  {
   "cell_type": "code",
   "execution_count": 47,
   "metadata": {},
   "outputs": [
    {
     "data": {
      "image/png": "[encoded data removed]",
      "text/plain": [
       "<Figure size 600x800 with 1 Axes>"
      ]
     },
     "metadata": {},
     "output_type": "display_data"
    }
   ],
   "source": [
    "# Affichage de la fonction de perte\n",
    "plt.figure(figsize=(6, 8))\n",
    "plt.plot(range(history_LSTM['epochs']), history_LSTM['train_loss'], label='Train Loss')\n",
    "plt.plot(range(history_LSTM['epochs']), history_LSTM['val_loss'], label='Val Loss')\n",
    "plt.xlabel(\"Epochs\")\n",
    "plt.legend()\n",
    "plt.show()"
   ]
  },
  {
   "cell_type": "markdown",
   "metadata": {},
   "source": [
    "On constate que les valeurs de loss de l'apprentissage et de la validation ont légèrement diminué (passant respectivement de 0.35 à 0.30 et de 0.41 à 0.38). <br>\n",
    "De même, les valeurs d'accuracy ont légèrement augmenté passant de 86% à 88% pour l'apprentissage et de 84% à 85% pour la validation.\n",
    "\n",
    "L'optimisation des parmètres a donc bien permis d'améliorer les performances du modèle, mais en soit les paramètres initiaux étaient déjà très \"bons\" et l'optimisation est coûteuse en temps de calcul."
   ]
  },
  {
   "cell_type": "markdown",
   "metadata": {},
   "source": [
    "#### GRU"
   ]
  },
  {
   "cell_type": "code",
   "execution_count": 48,
   "metadata": {},
   "outputs": [],
   "source": [
    "def optim_GRU(trial):\n",
    "    # Définir les hyperparamètres à tester\n",
    "    embedding_size = trial.suggest_int('embedding_size', 128, 512)\n",
    "    hidden_size = trial.suggest_int('hidden_size', 128, 512)\n",
    "    dropout = trial.suggest_uniform('dropout', 0.2, 0.5)\n",
    "    dropout_layer = trial.suggest_uniform('dropout_layer', 0.2, 0.5)\n",
    "    lr = trial.suggest_loguniform('lr', 1e-4, 1e-3)\n",
    "    batch_size = trial.suggest_int('batch_size', 64, 128)\n",
    "    epochs = trial.suggest_int('epochs', 5, 15)\n",
    "    n_layers = trial.suggest_int('n_layers', 2, 4)\n",
    "    \n",
    "    # Créer un modèle avec ces hyperparamètres\n",
    "    model = Modele_GRU(vocab_size, output_size, \n",
    "                        embedding_size=embedding_size, \n",
    "                        hidden_size=hidden_size, \n",
    "                        dropout=dropout,\n",
    "                        n_layers=n_layers,\n",
    "                        dropout_layer=dropout_layer).to(device)\n",
    "    \n",
    "    # Définir l'optimiseur et la fonction de perte\n",
    "    optimizer = Adam(model.parameters(), lr=lr)\n",
    "    \n",
    "    # DataLoader pour charger les données par batch\n",
    "    train_loader = DataLoader(train_set, batch_size=batch_size, shuffle=True)\n",
    "    val_loader = DataLoader(valid_set, batch_size=batch_size, shuffle=False)\n",
    "    \n",
    "    # Affichage de la barre de progression pour les époques\n",
    "    epochloop = tqdm(range(epochs), position=0, desc=f\"Trial {trial.number} | Training\", leave=True)\n",
    "    \n",
    "    # Entraîner le modèle pendant les 'epochs' suggérées\n",
    "    for epoch in epochloop:\n",
    "        model.train()\n",
    "        train_loss = 0\n",
    "        for feature, target in train_loader:\n",
    "            feature, target = feature.to(device), target.to(device)\n",
    "            optimizer.zero_grad()\n",
    "            out = model(feature)\n",
    "            loss = criterion(out.squeeze(), target.float())\n",
    "            loss.backward()\n",
    "            optimizer.step()\n",
    "            train_loss += loss.item()\n",
    "\n",
    "        # Validation du modèle\n",
    "        model.eval()\n",
    "        val_loss = 0\n",
    "        with torch.no_grad():\n",
    "            for feature, target in val_loader:\n",
    "                feature, target = feature.to(device), target.to(device)\n",
    "                out = model(feature)\n",
    "                loss = criterion(out.squeeze(), target.float())\n",
    "                val_loss += loss.item()\n",
    "\n",
    "        # Mise à jour de la barre de progression de l'époch avec la validation\n",
    "        epochloop.set_postfix({'val_loss': val_loss / len(val_loader)})\n",
    "    \n",
    "    # Retourner la perte de validation, qu'Optuna va minimiser\n",
    "    return val_loss / len(val_loader)\n",
    "\n",
    "\n"
   ]
  },
  {
   "cell_type": "code",
   "execution_count": 49,
   "metadata": {},
   "outputs": [
    {
     "name": "stderr",
     "output_type": "stream",
     "text": [
      "[I 2024-12-08 20:49:23,114] A new study created in memory with name: no-name-e3c422ec-9477-4263-8e23-7e7172bef5d4\n",
      "/tmp/ipykernel_6238/334537823.py:5: FutureWarning: suggest_uniform has been deprecated in v3.0.0. This feature will be removed in v6.0.0. See https://github.com/optuna/optuna/releases/tag/v3.0.0. Use suggest_float instead.\n",
      "  dropout = trial.suggest_uniform('dropout', 0.2, 0.5)\n",
      "/tmp/ipykernel_6238/334537823.py:6: FutureWarning: suggest_uniform has been deprecated in v3.0.0. This feature will be removed in v6.0.0. See https://github.com/optuna/optuna/releases/tag/v3.0.0. Use suggest_float instead.\n",
      "  dropout_layer = trial.suggest_uniform('dropout_layer', 0.2, 0.5)\n",
      "/tmp/ipykernel_6238/334537823.py:7: FutureWarning: suggest_loguniform has been deprecated in v3.0.0. This feature will be removed in v6.0.0. See https://github.com/optuna/optuna/releases/tag/v3.0.0. Use suggest_float(..., log=True) instead.\n",
      "  lr = trial.suggest_loguniform('lr', 1e-4, 1e-3)\n",
      "Trial 0 | Training: 100%|██████████| 5/5 [04:26<00:00, 53.38s/it, val_loss=0.494]\n",
      "[I 2024-12-08 20:53:50,398] Trial 0 finished with value: 0.49400280661665014 and parameters: {'embedding_size': 313, 'hidden_size': 440, 'dropout': 0.2772032786394051, 'dropout_layer': 0.36388292208974227, 'lr': 0.0008721220283072201, 'batch_size': 73, 'epochs': 5, 'n_layers': 2}. Best is trial 0 with value: 0.49400280661665014.\n",
      "Trial 1 | Training: 100%|██████████| 7/7 [09:28<00:00, 81.27s/it, val_loss=0.408]\n",
      "[I 2024-12-08 21:03:19,570] Trial 1 finished with value: 0.4076502829790115 and parameters: {'embedding_size': 243, 'hidden_size': 462, 'dropout': 0.2944192305035133, 'dropout_layer': 0.26316648764005623, 'lr': 0.00010577109046265554, 'batch_size': 127, 'epochs': 7, 'n_layers': 4}. Best is trial 1 with value: 0.4076502829790115.\n",
      "Trial 2 | Training: 100%|██████████| 7/7 [06:16<00:00, 53.83s/it, val_loss=0.444]\n",
      "[I 2024-12-08 21:09:36,653] Trial 2 finished with value: 0.4440918971191753 and parameters: {'embedding_size': 239, 'hidden_size': 165, 'dropout': 0.44169695856253666, 'dropout_layer': 0.26035279543627177, 'lr': 0.0005193225536033252, 'batch_size': 91, 'epochs': 7, 'n_layers': 3}. Best is trial 1 with value: 0.4076502829790115.\n",
      "Trial 3 | Training: 100%|██████████| 12/12 [16:24<00:00, 82.00s/it, val_loss=0.574]\n",
      "[I 2024-12-08 21:26:01,144] Trial 3 finished with value: 0.5739532743073716 and parameters: {'embedding_size': 433, 'hidden_size': 356, 'dropout': 0.4384505950306929, 'dropout_layer': 0.49220566023768164, 'lr': 0.00016293627588954314, 'batch_size': 64, 'epochs': 12, 'n_layers': 4}. Best is trial 1 with value: 0.4076502829790115.\n",
      "Trial 4 | Training: 100%|██████████| 13/13 [08:38<00:00, 39.89s/it, val_loss=0.518]\n",
      "[I 2024-12-08 21:34:40,080] Trial 4 finished with value: 0.5176387022475939 and parameters: {'embedding_size': 291, 'hidden_size': 161, 'dropout': 0.31179925813594406, 'dropout_layer': 0.3076440081284535, 'lr': 0.0002442483256842852, 'batch_size': 68, 'epochs': 13, 'n_layers': 2}. Best is trial 1 with value: 0.4076502829790115.\n",
      "Trial 5 | Training: 100%|██████████| 13/13 [14:42<00:00, 67.90s/it, val_loss=0.582]\n",
      "[I 2024-12-08 21:49:23,254] Trial 5 finished with value: 0.5822143588553775 and parameters: {'embedding_size': 445, 'hidden_size': 447, 'dropout': 0.4443889076564494, 'dropout_layer': 0.4863139623300624, 'lr': 0.0009285503010944459, 'batch_size': 114, 'epochs': 13, 'n_layers': 3}. Best is trial 1 with value: 0.4076502829790115.\n",
      "Trial 6 | Training: 100%|██████████| 11/11 [06:43<00:00, 36.67s/it, val_loss=0.377]\n",
      "[I 2024-12-08 21:56:06,848] Trial 6 finished with value: 0.3768065893182568 and parameters: {'embedding_size': 219, 'hidden_size': 164, 'dropout': 0.23736885432672766, 'dropout_layer': 0.30055536187679177, 'lr': 0.00023084533665209452, 'batch_size': 99, 'epochs': 11, 'n_layers': 2}. Best is trial 6 with value: 0.3768065893182568.\n",
      "Trial 7 | Training: 100%|██████████| 8/8 [03:40<00:00, 27.54s/it, val_loss=0.334]\n",
      "[I 2024-12-08 21:59:47,605] Trial 7 finished with value: 0.33356615869949263 and parameters: {'embedding_size': 408, 'hidden_size': 220, 'dropout': 0.2872154096557581, 'dropout_layer': 0.36787840651591125, 'lr': 0.00011631508528445753, 'batch_size': 105, 'epochs': 8, 'n_layers': 2}. Best is trial 7 with value: 0.33356615869949263.\n",
      "Trial 8 | Training: 100%|██████████| 12/12 [10:53<00:00, 54.47s/it, val_loss=0.527]\n",
      "[I 2024-12-08 22:10:41,634] Trial 8 finished with value: 0.5266810403929816 and parameters: {'embedding_size': 361, 'hidden_size': 508, 'dropout': 0.47235612312360353, 'dropout_layer': 0.23853407679384445, 'lr': 0.00019231134578222972, 'batch_size': 112, 'epochs': 12, 'n_layers': 2}. Best is trial 7 with value: 0.33356615869949263.\n",
      "Trial 9 | Training: 100%|██████████| 10/10 [16:33<00:00, 99.39s/it, val_loss=0.564]\n",
      "[I 2024-12-08 22:27:15,972] Trial 9 finished with value: 0.5635331783975873 and parameters: {'embedding_size': 384, 'hidden_size': 501, 'dropout': 0.490055730611197, 'dropout_layer': 0.4268746023009591, 'lr': 0.0007717366842132653, 'batch_size': 103, 'epochs': 10, 'n_layers': 4}. Best is trial 7 with value: 0.33356615869949263.\n",
      "Trial 10 | Training: 100%|██████████| 15/15 [13:15<00:00, 53.06s/it, val_loss=0.62] \n",
      "[I 2024-12-08 22:40:32,413] Trial 10 finished with value: 0.6195715355165934 and parameters: {'embedding_size': 502, 'hidden_size': 262, 'dropout': 0.3673363916107662, 'dropout_layer': 0.3794013760804467, 'lr': 0.00038265302476203275, 'batch_size': 85, 'epochs': 15, 'n_layers': 3}. Best is trial 7 with value: 0.33356615869949263.\n",
      "Trial 11 | Training: 100%|██████████| 9/9 [03:41<00:00, 24.63s/it, val_loss=0.412]\n",
      "[I 2024-12-08 22:44:14,292] Trial 11 finished with value: 0.412294774055481 and parameters: {'embedding_size': 174, 'hidden_size': 234, 'dropout': 0.21229072411463767, 'dropout_layer': 0.3146449708891821, 'lr': 0.00010382993604194636, 'batch_size': 100, 'epochs': 9, 'n_layers': 2}. Best is trial 7 with value: 0.33356615869949263.\n",
      "Trial 12 | Training: 100%|██████████| 9/9 [02:34<00:00, 17.11s/it, val_loss=0.382]\n",
      "[I 2024-12-08 22:46:48,498] Trial 12 finished with value: 0.3821392108182438 and parameters: {'embedding_size': 143, 'hidden_size': 130, 'dropout': 0.20885663982780422, 'dropout_layer': 0.41298663575993866, 'lr': 0.00015376784923277028, 'batch_size': 83, 'epochs': 9, 'n_layers': 2}. Best is trial 7 with value: 0.33356615869949263.\n",
      "Trial 13 | Training: 100%|██████████| 10/10 [04:09<00:00, 24.99s/it, val_loss=0.387]\n",
      "[I 2024-12-08 22:50:58,663] Trial 13 finished with value: 0.3869009325901667 and parameters: {'embedding_size': 222, 'hidden_size': 235, 'dropout': 0.25307965042532743, 'dropout_layer': 0.3113050041572133, 'lr': 0.0002809033187389667, 'batch_size': 113, 'epochs': 10, 'n_layers': 2}. Best is trial 7 with value: 0.33356615869949263.\n",
      "Trial 14 | Training: 100%|██████████| 7/7 [05:29<00:00, 47.02s/it, val_loss=0.457]\n",
      "[I 2024-12-08 22:56:28,277] Trial 14 finished with value: 0.4567842747395237 and parameters: {'embedding_size': 379, 'hidden_size': 291, 'dropout': 0.3503483415941767, 'dropout_layer': 0.20658504201036446, 'lr': 0.0004156060752143522, 'batch_size': 105, 'epochs': 7, 'n_layers': 3}. Best is trial 7 with value: 0.33356615869949263.\n"
     ]
    },
    {
     "name": "stdout",
     "output_type": "stream",
     "text": [
      "Meilleurs hyperparamètres : {'embedding_size': 408, 'hidden_size': 220, 'dropout': 0.2872154096557581, 'dropout_layer': 0.36787840651591125, 'lr': 0.00011631508528445753, 'batch_size': 105, 'epochs': 8, 'n_layers': 2}\n",
      "Meilleure valeur de la perte : 0.33356615869949263\n"
     ]
    }
   ],
   "source": [
    "# Créer un objet study Optuna\n",
    "opti_GRU = optuna.create_study(direction='minimize')\n",
    "\n",
    "# Lancer l'optimisation\n",
    "opti_GRU.optimize(optim_GRU, n_trials=15)\n",
    "\n",
    "# Afficher les meilleurs hyperparamètres trouvés\n",
    "print(f\"Meilleurs hyperparamètres : {opti_GRU.best_params}\")\n",
    "\n",
    "print(f\"Meilleure valeur de la perte : {opti_GRU.best_value}\")\n"
   ]
  },
  {
   "cell_type": "code",
   "execution_count": 50,
   "metadata": {},
   "outputs": [],
   "source": [
    "# Crée un modèle final avec les meilleurs hyperparamètres\n",
    "best_params_GRU = opti_GRU.best_params\n",
    "best_model_GRU = Modele_GRU(vocab_size, output_size, \n",
    "                         embedding_size = best_params_GRU['embedding_size'], \n",
    "                         hidden_size = best_params_GRU['hidden_size'], \n",
    "                         dropout = best_params_GRU['dropout'], \n",
    "                         n_layers = best_params_GRU['n_layers'], \n",
    "                         dropout_layer = best_params_GRU['dropout_layer']).to(device)\n",
    "\n",
    "# Optimiseur avec le meilleur learning rate\n",
    "optimizer_GRU = Adam(best_model_GRU.parameters(), lr=best_params_GRU['lr'])\n",
    "epochs_GRU = best_params_GRU['epochs']\n",
    "\n",
    "print_every = 1\n",
    "history_GRU = {\n",
    "    'train_loss': [],\n",
    "    'train_acc': [],\n",
    "    'val_loss': [],\n",
    "    'val_acc': [],\n",
    "    'epochs': epochs_GRU\n",
    "}\n"
   ]
  },
  {
   "cell_type": "code",
   "execution_count": 51,
   "metadata": {},
   "outputs": [
    {
     "name": "stderr",
     "output_type": "stream",
     "text": [
      "Training:  12%|█▎        | 1/8 [00:22<02:35, 22.17s/it, Val Loss: 0.693 | Val Acc: 0.506]"
     ]
    },
    {
     "name": "stdout",
     "output_type": "stream",
     "text": [
      "Epoch 1/5 | Train Loss: 0.696 Train Acc: 0.507 | Val Loss: 0.693 Val Acc: 0.506\n"
     ]
    },
    {
     "name": "stderr",
     "output_type": "stream",
     "text": [
      "Training:  38%|███▊      | 3/8 [00:46<01:19, 15.82s/it, Training batch 2/313]            "
     ]
    },
    {
     "name": "stdout",
     "output_type": "stream",
     "text": [
      "Epoch 2/5 | Train Loss: 0.695 Train Acc: 0.506 | Val Loss: 0.693 Val Acc: 0.511\n",
      "[WARNING] Validation loss did not improved (0.693 --> 0.693)\n"
     ]
    },
    {
     "name": "stderr",
     "output_type": "stream",
     "text": [
      "Training:  50%|█████     | 4/8 [01:09<01:14, 18.59s/it, Val Loss: 0.691 | Val Acc: 0.534]"
     ]
    },
    {
     "name": "stdout",
     "output_type": "stream",
     "text": [
      "Epoch 3/5 | Train Loss: 0.693 Train Acc: 0.515 | Val Loss: 0.691 Val Acc: 0.534\n"
     ]
    },
    {
     "name": "stderr",
     "output_type": "stream",
     "text": [
      "Training:  75%|███████▌  | 6/8 [01:34<00:32, 16.19s/it, Val Loss: 0.599 | Val Acc: 0.672]"
     ]
    },
    {
     "name": "stdout",
     "output_type": "stream",
     "text": [
      "Epoch 4/5 | Train Loss: 0.667 Train Acc: 0.587 | Val Loss: 0.599 Val Acc: 0.672\n"
     ]
    },
    {
     "name": "stderr",
     "output_type": "stream",
     "text": [
      "Training:  88%|████████▊ | 7/8 [01:59<00:19, 19.14s/it, Val Loss: 0.434 | Val Acc: 0.804]"
     ]
    },
    {
     "name": "stdout",
     "output_type": "stream",
     "text": [
      "Epoch 5/5 | Train Loss: 0.471 Train Acc: 0.790 | Val Loss: 0.434 Val Acc: 0.804\n"
     ]
    },
    {
     "name": "stderr",
     "output_type": "stream",
     "text": [
      "Training: 100%|██████████| 8/8 [02:24<00:00, 21.03s/it, Val Loss: 0.389 | Val Acc: 0.839]"
     ]
    },
    {
     "name": "stdout",
     "output_type": "stream",
     "text": [
      "Epoch 6/5 | Train Loss: 0.349 Train Acc: 0.861 | Val Loss: 0.389 Val Acc: 0.839\n"
     ]
    },
    {
     "name": "stderr",
     "output_type": "stream",
     "text": [
      "Training: 10it [02:50, 17.54s/it, Val Loss: 0.358 | Val Acc: 0.851]                      "
     ]
    },
    {
     "name": "stdout",
     "output_type": "stream",
     "text": [
      "Epoch 7/5 | Train Loss: 0.285 Train Acc: 0.890 | Val Loss: 0.358 Val Acc: 0.851\n"
     ]
    },
    {
     "name": "stderr",
     "output_type": "stream",
     "text": [
      "Training: 100%|██████████| 8/8 [03:15<00:00, 24.40s/it, Val Loss: 0.371 | Val Acc: 0.851]"
     ]
    },
    {
     "name": "stdout",
     "output_type": "stream",
     "text": [
      "Epoch 8/5 | Train Loss: 0.238 Train Acc: 0.913 | Val Loss: 0.371 Val Acc: 0.851\n",
      "[WARNING] Validation loss did not improved (0.358 --> 0.371)\n"
     ]
    },
    {
     "name": "stderr",
     "output_type": "stream",
     "text": [
      "\n"
     ]
    }
   ],
   "source": [
    "best_model_GRU = best_model_GRU.to(device)\n",
    "\n",
    "epochloop = tqdm(range(epochs_GRU), position=0, desc='Training', leave=True)\n",
    "\n",
    "# early stop trigger\n",
    "es_trigger = 0\n",
    "val_loss_min = torch.inf\n",
    "\n",
    "for e in epochloop:\n",
    "\n",
    "    #################\n",
    "    # training mode #\n",
    "    #################\n",
    "\n",
    "    best_model_GRU.train()\n",
    "\n",
    "    train_loss = 0\n",
    "    train_acc = 0\n",
    "\n",
    "    for id, (feature, target) in enumerate(train_loader):\n",
    "        # add epoch meta info\n",
    "        epochloop.set_postfix_str(f'Training batch {id}/{len(train_loader)}')\n",
    "\n",
    "        # move to device\n",
    "        feature, target = feature.to(device), target.to(device)\n",
    "\n",
    "        # reset optimizer\n",
    "        optimizer_GRU.zero_grad()\n",
    "\n",
    "        # forward pass\n",
    "        out = best_model_GRU(feature)\n",
    "\n",
    "        # acc\n",
    "        predicted = torch.tensor([1 if i == True else 0 for i in out > 0.5], device=device)\n",
    "        equals = predicted == target\n",
    "        acc = torch.mean(equals.type(torch.FloatTensor))\n",
    "        train_acc += acc.item()\n",
    "\n",
    "        # loss\n",
    "        loss = criterion(out.squeeze(), target.float())\n",
    "        train_loss += loss.item()\n",
    "        loss.backward()\n",
    "\n",
    "        # clip grad\n",
    "        nn.utils.clip_grad_norm_(best_model_GRU.parameters(), grad_clip)\n",
    "\n",
    "        # update optimizer\n",
    "        optimizer_GRU.step()\n",
    "\n",
    "        # free some memory\n",
    "        del feature, target, predicted\n",
    "\n",
    "    history_GRU['train_loss'].append(train_loss / len(train_loader))\n",
    "    history_GRU['train_acc'].append(train_acc / len(train_loader))\n",
    "\n",
    "    ####################\n",
    "    # validation model #\n",
    "    ####################\n",
    "\n",
    "    best_model_GRU.eval()\n",
    "\n",
    "    val_loss = 0\n",
    "    val_acc = 0\n",
    "\n",
    "    with torch.no_grad():\n",
    "        for id, (feature, target) in enumerate(val_loader):\n",
    "            # add epoch meta info\n",
    "            epochloop.set_postfix_str(f'Validation batch {id}/{len(val_loader)}')\n",
    "            \n",
    "            # move to device\n",
    "            feature, target = feature.to(device), target.to(device)\n",
    "\n",
    "            # forward pass\n",
    "            out = best_model_GRU(feature)\n",
    "\n",
    "            # acc\n",
    "            predicted = torch.tensor([1 if i == True else 0 for i in out > 0.5], device=device)\n",
    "            equals = predicted == target\n",
    "            acc = torch.mean(equals.type(torch.FloatTensor))\n",
    "            val_acc += acc.item()\n",
    "\n",
    "            # loss\n",
    "            loss = criterion(out.squeeze(), target.float())\n",
    "            val_loss += loss.item()\n",
    "\n",
    "            # free some memory\n",
    "            del feature, target, predicted\n",
    "\n",
    "        history_GRU['val_loss'].append(val_loss / len(val_loader))\n",
    "        history_GRU['val_acc'].append(val_acc / len(val_loader))\n",
    "\n",
    "    # reset model model\n",
    "    best_model_GRU.train()\n",
    "\n",
    "    # add epoch meta info\n",
    "    epochloop.set_postfix_str(f'Val Loss: {val_loss / len(val_loader):.3f} | Val Acc: {val_acc / len(val_loader):.3f}')\n",
    "\n",
    "    # print epoch \n",
    "    if (e+1) % print_every == 0:\n",
    "        epochloop.write(f'Epoch {e+1}/{epochs} | Train Loss: {train_loss / len(train_loader):.3f} Train Acc: {train_acc / len(train_loader):.3f} | Val Loss: {val_loss / len(val_loader):.3f} Val Acc: {val_acc / len(val_loader):.3f}')\n",
    "        epochloop.update()\n",
    "\n",
    "    # save model if validation loss decrease\n",
    "    if val_loss / len(val_loader) <= val_loss_min:\n",
    "        torch.save(best_model_GRU.state_dict(), './sentiment_gru.pt')\n",
    "        val_loss_min = val_loss / len(val_loader)\n",
    "        es_trigger = 0\n",
    "    else:\n",
    "        epochloop.write(f'[WARNING] Validation loss did not improved ({val_loss_min:.3f} --> {val_loss / len(val_loader):.3f})')\n",
    "        es_trigger += 1\n",
    "\n",
    "    # force early stop\n",
    "    if es_trigger >= es_limit:\n",
    "        epochloop.write(f'Early stopped at Epoch-{e+1}')\n",
    "        # update epochs history_GRU\n",
    "        history_GRU['epochs'] = e+1\n",
    "        break"
   ]
  },
  {
   "cell_type": "code",
   "execution_count": 52,
   "metadata": {},
   "outputs": [],
   "source": [
    "# Sauvegarder à la fois les poids du modèle et les paramètres optimaux\n",
    "checkpoint = {\n",
    "    'model_state_dict': best_model_GRU.state_dict(),\n",
    "    'best_params': best_params_GRU\n",
    "}\n",
    "\n",
    "torch.save(checkpoint, 'best_model_checkpoint_gru.pth')"
   ]
  },
  {
   "cell_type": "code",
   "execution_count": 53,
   "metadata": {},
   "outputs": [
    {
     "data": {
      "image/png": "[encoded data removed]",
      "text/plain": [
       "<Figure size 600x800 with 1 Axes>"
      ]
     },
     "metadata": {},
     "output_type": "display_data"
    }
   ],
   "source": [
    "#  Affichage du taux de bonnes prédictions\n",
    "plt.figure(figsize=(6, 8))\n",
    "plt.plot(range(history_GRU['epochs']), history_GRU['train_acc'], label='Train Acc')\n",
    "plt.plot(range(history_GRU['epochs']), history_GRU['val_acc'], label='Val Acc')\n",
    "plt.xlabel(\"Epochs\")\n",
    "plt.legend()\n",
    "plt.show()"
   ]
  },
  {
   "cell_type": "code",
   "execution_count": 54,
   "metadata": {},
   "outputs": [
    {
     "data": {
      "image/png": "[encoded data removed]",
      "text/plain": [
       "<Figure size 600x800 with 1 Axes>"
      ]
     },
     "metadata": {},
     "output_type": "display_data"
    }
   ],
   "source": [
    "# Affichage de la fonction de perte\n",
    "plt.figure(figsize=(6, 8))\n",
    "plt.plot(range(history_GRU['epochs']), history_GRU['train_loss'], label='Train Loss')\n",
    "plt.plot(range(history_GRU['epochs']), history_GRU['val_loss'], label='Val Loss')\n",
    "plt.xlabel(\"Epochs\")\n",
    "plt.legend()\n",
    "plt.show()"
   ]
  },
  {
   "cell_type": "markdown",
   "metadata": {},
   "source": [
    "#### RNN \"classique\""
   ]
  },
  {
   "cell_type": "markdown",
   "metadata": {},
   "source": [
    "Tenté :\n",
    "- Changer ReLU par tanh\n",
    "- Ajouter une Layer Normalization pour stabiliser le modèle\n",
    "- Diminuer la plage du Dropout"
   ]
  },
  {
   "cell_type": "code",
   "execution_count": 37,
   "metadata": {},
   "outputs": [],
   "source": [
    "def optim_RNN(trial):\n",
    "    # Définir les hyperparamètres à tester\n",
    "    embedding_size = trial.suggest_int('embedding_size', 128, 512)\n",
    "    hidden_size = trial.suggest_int('hidden_size', 128, 512)\n",
    "    dropout = trial.suggest_uniform('dropout', 0.1, 0.4)\n",
    "    dropout_layer = trial.suggest_uniform('dropout_layer', 0.1, 0.4)\n",
    "    lr = trial.suggest_loguniform('lr', 1e-5, 1e-3)\n",
    "    batch_size = trial.suggest_int('batch_size', 64, 128)\n",
    "    epochs = trial.suggest_int('epochs', 5, 15)\n",
    "    n_layers = trial.suggest_int('n_layers', 2, 4)\n",
    "    \n",
    "    # Créer un modèle avec ces hyperparamètres\n",
    "    model = Modele_RNN(vocab_size, output_size, \n",
    "                        embedding_size=embedding_size, \n",
    "                        hidden_size=hidden_size, \n",
    "                        dropout=dropout,\n",
    "                        n_layers=n_layers,\n",
    "                        dropout_layer=dropout_layer).to(device)\n",
    "    \n",
    "    # Définir l'optimiseur et la fonction de perte\n",
    "    optimizer = Adam(model.parameters(), lr=lr)\n",
    "    \n",
    "    # DataLoader pour charger les données par batch\n",
    "    train_loader = DataLoader(train_set, batch_size=batch_size, shuffle=True)\n",
    "    val_loader = DataLoader(valid_set, batch_size=batch_size, shuffle=False)\n",
    "    \n",
    "    # Affichage de la barre de progression pour les époques\n",
    "    epochloop = tqdm(range(epochs), position=0, desc=f\"Trial {trial.number} | Training\", leave=True)\n",
    "    \n",
    "    # Entraîner le modèle pendant les 'epochs' suggérées\n",
    "    for epoch in epochloop:\n",
    "        model.train()\n",
    "        train_loss = 0\n",
    "        for feature, target in train_loader:\n",
    "            feature, target = feature.to(device), target.to(device)\n",
    "            optimizer.zero_grad()\n",
    "            out = model(feature)\n",
    "            loss = criterion(out.squeeze(), target.float())\n",
    "            loss.backward()\n",
    "            optimizer.step()\n",
    "            train_loss += loss.item()\n",
    "\n",
    "        # Validation du modèle\n",
    "        model.eval()\n",
    "        val_loss = 0\n",
    "        with torch.no_grad():\n",
    "            for feature, target in val_loader:\n",
    "                feature, target = feature.to(device), target.to(device)\n",
    "                out = model(feature)\n",
    "                loss = criterion(out.squeeze(), target.float())\n",
    "                val_loss += loss.item()\n",
    "\n",
    "        # Mise à jour de la barre de progression de l'époch avec la validation\n",
    "        epochloop.set_postfix({'val_loss': val_loss / len(val_loader)})\n",
    "    \n",
    "    # Retourner la perte de validation, qu'Optuna va minimiser\n",
    "    return val_loss / len(val_loader)\n",
    "\n",
    "\n"
   ]
  },
  {
   "cell_type": "code",
   "execution_count": 39,
   "metadata": {},
   "outputs": [
    {
     "name": "stderr",
     "output_type": "stream",
     "text": [
      "[I 2024-12-12 16:59:38,544] A new study created in memory with name: no-name-b80d7724-7312-489e-b577-73f417ca01d9\n",
      "/tmp/ipykernel_5151/1307225849.py:5: FutureWarning: suggest_uniform has been deprecated in v3.0.0. This feature will be removed in v6.0.0. See https://github.com/optuna/optuna/releases/tag/v3.0.0. Use suggest_float instead.\n",
      "  dropout = trial.suggest_uniform('dropout', 0.1, 0.4)\n",
      "/tmp/ipykernel_5151/1307225849.py:6: FutureWarning: suggest_uniform has been deprecated in v3.0.0. This feature will be removed in v6.0.0. See https://github.com/optuna/optuna/releases/tag/v3.0.0. Use suggest_float instead.\n",
      "  dropout_layer = trial.suggest_uniform('dropout_layer', 0.1, 0.4)\n",
      "/tmp/ipykernel_5151/1307225849.py:7: FutureWarning: suggest_loguniform has been deprecated in v3.0.0. This feature will be removed in v6.0.0. See https://github.com/optuna/optuna/releases/tag/v3.0.0. Use suggest_float(..., log=True) instead.\n",
      "  lr = trial.suggest_loguniform('lr', 1e-4, 1e-3)\n",
      "Trial 0 | Training: 100%|██████████| 5/5 [03:21<00:00, 40.20s/it, val_loss=0.712]\n",
      "[I 2024-12-12 17:03:00,017] Trial 0 finished with value: 0.7124960574236783 and parameters: {'embedding_size': 390, 'hidden_size': 481, 'dropout': 0.2447140751572531, 'dropout_layer': 0.14652721937610927, 'lr': 0.00011764388793927431, 'batch_size': 92, 'epochs': 5, 'n_layers': 3}. Best is trial 0 with value: 0.7124960574236783.\n",
      "Trial 1 | Training: 100%|██████████| 6/6 [04:21<00:00, 43.52s/it, val_loss=0.693]\n",
      "[I 2024-12-12 17:07:21,502] Trial 1 finished with value: 0.6934906885479436 and parameters: {'embedding_size': 320, 'hidden_size': 502, 'dropout': 0.37356168303473736, 'dropout_layer': 0.25940090129525245, 'lr': 0.00034131733126269246, 'batch_size': 76, 'epochs': 6, 'n_layers': 3}. Best is trial 1 with value: 0.6934906885479436.\n",
      "Trial 2 | Training: 100%|██████████| 15/15 [03:53<00:00, 15.58s/it, val_loss=0.808]\n",
      "[I 2024-12-12 17:11:15,653] Trial 2 finished with value: 0.8080996495026809 and parameters: {'embedding_size': 351, 'hidden_size': 212, 'dropout': 0.35641477683836276, 'dropout_layer': 0.3899589230417677, 'lr': 0.00018790266503464909, 'batch_size': 78, 'epochs': 15, 'n_layers': 4}. Best is trial 1 with value: 0.6934906885479436.\n",
      "Trial 3 | Training: 100%|██████████| 8/8 [06:41<00:00, 50.14s/it, val_loss=0.715]\n",
      "[I 2024-12-12 17:17:57,024] Trial 3 finished with value: 0.7146311290562153 and parameters: {'embedding_size': 249, 'hidden_size': 260, 'dropout': 0.14811695228903943, 'dropout_layer': 0.1717042395952355, 'lr': 0.00010668615245413818, 'batch_size': 79, 'epochs': 8, 'n_layers': 3}. Best is trial 1 with value: 0.6934906885479436.\n",
      "Trial 4 | Training: 100%|██████████| 9/9 [10:26<00:00, 69.58s/it, val_loss=0.811]\n",
      "[I 2024-12-12 17:28:23,679] Trial 4 finished with value: 0.8111060500144959 and parameters: {'embedding_size': 446, 'hidden_size': 337, 'dropout': 0.29380645487557094, 'dropout_layer': 0.2501490024812467, 'lr': 0.00042991607903790537, 'batch_size': 128, 'epochs': 9, 'n_layers': 3}. Best is trial 1 with value: 0.6934906885479436.\n",
      "Trial 5 | Training: 100%|██████████| 13/13 [10:37<00:00, 49.05s/it, val_loss=0.693]\n",
      "[I 2024-12-12 17:39:01,506] Trial 5 finished with value: 0.6932293325662613 and parameters: {'embedding_size': 158, 'hidden_size': 265, 'dropout': 0.34245258936926526, 'dropout_layer': 0.2655257021984965, 'lr': 0.0004856587970003258, 'batch_size': 70, 'epochs': 13, 'n_layers': 3}. Best is trial 5 with value: 0.6932293325662613.\n",
      "Trial 6 | Training: 100%|██████████| 10/10 [16:10<00:00, 97.07s/it, val_loss=0.697]\n",
      "[I 2024-12-12 17:55:12,581] Trial 6 finished with value: 0.6973058824185971 and parameters: {'embedding_size': 322, 'hidden_size': 365, 'dropout': 0.2210818667130562, 'dropout_layer': 0.3565302471340889, 'lr': 0.0003773465891569077, 'batch_size': 93, 'epochs': 10, 'n_layers': 4}. Best is trial 5 with value: 0.6932293325662613.\n",
      "Trial 7 | Training: 100%|██████████| 9/9 [07:07<00:00, 47.50s/it, val_loss=0.694]\n",
      "[I 2024-12-12 18:02:20,473] Trial 7 finished with value: 0.6943499256924885 and parameters: {'embedding_size': 381, 'hidden_size': 276, 'dropout': 0.3326661851996332, 'dropout_layer': 0.2492913686707846, 'lr': 0.0007327461542742363, 'batch_size': 124, 'epochs': 9, 'n_layers': 3}. Best is trial 5 with value: 0.6932293325662613.\n",
      "Trial 8 | Training: 100%|██████████| 10/10 [08:06<00:00, 48.69s/it, val_loss=0.806]\n",
      "[I 2024-12-12 18:10:27,696] Trial 8 finished with value: 0.8062432190267051 and parameters: {'embedding_size': 356, 'hidden_size': 354, 'dropout': 0.35122026084055613, 'dropout_layer': 0.11073076572211324, 'lr': 0.00014592817068302804, 'batch_size': 124, 'epochs': 10, 'n_layers': 2}. Best is trial 5 with value: 0.6932293325662613.\n",
      "Trial 9 | Training: 100%|██████████| 9/9 [04:30<00:00, 30.05s/it, val_loss=0.697]\n",
      "[I 2024-12-12 18:14:58,330] Trial 9 finished with value: 0.6974458732503526 and parameters: {'embedding_size': 138, 'hidden_size': 389, 'dropout': 0.20841809165743597, 'dropout_layer': 0.16154248310836353, 'lr': 0.00047872645291475926, 'batch_size': 108, 'epochs': 9, 'n_layers': 3}. Best is trial 5 with value: 0.6932293325662613.\n",
      "Trial 10 | Training: 100%|██████████| 14/14 [01:32<00:00,  6.63s/it, val_loss=0.859]\n",
      "[I 2024-12-12 18:16:31,261] Trial 10 finished with value: 0.8586574854788842 and parameters: {'embedding_size': 132, 'hidden_size': 129, 'dropout': 0.10547755701023123, 'dropout_layer': 0.32692728366297025, 'lr': 0.0008038074825382384, 'batch_size': 65, 'epochs': 14, 'n_layers': 2}. Best is trial 5 with value: 0.6932293325662613.\n",
      "Trial 11 | Training: 100%|██████████| 13/13 [06:23<00:00, 29.48s/it, val_loss=0.693]\n",
      "[I 2024-12-12 18:22:54,821] Trial 11 finished with value: 0.6932116274709825 and parameters: {'embedding_size': 223, 'hidden_size': 454, 'dropout': 0.39993080973632983, 'dropout_layer': 0.2610212627957932, 'lr': 0.00024718287714339896, 'batch_size': 65, 'epochs': 13, 'n_layers': 2}. Best is trial 11 with value: 0.6932116274709825.\n",
      "Trial 12 | Training: 100%|██████████| 13/13 [05:24<00:00, 24.96s/it, val_loss=0.771]\n",
      "[I 2024-12-12 18:28:19,514] Trial 12 finished with value: 0.7711015222947809 and parameters: {'embedding_size': 198, 'hidden_size': 418, 'dropout': 0.39857571010368037, 'dropout_layer': 0.28621116553825715, 'lr': 0.00021913419188249335, 'batch_size': 64, 'epochs': 13, 'n_layers': 2}. Best is trial 11 with value: 0.6932116274709825.\n",
      "Trial 13 | Training: 100%|██████████| 12/12 [05:21<00:00, 26.83s/it, val_loss=0.776]\n",
      "[I 2024-12-12 18:33:41,750] Trial 13 finished with value: 0.7764165069375719 and parameters: {'embedding_size': 241, 'hidden_size': 437, 'dropout': 0.2971086544932445, 'dropout_layer': 0.21018466081305662, 'lr': 0.0002448448177284484, 'batch_size': 72, 'epochs': 12, 'n_layers': 2}. Best is trial 11 with value: 0.6932116274709825.\n",
      "Trial 14 | Training: 100%|██████████| 12/12 [02:46<00:00, 13.87s/it, val_loss=0.694]\n",
      "[I 2024-12-12 18:36:28,398] Trial 14 finished with value: 0.6935807577634262 and parameters: {'embedding_size': 191, 'hidden_size': 213, 'dropout': 0.29262438677619995, 'dropout_layer': 0.310241005379245, 'lr': 0.0005186687683429867, 'batch_size': 85, 'epochs': 12, 'n_layers': 4}. Best is trial 11 with value: 0.6932116274709825.\n"
     ]
    },
    {
     "name": "stdout",
     "output_type": "stream",
     "text": [
      "Meilleurs hyperparamètres : {'embedding_size': 223, 'hidden_size': 454, 'dropout': 0.39993080973632983, 'dropout_layer': 0.2610212627957932, 'lr': 0.00024718287714339896, 'batch_size': 65, 'epochs': 13, 'n_layers': 2}\n",
      "Meilleure valeur de la perte : 0.6932116274709825\n"
     ]
    }
   ],
   "source": [
    "# Créer un objet study Optuna\n",
    "opti_RNN = optuna.create_study(direction='minimize')\n",
    "\n",
    "# Lancer l'optimisation\n",
    "opti_RNN.optimize(optim_RNN, n_trials=25)\n",
    "\n",
    "# Afficher les meilleurs hyperparamètres trouvés\n",
    "print(f\"Meilleurs hyperparamètres : {opti_RNN.best_params}\")\n",
    "\n",
    "print(f\"Meilleure valeur de la perte : {opti_RNN.best_value}\")\n"
   ]
  },
  {
   "cell_type": "code",
   "execution_count": 25,
   "metadata": {},
   "outputs": [],
   "source": [
    "# Crée un modèle final avec les meilleurs hyperparamètres\n",
    "best_params_RNN = opti_RNN.best_params\n",
    "best_model_RNN = Modele_RNN(vocab_size, output_size, \n",
    "                         embedding_size = best_params_RNN['embedding_size'], \n",
    "                         hidden_size = best_params_RNN['hidden_size'], \n",
    "                         dropout = best_params_RNN['dropout'], \n",
    "                         n_layers = best_params_RNN['n_layers'], \n",
    "                         dropout_layer = best_params_RNN['dropout_layer']).to(device)\n",
    "\n",
    "# Optimiseur avec le meilleur learning rate\n",
    "optimizer_RNN = Adam(best_model_RNN.parameters(), lr=best_params_RNN['lr'])\n",
    "epochs_RNN = best_params_RNN['epochs']\n",
    "\n",
    "print_every = 1\n",
    "history_RNN = {\n",
    "    'train_loss': [],\n",
    "    'train_acc': [],\n",
    "    'val_loss': [],\n",
    "    'val_acc': [],\n",
    "    'epochs': epochs_RNN\n",
    "}\n"
   ]
  },
  {
   "cell_type": "code",
   "execution_count": 26,
   "metadata": {},
   "outputs": [
    {
     "name": "stderr",
     "output_type": "stream",
     "text": [
      "Training:   7%|▋         | 1/14 [01:05<14:05, 65.06s/it, Val Loss: 0.695 | Val Acc: 0.505]"
     ]
    },
    {
     "name": "stdout",
     "output_type": "stream",
     "text": [
      "Epoch 1/5 | Train Loss: 0.707 Train Acc: 0.504 | Val Loss: 0.695 Val Acc: 0.505\n"
     ]
    },
    {
     "name": "stderr",
     "output_type": "stream",
     "text": [
      "Training:  21%|██▏       | 3/14 [02:10<08:08, 44.37s/it, Val Loss: 0.694 | Val Acc: 0.501]"
     ]
    },
    {
     "name": "stdout",
     "output_type": "stream",
     "text": [
      "Epoch 2/5 | Train Loss: 0.698 Train Acc: 0.501 | Val Loss: 0.694 Val Acc: 0.501\n"
     ]
    },
    {
     "name": "stderr",
     "output_type": "stream",
     "text": [
      "Training:  29%|██▊       | 4/14 [03:16<08:47, 52.70s/it, Val Loss: 0.694 | Val Acc: 0.483]"
     ]
    },
    {
     "name": "stdout",
     "output_type": "stream",
     "text": [
      "Epoch 3/5 | Train Loss: 0.697 Train Acc: 0.500 | Val Loss: 0.694 Val Acc: 0.483\n"
     ]
    },
    {
     "name": "stderr",
     "output_type": "stream",
     "text": [
      "Training:  43%|████▎     | 6/14 [04:22<05:56, 44.51s/it, Training batch 1/313]            "
     ]
    },
    {
     "name": "stdout",
     "output_type": "stream",
     "text": [
      "Epoch 4/5 | Train Loss: 0.697 Train Acc: 0.499 | Val Loss: 0.699 Val Acc: 0.493\n",
      "[WARNING] Validation loss did not improved (0.694 --> 0.699)\n"
     ]
    },
    {
     "name": "stderr",
     "output_type": "stream",
     "text": [
      "Training:  50%|█████     | 7/14 [05:26<05:57, 51.06s/it, Val Loss: 0.693 | Val Acc: 0.497]"
     ]
    },
    {
     "name": "stdout",
     "output_type": "stream",
     "text": [
      "Epoch 5/5 | Train Loss: 0.697 Train Acc: 0.502 | Val Loss: 0.693 Val Acc: 0.497\n"
     ]
    },
    {
     "name": "stderr",
     "output_type": "stream",
     "text": [
      "Training:  64%|██████▍   | 9/14 [06:32<04:38, 55.70s/it, Training batch 1/313]            "
     ]
    },
    {
     "name": "stdout",
     "output_type": "stream",
     "text": [
      "Epoch 6/5 | Train Loss: 0.698 Train Acc: 0.495 | Val Loss: 0.694 Val Acc: 0.500\n",
      "[WARNING] Validation loss did not improved (0.693 --> 0.694)\n"
     ]
    },
    {
     "name": "stderr",
     "output_type": "stream",
     "text": [
      "Training:  71%|███████▏  | 10/14 [07:36<02:58, 44.58s/it, Training batch 1/313]            "
     ]
    },
    {
     "name": "stdout",
     "output_type": "stream",
     "text": [
      "Epoch 7/5 | Train Loss: 0.697 Train Acc: 0.497 | Val Loss: 0.698 Val Acc: 0.504\n",
      "[WARNING] Validation loss did not improved (0.693 --> 0.698)\n"
     ]
    },
    {
     "name": "stderr",
     "output_type": "stream",
     "text": [
      "Training:  79%|███████▊  | 11/14 [08:41<02:29, 49.73s/it, Training batch 1/313]            "
     ]
    },
    {
     "name": "stdout",
     "output_type": "stream",
     "text": [
      "Epoch 8/5 | Train Loss: 0.697 Train Acc: 0.499 | Val Loss: 0.694 Val Acc: 0.492\n",
      "[WARNING] Validation loss did not improved (0.693 --> 0.694)\n"
     ]
    },
    {
     "name": "stderr",
     "output_type": "stream",
     "text": [
      "Training:  86%|████████▌ | 12/14 [09:45<01:47, 53.55s/it, Val Loss: 0.693 | Val Acc: 0.504]"
     ]
    },
    {
     "name": "stdout",
     "output_type": "stream",
     "text": [
      "Epoch 9/5 | Train Loss: 0.698 Train Acc: 0.500 | Val Loss: 0.693 Val Acc: 0.504\n"
     ]
    },
    {
     "name": "stderr",
     "output_type": "stream",
     "text": [
      "Training: 100%|██████████| 14/14 [10:51<00:00, 46.34s/it, Training batch 1/313]            "
     ]
    },
    {
     "name": "stdout",
     "output_type": "stream",
     "text": [
      "Epoch 10/5 | Train Loss: 0.698 Train Acc: 0.499 | Val Loss: 0.700 Val Acc: 0.493\n",
      "[WARNING] Validation loss did not improved (0.693 --> 0.700)\n"
     ]
    },
    {
     "name": "stderr",
     "output_type": "stream",
     "text": [
      "Training: 15it [11:56, 51.63s/it, Training batch 1/313]                                    "
     ]
    },
    {
     "name": "stdout",
     "output_type": "stream",
     "text": [
      "Epoch 11/5 | Train Loss: 0.699 Train Acc: 0.495 | Val Loss: 0.695 Val Acc: 0.499\n",
      "[WARNING] Validation loss did not improved (0.693 --> 0.695)\n"
     ]
    },
    {
     "name": "stderr",
     "output_type": "stream",
     "text": [
      "Training: 16it [13:00, 55.14s/it, Training batch 1/313]            "
     ]
    },
    {
     "name": "stdout",
     "output_type": "stream",
     "text": [
      "Epoch 12/5 | Train Loss: 0.697 Train Acc: 0.499 | Val Loss: 0.694 Val Acc: 0.502\n",
      "[WARNING] Validation loss did not improved (0.693 --> 0.694)\n"
     ]
    },
    {
     "name": "stderr",
     "output_type": "stream",
     "text": [
      "Training: 17it [14:03, 57.59s/it, Training batch 1/313]            "
     ]
    },
    {
     "name": "stdout",
     "output_type": "stream",
     "text": [
      "Epoch 13/5 | Train Loss: 0.697 Train Acc: 0.500 | Val Loss: 0.702 Val Acc: 0.501\n",
      "[WARNING] Validation loss did not improved (0.693 --> 0.702)\n"
     ]
    },
    {
     "name": "stderr",
     "output_type": "stream",
     "text": [
      "Training:  93%|█████████▎| 13/14 [15:07<01:09, 69.78s/it, Val Loss: 0.693 | Val Acc: 0.510]"
     ]
    },
    {
     "name": "stdout",
     "output_type": "stream",
     "text": [
      "Epoch 14/5 | Train Loss: 0.697 Train Acc: 0.501 | Val Loss: 0.693 Val Acc: 0.510\n",
      "[WARNING] Validation loss did not improved (0.693 --> 0.693)\n",
      "Early stopped at Epoch-14\n"
     ]
    },
    {
     "name": "stderr",
     "output_type": "stream",
     "text": [
      "\n"
     ]
    }
   ],
   "source": [
    "best_model_RNN = best_model_RNN.to(device)\n",
    "\n",
    "epochloop = tqdm(range(epochs_RNN), position=0, desc='Training', leave=True)\n",
    "\n",
    "# early stop trigger\n",
    "es_trigger = 0\n",
    "val_loss_min = torch.inf\n",
    "\n",
    "for e in epochloop:\n",
    "\n",
    "    #################\n",
    "    # training mode #\n",
    "    #################\n",
    "\n",
    "    best_model_RNN.train()\n",
    "\n",
    "    train_loss = 0\n",
    "    train_acc = 0\n",
    "\n",
    "    for id, (feature, target) in enumerate(train_loader):\n",
    "        # add epoch meta info\n",
    "        epochloop.set_postfix_str(f'Training batch {id}/{len(train_loader)}')\n",
    "\n",
    "        # move to device\n",
    "        feature, target = feature.to(device), target.to(device)\n",
    "\n",
    "        # reset optimizer\n",
    "        optimizer_RNN.zero_grad()\n",
    "\n",
    "        # forward pass\n",
    "        out = best_model_RNN(feature)\n",
    "\n",
    "        # acc\n",
    "        predicted = torch.tensor([1 if i == True else 0 for i in out > 0.5], device=device)\n",
    "        equals = predicted == target\n",
    "        acc = torch.mean(equals.type(torch.FloatTensor))\n",
    "        train_acc += acc.item()\n",
    "\n",
    "        # loss\n",
    "        loss = criterion(out.squeeze(), target.float())\n",
    "        train_loss += loss.item()\n",
    "        loss.backward()\n",
    "\n",
    "        # clip grad\n",
    "        nn.utils.clip_grad_norm_(best_model_RNN.parameters(), grad_clip)\n",
    "\n",
    "        # update optimizer\n",
    "        optimizer_RNN.step()\n",
    "\n",
    "        # free some memory\n",
    "        del feature, target, predicted\n",
    "\n",
    "    history_RNN['train_loss'].append(train_loss / len(train_loader))\n",
    "    history_RNN['train_acc'].append(train_acc / len(train_loader))\n",
    "\n",
    "    ####################\n",
    "    # validation model #\n",
    "    ####################\n",
    "\n",
    "    best_model_RNN.eval()\n",
    "\n",
    "    val_loss = 0\n",
    "    val_acc = 0\n",
    "\n",
    "    with torch.no_grad():\n",
    "        for id, (feature, target) in enumerate(val_loader):\n",
    "            # add epoch meta info\n",
    "            epochloop.set_postfix_str(f'Validation batch {id}/{len(val_loader)}')\n",
    "            \n",
    "            # move to device\n",
    "            feature, target = feature.to(device), target.to(device)\n",
    "\n",
    "            # forward pass\n",
    "            out = best_model_RNN(feature)\n",
    "\n",
    "            # acc\n",
    "            predicted = torch.tensor([1 if i == True else 0 for i in out > 0.5], device=device)\n",
    "            equals = predicted == target\n",
    "            acc = torch.mean(equals.type(torch.FloatTensor))\n",
    "            val_acc += acc.item()\n",
    "\n",
    "            # loss\n",
    "            loss = criterion(out.squeeze(), target.float())\n",
    "            val_loss += loss.item()\n",
    "\n",
    "            # free some memory\n",
    "            del feature, target, predicted\n",
    "\n",
    "        history_RNN['val_loss'].append(val_loss / len(val_loader))\n",
    "        history_RNN['val_acc'].append(val_acc / len(val_loader))\n",
    "\n",
    "    # reset model model\n",
    "    best_model_RNN.train()\n",
    "\n",
    "    # add epoch meta info\n",
    "    epochloop.set_postfix_str(f'Val Loss: {val_loss / len(val_loader):.3f} | Val Acc: {val_acc / len(val_loader):.3f}')\n",
    "\n",
    "    # print epoch \n",
    "    if (e+1) % print_every == 0:\n",
    "        epochloop.write(f'Epoch {e+1}/{epochs_RNN} | Train Loss: {train_loss / len(train_loader):.3f} Train Acc: {train_acc / len(train_loader):.3f} | Val Loss: {val_loss / len(val_loader):.3f} Val Acc: {val_acc / len(val_loader):.3f}')\n",
    "        epochloop.update()\n",
    "\n",
    "    # save model if validation loss decrease\n",
    "    if val_loss / len(val_loader) <= val_loss_min:\n",
    "        torch.save(best_model_RNN.state_dict(), './sentiment_rnn.pt')\n",
    "        val_loss_min = val_loss / len(val_loader)\n",
    "        es_trigger = 0\n",
    "    else:\n",
    "        epochloop.write(f'[WARNING] Validation loss did not improved ({val_loss_min:.3f} --> {val_loss / len(val_loader):.3f})')\n",
    "        es_trigger += 1\n",
    "\n",
    "    # force early stop\n",
    "    if es_trigger >= es_limit:\n",
    "        epochloop.write(f'Early stopped at Epoch-{e+1}')\n",
    "        # update epochs history_RNN\n",
    "        history_RNN['epochs'] = e+1\n",
    "        break"
   ]
  },
  {
   "cell_type": "code",
   "execution_count": 27,
   "metadata": {},
   "outputs": [],
   "source": [
    "# Sauvegarder à la fois les poids du modèle et les paramètres optimaux\n",
    "checkpoint = {\n",
    "    'model_state_dict': best_model_RNN.state_dict(),\n",
    "    'best_params': best_params_RNN\n",
    "}\n",
    "\n",
    "torch.save(checkpoint, 'best_model_checkpoint_rnn.pth')"
   ]
  },
  {
   "cell_type": "code",
   "execution_count": 28,
   "metadata": {},
   "outputs": [
    {
     "data": {
      "image/png": "[encoded data removed]",
      "text/plain": [
       "<Figure size 600x800 with 1 Axes>"
      ]
     },
     "metadata": {},
     "output_type": "display_data"
    }
   ],
   "source": [
    "#  Affichage du taux de bonnes prédictions\n",
    "plt.figure(figsize=(6, 8))\n",
    "plt.plot(range(history_RNN['epochs']), history_RNN['train_acc'], label='Train Acc')\n",
    "plt.plot(range(history_RNN['epochs']), history_RNN['val_acc'], label='Val Acc')\n",
    "plt.xlabel(\"Epochs\")\n",
    "plt.legend()\n",
    "plt.show()"
   ]
  },
  {
   "cell_type": "code",
   "execution_count": 29,
   "metadata": {},
   "outputs": [
    {
     "data": {
      "image/png": "[encoded data removed]",
      "text/plain": [
       "<Figure size 600x800 with 1 Axes>"
      ]
     },
     "metadata": {},
     "output_type": "display_data"
    }
   ],
   "source": [
    "# Affichage de la fonction de perte\n",
    "plt.figure(figsize=(6, 8))\n",
    "plt.plot(range(history_RNN['epochs']), history_RNN['train_loss'], label='Train Loss')\n",
    "plt.plot(range(history_RNN['epochs']), history_RNN['val_loss'], label='Val Loss')\n",
    "plt.xlabel(\"Epochs\")\n",
    "plt.legend()\n",
    "plt.show()"
   ]
  },
  {
   "cell_type": "markdown",
   "metadata": {},
   "source": [
    "#### MLP"
   ]
  },
  {
   "cell_type": "code",
   "execution_count": 48,
   "metadata": {},
   "outputs": [],
   "source": [
    "def optim_MLP(trial):\n",
    "    # Définir les hyperparamètres à tester\n",
    "    embedding_size = trial.suggest_int('embedding_size', 128, 512)\n",
    "    hidden_size = trial.suggest_int('hidden_size', 128, 512)\n",
    "    dropout = trial.suggest_uniform('dropout', 0.2, 0.5)\n",
    "    lr = trial.suggest_loguniform('lr', 1e-4, 1e-3)\n",
    "    batch_size = trial.suggest_int('batch_size', 64, 128)\n",
    "    epochs = trial.suggest_int('epochs', 5, 15)\n",
    "\n",
    "    model = Modele_MLP(vocab_size, output_size, embedding_size=embedding_size, hidden_size=hidden_size, dropout=dropout).to(device)\n",
    "\n",
    "    optimizer = Adam(model.parameters(), lr=lr)\n",
    "\n",
    "    train_loader = DataLoader(train_set, batch_size=batch_size, shuffle=True)\n",
    "    val_loader = DataLoader(valid_set, batch_size=batch_size, shuffle=False)\n",
    "\n",
    "    for epoch in range(epochs):\n",
    "        model.train()\n",
    "        train_loss = 0\n",
    "        for feature, target in train_loader:\n",
    "            feature, target = feature.to(device), target.to(device)\n",
    "            optimizer.zero_grad()\n",
    "            out = model(feature)\n",
    "            loss = criterion(out.squeeze(), target.float())\n",
    "            loss.backward()\n",
    "            optimizer.step()\n",
    "            train_loss += loss.item()\n",
    "\n",
    "        model.eval()\n",
    "        val_loss = 0\n",
    "        with torch.no_grad():\n",
    "            for feature, target in val_loader:\n",
    "                feature, target = feature.to(device), target.to(device)\n",
    "                out = model(feature)\n",
    "                loss = criterion(out.squeeze(), target.float())\n",
    "                val_loss += loss.item()\n",
    "\n",
    "    return val_loss / len(val_loader)"
   ]
  },
  {
   "cell_type": "code",
   "execution_count": 49,
   "metadata": {},
   "outputs": [
    {
     "name": "stderr",
     "output_type": "stream",
     "text": [
      "[I 2024-12-11 15:09:32,604] A new study created in memory with name: no-name-f048bcdf-894c-45be-b3b5-439c9bded6fa\n",
      "/tmp/ipykernel_58578/2888867048.py:5: FutureWarning: suggest_uniform has been deprecated in v3.0.0. This feature will be removed in v6.0.0. See https://github.com/optuna/optuna/releases/tag/v3.0.0. Use suggest_float instead.\n",
      "  dropout = trial.suggest_uniform('dropout', 0.2, 0.5)\n",
      "/tmp/ipykernel_58578/2888867048.py:6: FutureWarning: suggest_loguniform has been deprecated in v3.0.0. This feature will be removed in v6.0.0. See https://github.com/optuna/optuna/releases/tag/v3.0.0. Use suggest_float(..., log=True) instead.\n",
      "  lr = trial.suggest_loguniform('lr', 1e-4, 1e-3)\n",
      "[I 2024-12-11 15:10:16,035] Trial 0 finished with value: 0.32196434736251833 and parameters: {'embedding_size': 207, 'hidden_size': 215, 'dropout': 0.2847805183059675, 'lr': 0.00010121633577043845, 'batch_size': 112, 'epochs': 13}. Best is trial 0 with value: 0.32196434736251833.\n",
      "[I 2024-12-11 15:10:53,466] Trial 1 finished with value: 0.3468974019380529 and parameters: {'embedding_size': 132, 'hidden_size': 423, 'dropout': 0.47574444899502066, 'lr': 0.00028719155627451214, 'batch_size': 111, 'epochs': 14}. Best is trial 0 with value: 0.32196434736251833.\n",
      "[I 2024-12-11 15:12:30,598] Trial 2 finished with value: 0.7202409081931772 and parameters: {'embedding_size': 459, 'hidden_size': 232, 'dropout': 0.481926161468235, 'lr': 0.0007531012977329747, 'batch_size': 87, 'epochs': 13}. Best is trial 0 with value: 0.32196434736251833.\n",
      "[I 2024-12-11 15:13:05,532] Trial 3 finished with value: 0.31968384825934965 and parameters: {'embedding_size': 235, 'hidden_size': 486, 'dropout': 0.3693853083834905, 'lr': 0.00016301138037105368, 'batch_size': 105, 'epochs': 9}. Best is trial 3 with value: 0.31968384825934965.\n",
      "[I 2024-12-11 15:13:52,498] Trial 4 finished with value: 0.4507760755393816 and parameters: {'embedding_size': 287, 'hidden_size': 266, 'dropout': 0.36392645447852323, 'lr': 0.0006056372465440806, 'batch_size': 109, 'epochs': 11}. Best is trial 3 with value: 0.31968384825934965.\n",
      "[I 2024-12-11 15:14:35,793] Trial 5 finished with value: 0.5165852704462973 and parameters: {'embedding_size': 175, 'hidden_size': 347, 'dropout': 0.3285407603236383, 'lr': 0.0008969661565694358, 'batch_size': 68, 'epochs': 9}. Best is trial 3 with value: 0.31968384825934965.\n",
      "[I 2024-12-11 15:15:33,126] Trial 6 finished with value: 0.29646722972393036 and parameters: {'embedding_size': 473, 'hidden_size': 388, 'dropout': 0.48264477772010295, 'lr': 0.0002460967451808625, 'batch_size': 108, 'epochs': 9}. Best is trial 6 with value: 0.29646722972393036.\n",
      "[I 2024-12-11 15:16:30,900] Trial 7 finished with value: 0.30232838087755703 and parameters: {'embedding_size': 359, 'hidden_size': 366, 'dropout': 0.27871542561256196, 'lr': 0.00030958765150088113, 'batch_size': 73, 'epochs': 8}. Best is trial 6 with value: 0.29646722972393036.\n",
      "[I 2024-12-11 15:17:31,736] Trial 8 finished with value: 0.31036334891210904 and parameters: {'embedding_size': 420, 'hidden_size': 407, 'dropout': 0.48438778122664333, 'lr': 0.0001430688139230181, 'batch_size': 115, 'epochs': 11}. Best is trial 6 with value: 0.29646722972393036.\n",
      "[I 2024-12-11 15:18:38,483] Trial 9 finished with value: 0.3075434153433889 and parameters: {'embedding_size': 408, 'hidden_size': 302, 'dropout': 0.24488378570310373, 'lr': 0.0001320243180956183, 'batch_size': 79, 'epochs': 9}. Best is trial 6 with value: 0.29646722972393036.\n",
      "[I 2024-12-11 15:19:08,610] Trial 10 finished with value: 0.29469152688980105 and parameters: {'embedding_size': 512, 'hidden_size': 138, 'dropout': 0.42071156034330226, 'lr': 0.0004237558274258324, 'batch_size': 128, 'epochs': 5}. Best is trial 10 with value: 0.29469152688980105.\n",
      "[I 2024-12-11 15:19:38,410] Trial 11 finished with value: 0.27797610908746717 and parameters: {'embedding_size': 512, 'hidden_size': 132, 'dropout': 0.41095297276015297, 'lr': 0.00048048167636779033, 'batch_size': 126, 'epochs': 5}. Best is trial 11 with value: 0.27797610908746717.\n",
      "[I 2024-12-11 15:20:14,730] Trial 12 finished with value: 0.27739303250138353 and parameters: {'embedding_size': 512, 'hidden_size': 136, 'dropout': 0.42482626304556975, 'lr': 0.000492881385766305, 'batch_size': 124, 'epochs': 6}. Best is trial 12 with value: 0.27739303250138353.\n",
      "[I 2024-12-11 15:20:44,588] Trial 13 finished with value: 0.2987835414707661 and parameters: {'embedding_size': 508, 'hidden_size': 138, 'dropout': 0.41393162643534664, 'lr': 0.00045283608892047317, 'batch_size': 127, 'epochs': 5}. Best is trial 12 with value: 0.27739303250138353.\n",
      "[I 2024-12-11 15:21:17,954] Trial 14 finished with value: 0.3030458238153231 and parameters: {'embedding_size': 356, 'hidden_size': 188, 'dropout': 0.4055929489407799, 'lr': 0.0004942407153259731, 'batch_size': 120, 'epochs': 7}. Best is trial 12 with value: 0.27739303250138353.\n"
     ]
    },
    {
     "name": "stdout",
     "output_type": "stream",
     "text": [
      "Meilleurs hyperparamètres : {'embedding_size': 512, 'hidden_size': 136, 'dropout': 0.42482626304556975, 'lr': 0.000492881385766305, 'batch_size': 124, 'epochs': 6}\n",
      "Meilleure valeur de la perte : 0.27739303250138353\n"
     ]
    }
   ],
   "source": [
    "# Créer un objet study Optuna\n",
    "opti_MLP = optuna.create_study(direction='minimize')  # On minimise la perte\n",
    "\n",
    "# Lancer l'optimisation\n",
    "opti_MLP.optimize(optim_MLP, n_trials=15)  # Teste 5 configurations différentes\n",
    "\n",
    "# Afficher les meilleurs hyperparamètres trouvés\n",
    "print(f\"Meilleurs hyperparamètres : {opti_MLP.best_params}\")\n",
    "\n",
    "print(f\"Meilleure valeur de la perte : {opti_MLP.best_value}\")"
   ]
  },
  {
   "cell_type": "code",
   "execution_count": 51,
   "metadata": {},
   "outputs": [],
   "source": [
    "# Crée un modèle final avec les meilleurs hyperparamètres\n",
    "best_params_MLP = opti_MLP.best_params\n",
    "best_model_MLP = Modele_MLP(vocab_size, output_size, \n",
    "                         embedding_size = best_params_MLP['embedding_size'], \n",
    "                         hidden_size = best_params_MLP['hidden_size'], \n",
    "                         dropout = best_params_MLP['dropout']).to(device)\n",
    "\n",
    "# Optimiseur avec le meilleur learning rate\n",
    "optimizer_MLP = Adam(best_model_MLP.parameters(), lr=best_params_MLP['lr'])\n",
    "epochs_MLP = best_params_MLP['epochs']\n",
    "\n",
    "print_every = 1\n",
    "history_MLP = {\n",
    "    'train_loss': [],\n",
    "    'train_acc': [],\n",
    "    'val_loss': [],\n",
    "    'val_acc': [],\n",
    "    'epochs': epochs_MLP\n",
    "}"
   ]
  },
  {
   "cell_type": "code",
   "execution_count": 52,
   "metadata": {},
   "outputs": [
    {
     "name": "stderr",
     "output_type": "stream",
     "text": [
      "Training:  17%|█▋        | 1/6 [00:07<00:37,  7.58s/it, Val Loss: 0.611 | Val Acc: 0.630]"
     ]
    },
    {
     "name": "stdout",
     "output_type": "stream",
     "text": [
      "Epoch 1/5 | Train Loss: 0.672 Train Acc: 0.565 | Val Loss: 0.611 Val Acc: 0.630\n"
     ]
    },
    {
     "name": "stderr",
     "output_type": "stream",
     "text": [
      "Training:  50%|█████     | 3/6 [00:17<00:17,  5.91s/it, Val Loss: 0.339 | Val Acc: 0.860]"
     ]
    },
    {
     "name": "stdout",
     "output_type": "stream",
     "text": [
      "Epoch 2/5 | Train Loss: 0.450 Train Acc: 0.791 | Val Loss: 0.339 Val Acc: 0.860\n"
     ]
    },
    {
     "name": "stderr",
     "output_type": "stream",
     "text": [
      "Training:  67%|██████▋   | 4/6 [00:27<00:15,  7.66s/it, Val Loss: 0.302 | Val Acc: 0.873]"
     ]
    },
    {
     "name": "stdout",
     "output_type": "stream",
     "text": [
      "Epoch 3/5 | Train Loss: 0.318 Train Acc: 0.868 | Val Loss: 0.302 Val Acc: 0.873\n"
     ]
    },
    {
     "name": "stderr",
     "output_type": "stream",
     "text": [
      "Training: 100%|██████████| 6/6 [00:38<00:00,  6.40s/it, Val Loss: 0.301 | Val Acc: 0.875]"
     ]
    },
    {
     "name": "stdout",
     "output_type": "stream",
     "text": [
      "Epoch 4/5 | Train Loss: 0.265 Train Acc: 0.893 | Val Loss: 0.301 Val Acc: 0.875\n"
     ]
    },
    {
     "name": "stderr",
     "output_type": "stream",
     "text": [
      "Training: 7it [00:48,  7.60s/it, Val Loss: 0.282 | Val Acc: 0.886]                       "
     ]
    },
    {
     "name": "stdout",
     "output_type": "stream",
     "text": [
      "Epoch 5/5 | Train Loss: 0.222 Train Acc: 0.915 | Val Loss: 0.282 Val Acc: 0.886\n"
     ]
    },
    {
     "name": "stderr",
     "output_type": "stream",
     "text": [
      "Training: 100%|██████████| 6/6 [00:58<00:00,  9.70s/it, Val Loss: 0.282 | Val Acc: 0.887]"
     ]
    },
    {
     "name": "stdout",
     "output_type": "stream",
     "text": [
      "Epoch 6/5 | Train Loss: 0.195 Train Acc: 0.929 | Val Loss: 0.282 Val Acc: 0.887\n",
      "[WARNING] Validation loss did not improved (0.282 --> 0.282)\n"
     ]
    },
    {
     "name": "stderr",
     "output_type": "stream",
     "text": [
      "\n"
     ]
    }
   ],
   "source": [
    "best_model_MLP = best_model_MLP.to(device)\n",
    "\n",
    "epochloop = tqdm(range(epochs_MLP), position=0, desc='Training', leave=True)\n",
    "\n",
    "# early stop trigger\n",
    "es_trigger = 0\n",
    "val_loss_min = torch.inf\n",
    "\n",
    "for e in epochloop:\n",
    "\n",
    "    #################\n",
    "    # training mode #\n",
    "    #################\n",
    "\n",
    "    best_model_MLP.train()\n",
    "\n",
    "    train_loss = 0\n",
    "    train_acc = 0\n",
    "\n",
    "    for id, (feature, target) in enumerate(train_loader):\n",
    "        # add epoch meta info\n",
    "        epochloop.set_postfix_str(f'Training batch {id}/{len(train_loader)}')\n",
    "\n",
    "        # move to device\n",
    "        feature, target = feature.to(device), target.to(device)\n",
    "\n",
    "        # reset optimizer\n",
    "        optimizer_MLP.zero_grad()\n",
    "\n",
    "        # forward pass\n",
    "        out = best_model_MLP(feature)\n",
    "\n",
    "        # acc\n",
    "        predicted = torch.tensor([1 if i == True else 0 for i in out > 0.5], device=device)\n",
    "        equals = predicted == target\n",
    "        acc = torch.mean(equals.type(torch.FloatTensor))\n",
    "        train_acc += acc.item()\n",
    "\n",
    "        # loss\n",
    "        loss = criterion(out.squeeze(), target.float())\n",
    "        train_loss += loss.item()\n",
    "        loss.backward()\n",
    "\n",
    "        # clip grad\n",
    "        nn.utils.clip_grad_norm_(best_model_MLP.parameters(), grad_clip)\n",
    "\n",
    "        # update optimizer\n",
    "        optimizer_MLP.step()\n",
    "\n",
    "        # free some memory\n",
    "        del feature, target, predicted\n",
    "\n",
    "    history_MLP['train_loss'].append(train_loss / len(train_loader))\n",
    "    history_MLP['train_acc'].append(train_acc / len(train_loader))\n",
    "\n",
    "    ####################\n",
    "    # validation model #\n",
    "    ####################\n",
    "\n",
    "    best_model_MLP.eval()\n",
    "\n",
    "    val_loss = 0\n",
    "    val_acc = 0\n",
    "\n",
    "    with torch.no_grad():\n",
    "        for id, (feature, target) in enumerate(val_loader):\n",
    "            # add epoch meta info\n",
    "            epochloop.set_postfix_str(f'Validation batch {id}/{len(val_loader)}')\n",
    "            \n",
    "            # move to device\n",
    "            feature, target = feature.to(device), target.to(device)\n",
    "\n",
    "            # forward pass\n",
    "            out = best_model_MLP(feature)\n",
    "\n",
    "            # acc\n",
    "            predicted = torch.tensor([1 if i == True else 0 for i in out > 0.5], device=device)\n",
    "            equals = predicted == target\n",
    "            acc = torch.mean(equals.type(torch.FloatTensor))\n",
    "            val_acc += acc.item()\n",
    "\n",
    "            # loss\n",
    "            loss = criterion(out.squeeze(), target.float())\n",
    "            val_loss += loss.item()\n",
    "\n",
    "            # free some memory\n",
    "            del feature, target, predicted\n",
    "\n",
    "        history_MLP['val_loss'].append(val_loss / len(val_loader))\n",
    "        history_MLP['val_acc'].append(val_acc / len(val_loader))\n",
    "\n",
    "    # reset model model\n",
    "    best_model_MLP.train()\n",
    "\n",
    "    # add epoch meta info\n",
    "    epochloop.set_postfix_str(f'Val Loss: {val_loss / len(val_loader):.3f} | Val Acc: {val_acc / len(val_loader):.3f}')\n",
    "\n",
    "    # print epoch \n",
    "    if (e+1) % print_every == 0:\n",
    "        epochloop.write(f'Epoch {e+1}/{epochs} | Train Loss: {train_loss / len(train_loader):.3f} Train Acc: {train_acc / len(train_loader):.3f} | Val Loss: {val_loss / len(val_loader):.3f} Val Acc: {val_acc / len(val_loader):.3f}')\n",
    "        epochloop.update()\n",
    "\n",
    "    # save model if validation loss decrease\n",
    "    if val_loss / len(val_loader) <= val_loss_min:\n",
    "        torch.save(best_model_MLP.state_dict(), './sentiment_mlp.pt')\n",
    "        val_loss_min = val_loss / len(val_loader)\n",
    "        es_trigger = 0\n",
    "    else:\n",
    "        epochloop.write(f'[WARNING] Validation loss did not improved ({val_loss_min:.3f} --> {val_loss / len(val_loader):.3f})')\n",
    "        es_trigger += 1\n",
    "\n",
    "    # force early stop\n",
    "    if es_trigger >= es_limit:\n",
    "        epochloop.write(f'Early stopped at Epoch-{e+1}')\n",
    "        # update epochs history_MLP\n",
    "        history_MLP['epochs'] = e+1\n",
    "        break"
   ]
  },
  {
   "cell_type": "code",
   "execution_count": 55,
   "metadata": {},
   "outputs": [],
   "source": [
    "# Sauvegarder à la fois les poids du modèle et les paramètres optimaux\n",
    "checkpoint = {\n",
    "    'model_state_dict': best_model_MLP.state_dict(),\n",
    "    'best_params': best_params_MLP\n",
    "}\n",
    "\n",
    "torch.save(checkpoint, 'best_model_checkpoint_mlp.pth')"
   ]
  },
  {
   "cell_type": "code",
   "execution_count": 53,
   "metadata": {},
   "outputs": [
    {
     "data": {
      "image/png": "[encoded data removed]",
      "text/plain": [
       "<Figure size 600x800 with 1 Axes>"
      ]
     },
     "metadata": {},
     "output_type": "display_data"
    }
   ],
   "source": [
    "#  Affichage du taux de bonnes prédictions\n",
    "plt.figure(figsize=(6, 8))\n",
    "plt.plot(range(history_MLP['epochs']), history_MLP['train_acc'], label='Train Acc')\n",
    "plt.plot(range(history_MLP['epochs']), history_MLP['val_acc'], label='Val Acc')\n",
    "plt.xlabel(\"Epochs\")\n",
    "plt.legend()\n",
    "plt.show()"
   ]
  },
  {
   "cell_type": "code",
   "execution_count": 54,
   "metadata": {},
   "outputs": [
    {
     "data": {
      "image/png": "[encoded data removed]",
      "text/plain": [
       "<Figure size 600x800 with 1 Axes>"
      ]
     },
     "metadata": {},
     "output_type": "display_data"
    }
   ],
   "source": [
    "# Affichage de la fonction de perte\n",
    "plt.figure(figsize=(6, 8))\n",
    "plt.plot(range(history_MLP['epochs']), history_MLP['train_loss'], label='Train Loss')\n",
    "plt.plot(range(history_MLP['epochs']), history_MLP['val_loss'], label='Val Loss')\n",
    "plt.xlabel(\"Epochs\")\n",
    "plt.legend()\n",
    "plt.show()"
   ]
  },
  {
   "cell_type": "markdown",
   "metadata": {},
   "source": [
    "#### CNN"
   ]
  },
  {
   "cell_type": "code",
   "execution_count": 32,
   "metadata": {},
   "outputs": [],
   "source": [
    "def optim_CNN(trial):\n",
    "    # Définir les hyperparamètres à tester\n",
    "    embedding_size = trial.suggest_int('embedding_size', 128, 512)\n",
    "    n_filters = trial.suggest_int('n_filters', 50, 300)\n",
    "    filter_sizes = trial.suggest_categorical('filter_sizes', [[3, 4, 5], [3, 5, 7], [2, 3, 4]])\n",
    "    dropout = trial.suggest_uniform('dropout', 0.2, 0.5)\n",
    "    lr = trial.suggest_loguniform('lr', 1e-4, 1e-3)\n",
    "    batch_size = trial.suggest_int('batch_size', 64, 128)\n",
    "    epochs = trial.suggest_int('epochs', 5, 15)\n",
    "    \n",
    "    model = Modele_CNN(vocab_size, output_size, embedding_size=embedding_size, n_filters=n_filters, filter_sizes=filter_sizes, dropout=dropout).to(device)\n",
    "\n",
    "    optimizer = Adam(model.parameters(), lr=lr)\n",
    "\n",
    "    train_loader = DataLoader(train_set, batch_size=batch_size, shuffle=True)\n",
    "    val_loader = DataLoader(valid_set, batch_size=batch_size, shuffle=False)\n",
    "\n",
    "    for epoch in range(epochs):\n",
    "        model.train()\n",
    "        train_loss = 0\n",
    "        for feature, target in train_loader:\n",
    "            feature, target = feature.to(device), target.to(device)\n",
    "            optimizer.zero_grad()\n",
    "            out = model(feature)\n",
    "            loss = criterion(out.squeeze(), target.float())\n",
    "            loss.backward()\n",
    "            optimizer.step()\n",
    "            train_loss += loss.item()\n",
    "\n",
    "        model.eval()\n",
    "        val_loss = 0\n",
    "        with torch.no_grad():\n",
    "            for feature, target in val_loader:\n",
    "                feature, target = feature.to(device), target.to(device)\n",
    "                out = model(feature)\n",
    "                loss = criterion(out.squeeze(), target.float())\n",
    "                val_loss += loss.item()\n",
    "\n",
    "    return val_loss / len(val_loader)"
   ]
  },
  {
   "cell_type": "code",
   "execution_count": 33,
   "metadata": {},
   "outputs": [
    {
     "name": "stderr",
     "output_type": "stream",
     "text": [
      "[I 2024-12-11 13:54:55,899] A new study created in memory with name: no-name-d4179731-06fd-4078-ac0a-b418dbc3000b\n",
      "/tmp/ipykernel_58578/2700843627.py:6: FutureWarning: suggest_uniform has been deprecated in v3.0.0. This feature will be removed in v6.0.0. See https://github.com/optuna/optuna/releases/tag/v3.0.0. Use suggest_float instead.\n",
      "  dropout = trial.suggest_uniform('dropout', 0.2, 0.5)\n",
      "/tmp/ipykernel_58578/2700843627.py:7: FutureWarning: suggest_loguniform has been deprecated in v3.0.0. This feature will be removed in v6.0.0. See https://github.com/optuna/optuna/releases/tag/v3.0.0. Use suggest_float(..., log=True) instead.\n",
      "  lr = trial.suggest_loguniform('lr', 1e-4, 1e-3)\n",
      "[I 2024-12-11 13:55:49,106] Trial 0 finished with value: 0.3330736153505065 and parameters: {'embedding_size': 292, 'n_filters': 124, 'filter_sizes': [2, 3, 4], 'dropout': 0.2601041175849923, 'lr': 0.00010297490623618494, 'batch_size': 115, 'epochs': 6}. Best is trial 0 with value: 0.3330736153505065.\n",
      "[I 2024-12-11 13:58:34,635] Trial 1 finished with value: 0.2937153763308817 and parameters: {'embedding_size': 374, 'n_filters': 59, 'filter_sizes': [2, 3, 4], 'dropout': 0.28021638674127664, 'lr': 0.00013535521966178183, 'batch_size': 103, 'epochs': 15}. Best is trial 1 with value: 0.2937153763308817.\n",
      "[I 2024-12-11 14:03:20,252] Trial 2 finished with value: 0.3020376753807068 and parameters: {'embedding_size': 509, 'n_filters': 268, 'filter_sizes': [2, 3, 4], 'dropout': 0.20171933003065115, 'lr': 0.00016876588680017198, 'batch_size': 101, 'epochs': 10}. Best is trial 1 with value: 0.2937153763308817.\n",
      "[I 2024-12-11 14:06:39,380] Trial 3 finished with value: 0.30043644627386873 and parameters: {'embedding_size': 421, 'n_filters': 124, 'filter_sizes': [3, 4, 5], 'dropout': 0.34858621940524814, 'lr': 0.00014509431705004636, 'batch_size': 114, 'epochs': 14}. Best is trial 1 with value: 0.2937153763308817.\n",
      "[I 2024-12-11 14:07:57,884] Trial 4 finished with value: 0.31167323285570514 and parameters: {'embedding_size': 310, 'n_filters': 179, 'filter_sizes': [2, 3, 4], 'dropout': 0.262403469018448, 'lr': 0.0007066017570037158, 'batch_size': 97, 'epochs': 6}. Best is trial 1 with value: 0.2937153763308817.\n",
      "[I 2024-12-11 14:09:57,207] Trial 5 finished with value: 0.357427213203024 and parameters: {'embedding_size': 195, 'n_filters': 273, 'filter_sizes': [3, 5, 7], 'dropout': 0.4339493721259213, 'lr': 0.0007087830452266181, 'batch_size': 93, 'epochs': 7}. Best is trial 1 with value: 0.2937153763308817.\n",
      "[I 2024-12-11 14:16:12,537] Trial 6 finished with value: 0.6639420526664493 and parameters: {'embedding_size': 424, 'n_filters': 289, 'filter_sizes': [3, 5, 7], 'dropout': 0.4002782285709733, 'lr': 0.0006554789835002, 'batch_size': 96, 'epochs': 12}. Best is trial 1 with value: 0.2937153763308817.\n",
      "[I 2024-12-11 14:17:42,519] Trial 7 finished with value: 0.2954074290714094 and parameters: {'embedding_size': 153, 'n_filters': 106, 'filter_sizes': [2, 3, 4], 'dropout': 0.21935605463710806, 'lr': 0.00020742249312790057, 'batch_size': 90, 'epochs': 15}. Best is trial 1 with value: 0.2937153763308817.\n",
      "[I 2024-12-11 14:20:52,910] Trial 8 finished with value: 0.6244442006168158 and parameters: {'embedding_size': 414, 'n_filters': 193, 'filter_sizes': [3, 4, 5], 'dropout': 0.2516870562617674, 'lr': 0.0008726012754214212, 'batch_size': 73, 'epochs': 9}. Best is trial 1 with value: 0.2937153763308817.\n",
      "[I 2024-12-11 14:26:52,339] Trial 9 finished with value: 0.41423683719975607 and parameters: {'embedding_size': 443, 'n_filters': 290, 'filter_sizes': [3, 5, 7], 'dropout': 0.2497288306817848, 'lr': 0.00032533434741459393, 'batch_size': 120, 'epochs': 11}. Best is trial 1 with value: 0.2937153763308817.\n",
      "[I 2024-12-11 14:28:51,995] Trial 10 finished with value: 0.3102616653458713 and parameters: {'embedding_size': 248, 'n_filters': 53, 'filter_sizes': [2, 3, 4], 'dropout': 0.33044606099005025, 'lr': 0.0003221397175513142, 'batch_size': 69, 'epochs': 14}. Best is trial 1 with value: 0.2937153763308817.\n",
      "[I 2024-12-11 14:30:25,890] Trial 11 finished with value: 0.31885457136591927 and parameters: {'embedding_size': 141, 'n_filters': 53, 'filter_sizes': [2, 3, 4], 'dropout': 0.4929864334199726, 'lr': 0.0001922077686096833, 'batch_size': 83, 'epochs': 15}. Best is trial 1 with value: 0.2937153763308817.\n",
      "[I 2024-12-11 14:32:42,190] Trial 12 finished with value: 0.3022716410147647 and parameters: {'embedding_size': 350, 'n_filters': 94, 'filter_sizes': [2, 3, 4], 'dropout': 0.2003399062646895, 'lr': 0.0002332480721678308, 'batch_size': 106, 'epochs': 13}. Best is trial 1 with value: 0.2937153763308817.\n",
      "[I 2024-12-11 14:35:39,732] Trial 13 finished with value: 0.2896754463513692 and parameters: {'embedding_size': 354, 'n_filters': 98, 'filter_sizes': [2, 3, 4], 'dropout': 0.31131777353883633, 'lr': 0.000101246317923668, 'batch_size': 84, 'epochs': 15}. Best is trial 13 with value: 0.2896754463513692.\n",
      "[I 2024-12-11 14:37:49,274] Trial 14 finished with value: 0.30050393640995027 and parameters: {'embedding_size': 365, 'n_filters': 84, 'filter_sizes': [2, 3, 4], 'dropout': 0.309149406238796, 'lr': 0.00010133281408932374, 'batch_size': 128, 'epochs': 13}. Best is trial 13 with value: 0.2896754463513692.\n"
     ]
    },
    {
     "name": "stdout",
     "output_type": "stream",
     "text": [
      "Meilleurs hyperparamètres : {'embedding_size': 354, 'n_filters': 98, 'filter_sizes': [2, 3, 4], 'dropout': 0.31131777353883633, 'lr': 0.000101246317923668, 'batch_size': 84, 'epochs': 15}\n",
      "Meilleure valeur de la perte : 0.2896754463513692\n"
     ]
    }
   ],
   "source": [
    "# Créer un objet study Optuna\n",
    "opti_CNN = optuna.create_study(direction='minimize')  # On minimise la perte\n",
    "\n",
    "# Lancer l'optimisation\n",
    "opti_CNN.optimize(optim_CNN, n_trials=15)  # Teste 5 configurations différentes\n",
    "\n",
    "# Afficher les meilleurs hyperparamètres trouvés\n",
    "print(f\"Meilleurs hyperparamètres : {opti_CNN.best_params}\")\n",
    "\n",
    "print(f\"Meilleure valeur de la perte : {opti_CNN.best_value}\")"
   ]
  },
  {
   "cell_type": "code",
   "execution_count": 36,
   "metadata": {},
   "outputs": [],
   "source": [
    "# Crée un modèle final avec les meilleurs hyperparamètres\n",
    "best_params_CNN = opti_CNN.best_params\n",
    "best_model_CNN = Modele_CNN(vocab_size, output_size, \n",
    "                         embedding_size = best_params_CNN['embedding_size'],\n",
    "                         n_filters = best_params_CNN['n_filters'],\n",
    "                         filter_sizes = best_params_CNN['filter_sizes'],\n",
    "                         dropout = best_params_CNN['dropout']).to(device)\n",
    "\n",
    "# Optimiseur avec le meilleur learning rate\n",
    "optimizer_CNN = Adam(best_model_CNN.parameters(), lr=best_params_CNN['lr'])\n",
    "epochs_CNN = best_params_CNN['epochs']\n",
    "\n",
    "print_every = 1\n",
    "history_CNN = {\n",
    "    'train_loss': [],\n",
    "    'train_acc': [],\n",
    "    'val_loss': [],\n",
    "    'val_acc': [],\n",
    "    'epochs': epochs_CNN\n",
    "}"
   ]
  },
  {
   "cell_type": "code",
   "execution_count": 37,
   "metadata": {},
   "outputs": [
    {
     "name": "stderr",
     "output_type": "stream",
     "text": [
      "Training:   7%|▋         | 1/15 [00:11<02:44, 11.73s/it, Val Loss: 0.506 | Val Acc: 0.765]"
     ]
    },
    {
     "name": "stdout",
     "output_type": "stream",
     "text": [
      "Epoch 1/5 | Train Loss: 0.629 Train Acc: 0.634 | Val Loss: 0.506 Val Acc: 0.765\n"
     ]
    },
    {
     "name": "stderr",
     "output_type": "stream",
     "text": [
      "Training:  20%|██        | 3/15 [00:24<01:40,  8.35s/it, Val Loss: 0.433 | Val Acc: 0.801]"
     ]
    },
    {
     "name": "stdout",
     "output_type": "stream",
     "text": [
      "Epoch 2/5 | Train Loss: 0.489 Train Acc: 0.765 | Val Loss: 0.433 Val Acc: 0.801\n"
     ]
    },
    {
     "name": "stderr",
     "output_type": "stream",
     "text": [
      "Training:  27%|██▋       | 4/15 [00:37<01:51, 10.12s/it, Val Loss: 0.393 | Val Acc: 0.821]"
     ]
    },
    {
     "name": "stdout",
     "output_type": "stream",
     "text": [
      "Epoch 3/5 | Train Loss: 0.429 Train Acc: 0.804 | Val Loss: 0.393 Val Acc: 0.821\n"
     ]
    },
    {
     "name": "stderr",
     "output_type": "stream",
     "text": [
      "Training:  40%|████      | 6/15 [00:50<01:15,  8.43s/it, Val Loss: 0.377 | Val Acc: 0.836]"
     ]
    },
    {
     "name": "stdout",
     "output_type": "stream",
     "text": [
      "Epoch 4/5 | Train Loss: 0.388 Train Acc: 0.826 | Val Loss: 0.377 Val Acc: 0.836\n"
     ]
    },
    {
     "name": "stderr",
     "output_type": "stream",
     "text": [
      "Training:  47%|████▋     | 7/15 [01:03<01:18,  9.86s/it, Val Loss: 0.351 | Val Acc: 0.847]"
     ]
    },
    {
     "name": "stdout",
     "output_type": "stream",
     "text": [
      "Epoch 5/5 | Train Loss: 0.353 Train Acc: 0.847 | Val Loss: 0.351 Val Acc: 0.847\n"
     ]
    },
    {
     "name": "stderr",
     "output_type": "stream",
     "text": [
      "Training:  53%|█████▎    | 8/15 [01:16<01:15, 10.79s/it, Val Loss: 0.344 | Val Acc: 0.853]"
     ]
    },
    {
     "name": "stdout",
     "output_type": "stream",
     "text": [
      "Epoch 6/5 | Train Loss: 0.330 Train Acc: 0.859 | Val Loss: 0.344 Val Acc: 0.853\n"
     ]
    },
    {
     "name": "stderr",
     "output_type": "stream",
     "text": [
      "Training:  67%|██████▋   | 10/15 [01:29<00:44,  8.93s/it, Val Loss: 0.338 | Val Acc: 0.855]"
     ]
    },
    {
     "name": "stdout",
     "output_type": "stream",
     "text": [
      "Epoch 7/5 | Train Loss: 0.308 Train Acc: 0.869 | Val Loss: 0.338 Val Acc: 0.855\n"
     ]
    },
    {
     "name": "stderr",
     "output_type": "stream",
     "text": [
      "Training:  73%|███████▎  | 11/15 [01:42<00:40, 10.17s/it, Val Loss: 0.319 | Val Acc: 0.866]"
     ]
    },
    {
     "name": "stdout",
     "output_type": "stream",
     "text": [
      "Epoch 8/5 | Train Loss: 0.290 Train Acc: 0.879 | Val Loss: 0.319 Val Acc: 0.866\n"
     ]
    },
    {
     "name": "stderr",
     "output_type": "stream",
     "text": [
      "Training:  80%|████████  | 12/15 [01:55<00:33, 11.06s/it, Val Loss: 0.312 | Val Acc: 0.871]"
     ]
    },
    {
     "name": "stdout",
     "output_type": "stream",
     "text": [
      "Epoch 9/5 | Train Loss: 0.270 Train Acc: 0.891 | Val Loss: 0.312 Val Acc: 0.871\n"
     ]
    },
    {
     "name": "stderr",
     "output_type": "stream",
     "text": [
      "Training:  87%|████████▋ | 13/15 [02:08<00:23, 11.64s/it, Val Loss: 0.307 | Val Acc: 0.872]"
     ]
    },
    {
     "name": "stdout",
     "output_type": "stream",
     "text": [
      "Epoch 10/5 | Train Loss: 0.257 Train Acc: 0.896 | Val Loss: 0.307 Val Acc: 0.872\n"
     ]
    },
    {
     "name": "stderr",
     "output_type": "stream",
     "text": [
      "Training: 100%|██████████| 15/15 [02:21<00:00,  9.45s/it, Training batch 6/313]            "
     ]
    },
    {
     "name": "stdout",
     "output_type": "stream",
     "text": [
      "Epoch 11/5 | Train Loss: 0.245 Train Acc: 0.900 | Val Loss: 0.307 Val Acc: 0.869\n",
      "[WARNING] Validation loss did not improved (0.307 --> 0.307)\n"
     ]
    },
    {
     "name": "stderr",
     "output_type": "stream",
     "text": [
      "Training: 16it [02:32, 10.01s/it, Val Loss: 0.302 | Val Acc: 0.875]                        "
     ]
    },
    {
     "name": "stdout",
     "output_type": "stream",
     "text": [
      "Epoch 12/5 | Train Loss: 0.229 Train Acc: 0.909 | Val Loss: 0.302 Val Acc: 0.875\n"
     ]
    },
    {
     "name": "stderr",
     "output_type": "stream",
     "text": [
      "Training: 17it [02:45, 10.97s/it, Val Loss: 0.295 | Val Acc: 0.877]"
     ]
    },
    {
     "name": "stdout",
     "output_type": "stream",
     "text": [
      "Epoch 13/5 | Train Loss: 0.220 Train Acc: 0.913 | Val Loss: 0.295 Val Acc: 0.877\n"
     ]
    },
    {
     "name": "stderr",
     "output_type": "stream",
     "text": [
      "Training: 18it [02:59, 11.66s/it, Training batch 6/313]            "
     ]
    },
    {
     "name": "stdout",
     "output_type": "stream",
     "text": [
      "Epoch 14/5 | Train Loss: 0.210 Train Acc: 0.918 | Val Loss: 0.300 Val Acc: 0.876\n",
      "[WARNING] Validation loss did not improved (0.295 --> 0.300)\n"
     ]
    },
    {
     "name": "stderr",
     "output_type": "stream",
     "text": [
      "Training: 19it [03:10, 11.55s/it, Val Loss: 0.288 | Val Acc: 0.877]"
     ]
    },
    {
     "name": "stdout",
     "output_type": "stream",
     "text": [
      "Epoch 15/5 | Train Loss: 0.198 Train Acc: 0.922 | Val Loss: 0.288 Val Acc: 0.877\n"
     ]
    },
    {
     "name": "stderr",
     "output_type": "stream",
     "text": [
      "Training: 100%|██████████| 15/15 [03:12<00:00, 12.80s/it, Val Loss: 0.288 | Val Acc: 0.877]\n"
     ]
    }
   ],
   "source": [
    "best_model_CNN = best_model_CNN.to(device)\n",
    "\n",
    "epochloop = tqdm(range(epochs_CNN), position=0, desc='Training', leave=True)\n",
    "\n",
    "# early stop trigger\n",
    "es_trigger = 0\n",
    "val_loss_min = torch.inf\n",
    "\n",
    "for e in epochloop:\n",
    "\n",
    "    #################\n",
    "    # training mode #\n",
    "    #################\n",
    "\n",
    "    best_model_CNN.train()\n",
    "\n",
    "    train_loss = 0\n",
    "    train_acc = 0\n",
    "\n",
    "    for id, (feature, target) in enumerate(train_loader):\n",
    "        # add epoch meta info\n",
    "        epochloop.set_postfix_str(f'Training batch {id}/{len(train_loader)}')\n",
    "\n",
    "        # move to device\n",
    "        feature, target = feature.to(device), target.to(device)\n",
    "\n",
    "        # reset optimizer\n",
    "        optimizer_CNN.zero_grad()\n",
    "\n",
    "        # forward pass\n",
    "        out = best_model_CNN(feature)\n",
    "\n",
    "        # acc\n",
    "        predicted = torch.tensor([1 if i == True else 0 for i in out > 0.5], device=device)\n",
    "        equals = predicted == target\n",
    "        acc = torch.mean(equals.type(torch.FloatTensor))\n",
    "        train_acc += acc.item()\n",
    "\n",
    "        # loss\n",
    "        loss = criterion(out.squeeze(), target.float())\n",
    "        train_loss += loss.item()\n",
    "        loss.backward()\n",
    "\n",
    "        # clip grad\n",
    "        nn.utils.clip_grad_norm_(best_model_CNN.parameters(), grad_clip)\n",
    "\n",
    "        # update optimizer\n",
    "        optimizer_CNN.step()\n",
    "\n",
    "        # free some memory\n",
    "        del feature, target, predicted\n",
    "\n",
    "    history_CNN['train_loss'].append(train_loss / len(train_loader))\n",
    "    history_CNN['train_acc'].append(train_acc / len(train_loader))\n",
    "\n",
    "    ####################\n",
    "    # validation model #\n",
    "    ####################\n",
    "\n",
    "    best_model_CNN.eval()\n",
    "\n",
    "    val_loss = 0\n",
    "    val_acc = 0\n",
    "\n",
    "    with torch.no_grad():\n",
    "        for id, (feature, target) in enumerate(val_loader):\n",
    "            # add epoch meta info\n",
    "            epochloop.set_postfix_str(f'Validation batch {id}/{len(val_loader)}')\n",
    "            \n",
    "            # move to device\n",
    "            feature, target = feature.to(device), target.to(device)\n",
    "\n",
    "            # forward pass\n",
    "            out = best_model_CNN(feature)\n",
    "\n",
    "            # acc\n",
    "            predicted = torch.tensor([1 if i == True else 0 for i in out > 0.5], device=device)\n",
    "            equals = predicted == target\n",
    "            acc = torch.mean(equals.type(torch.FloatTensor))\n",
    "            val_acc += acc.item()\n",
    "\n",
    "            # loss\n",
    "            loss = criterion(out.squeeze(), target.float())\n",
    "            val_loss += loss.item()\n",
    "\n",
    "            # free some memory\n",
    "            del feature, target, predicted\n",
    "\n",
    "        history_CNN['val_loss'].append(val_loss / len(val_loader))\n",
    "        history_CNN['val_acc'].append(val_acc / len(val_loader))\n",
    "\n",
    "    # reset model model\n",
    "    best_model_CNN.train()\n",
    "\n",
    "    # add epoch meta info\n",
    "    epochloop.set_postfix_str(f'Val Loss: {val_loss / len(val_loader):.3f} | Val Acc: {val_acc / len(val_loader):.3f}')\n",
    "\n",
    "    # print epoch \n",
    "    if (e+1) % print_every == 0:\n",
    "        epochloop.write(f'Epoch {e+1}/{epochs} | Train Loss: {train_loss / len(train_loader):.3f} Train Acc: {train_acc / len(train_loader):.3f} | Val Loss: {val_loss / len(val_loader):.3f} Val Acc: {val_acc / len(val_loader):.3f}')\n",
    "        epochloop.update()\n",
    "\n",
    "    # save model if validation loss decrease\n",
    "    if val_loss / len(val_loader) <= val_loss_min:\n",
    "        torch.save(best_model_CNN.state_dict(), './sentiment_cnn.pt')\n",
    "        val_loss_min = val_loss / len(val_loader)\n",
    "        es_trigger = 0\n",
    "    else:\n",
    "        epochloop.write(f'[WARNING] Validation loss did not improved ({val_loss_min:.3f} --> {val_loss / len(val_loader):.3f})')\n",
    "        es_trigger += 1\n",
    "\n",
    "    # force early stop\n",
    "    if es_trigger >= es_limit:\n",
    "        epochloop.write(f'Early stopped at Epoch-{e+1}')\n",
    "        # update epochs history_CNN\n",
    "        history_CNN['epochs'] = e+1\n",
    "        break"
   ]
  },
  {
   "cell_type": "code",
   "execution_count": 40,
   "metadata": {},
   "outputs": [],
   "source": [
    "# Sauvegarder à la fois les poids du modèle et les paramètres optimaux\n",
    "checkpoint = {\n",
    "    'model_state_dict': best_model_CNN.state_dict(),\n",
    "    'best_params': best_params_CNN\n",
    "}\n",
    "\n",
    "torch.save(checkpoint, 'best_model_checkpoint_cnn.pth')"
   ]
  },
  {
   "cell_type": "code",
   "execution_count": 38,
   "metadata": {},
   "outputs": [
    {
     "data": {
      "image/png": "[encoded data removed]",
      "text/plain": [
       "<Figure size 600x800 with 1 Axes>"
      ]
     },
     "metadata": {},
     "output_type": "display_data"
    }
   ],
   "source": [
    "#  Affichage du taux de bonnes prédictions\n",
    "plt.figure(figsize=(6, 8))\n",
    "plt.plot(range(history_CNN['epochs']), history_CNN['train_acc'], label='Train Acc')\n",
    "plt.plot(range(history_CNN['epochs']), history_CNN['val_acc'], label='Val Acc')\n",
    "plt.xlabel(\"Epochs\")\n",
    "plt.legend()\n",
    "plt.show()"
   ]
  },
  {
   "cell_type": "code",
   "execution_count": 39,
   "metadata": {},
   "outputs": [
    {
     "data": {
      "image/png": "[encoded data removed]",
      "text/plain": [
       "<Figure size 600x800 with 1 Axes>"
      ]
     },
     "metadata": {},
     "output_type": "display_data"
    }
   ],
   "source": [
    "# Affichage de la fonction de perte\n",
    "plt.figure(figsize=(6, 8))\n",
    "plt.plot(range(history_CNN['epochs']), history_CNN['train_loss'], label='Train Loss')\n",
    "plt.plot(range(history_CNN['epochs']), history_CNN['val_loss'], label='Val Loss')\n",
    "plt.xlabel(\"Epochs\")\n",
    "plt.legend()\n",
    "plt.show()"
   ]
  },
  {
   "cell_type": "markdown",
   "metadata": {},
   "source": [
    "# Performaces des modèles sur les données test"
   ]
  },
  {
   "cell_type": "markdown",
   "metadata": {},
   "source": [
    "Affichage test accuracy et confusion matrix"
   ]
  },
  {
   "cell_type": "code",
   "execution_count": null,
   "metadata": {},
   "outputs": [],
   "source": []
  },
  {
   "cell_type": "markdown",
   "metadata": {},
   "source": [
    "# Classifieur par ensemble"
   ]
  },
  {
   "cell_type": "code",
   "execution_count": null,
   "metadata": {},
   "outputs": [],
   "source": [
    "class EnsembleClassifier:\n",
    "    def __init__(self, models):\n",
    "        self.models = models  # Liste des 5 modèles : [RNN, LSTM, GRU, CNN, MLP]\n",
    "    \n",
    "    def predict(self, x):\n",
    "        # Prédictions de chaque modèle\n",
    "        preds = []\n",
    "        for model in self.models:\n",
    "            model.eval()\n",
    "            with torch.no_grad():\n",
    "                output = model(x)\n",
    "                preds.append(output.squeeze().cpu().numpy())\n",
    "\n",
    "        preds = np.array(preds)\n",
    "\n",
    "        final_pred = np.round(np.mean(preds, axis=0))  # Prédiction finale par vote majoritaire : arrondit la valeur finale à 0 ou 1 (seuil à 0.5)\n",
    "\n",
    "        return final_pred\n",
    "\n",
    "\n",
    "ensemble_model = EnsembleClassifier(models=[best_model_RNN, best_model_LSTM, best_model_GRU, best_model_CNN, best_model_MLP])"
   ]
  },
  {
   "cell_type": "code",
   "execution_count": null,
   "metadata": {},
   "outputs": [],
   "source": [
    "# Taux de bonnes prédictions global\n",
    "\n",
    "def accuracy_score(y_pred, y_true):\n",
    "    # y_pred (tensor): Les prédictions du modèle.\n",
    "    # y_true (tensor): Les véritables étiquettes.\n",
    "    \n",
    "    correct = (y_pred == y_true).float()  # comparaison des prédictions et des labels\n",
    "    accuracy = correct.sum() / len(correct)\n",
    "    \n",
    "    return accuracy.item()\n"
   ]
  },
  {
   "cell_type": "code",
   "execution_count": null,
   "metadata": {},
   "outputs": [],
   "source": [
    "ensemble_model.eval()\n",
    "\n",
    "y_true = []  # Liste pour stocker les véritables étiquettes\n",
    "y_pred = []  # Liste pour stocker les prédictions du classifieur d'ensemble\n",
    "\n",
    "# Prédictions sur l'ensemble de test\n",
    "with torch.no_grad():\n",
    "    for feature, target in test_loader:\n",
    "        \n",
    "        feature, target = feature.to(device), target.to(device)\n",
    "\n",
    "        out = ensemble_model.predict(feature)  # Prédiction par l'ensemble de modèles\n",
    "\n",
    "        y_true.extend(target.cpu().numpy())\n",
    "        y_pred.extend(out)\n",
    "\n",
    "accuracy = accuracy_score(torch.tensor(y_pred), torch.tensor(y_true))\n",
    "\n",
    "print(f\"Accuracy on test set: {accuracy:.4f}\")\n"
   ]
  }
 ],
 "metadata": {
  "kernelspec": {
   "display_name": "torch",
   "language": "python",
   "name": "python3"
  },
  "language_info": {
   "codemirror_mode": {
    "name": "ipython",
    "version": 3
   },
   "file_extension": ".py",
   "mimetype": "text/x-python",
   "name": "python",
   "nbconvert_exporter": "python",
   "pygments_lexer": "ipython3",
   "version": "3.10.14"
  }
 },
 "nbformat": 4,
 "nbformat_minor": 2
}
