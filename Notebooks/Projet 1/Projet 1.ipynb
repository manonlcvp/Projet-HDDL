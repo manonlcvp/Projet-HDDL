{
 "cells": [
  {
   "cell_type": "code",
   "execution_count": 1,
   "id": "63c148a4-0035-4309-8eb2-7758b48e96e4",
   "metadata": {},
   "outputs": [],
   "source": [
    "import PIL\n",
    "from PIL import Image\n",
    "import os, sys"
   ]
  },
  {
   "cell_type": "code",
   "execution_count": 4,
   "id": "95d44c1a-f903-4189-9bfe-7f000afa4819",
   "metadata": {},
   "outputs": [],
   "source": [
    "import math\n",
    "import numpy as np\n",
    "import matplotlib.pyplot as plt\n",
    "%matplotlib inline"
   ]
  },
  {
   "cell_type": "code",
   "execution_count": 5,
   "id": "225addd4-af60-4409-9b6c-f8dcaa20aa3e",
   "metadata": {},
   "outputs": [],
   "source": [
    "import tensorflow as tf\n",
    "from tensorflow import keras"
   ]
  },
  {
   "cell_type": "code",
   "execution_count": 6,
   "id": "2755b3e2-88ab-4f13-98f3-e3335f7e26c4",
   "metadata": {},
   "outputs": [
    {
     "data": {
      "text/plain": [
       "['CPU', 'GPU']"
      ]
     },
     "execution_count": 6,
     "metadata": {},
     "output_type": "execute_result"
    }
   ],
   "source": [
    "# tf.config.list_physical_devices()\n",
    "[k.device_type for k in tf.config.list_physical_devices()]"
   ]
  }
 ],
 "metadata": {
  "kernelspec": {
   "display_name": "hddltf",
   "language": "python",
   "name": "hddltf"
  },
  "language_info": {
   "codemirror_mode": {
    "name": "ipython",
    "version": 3
   },
   "file_extension": ".py",
   "mimetype": "text/x-python",
   "name": "python",
   "nbconvert_exporter": "python",
   "pygments_lexer": "ipython3",
   "version": "3.9.20"
  }
 },
 "nbformat": 4,
 "nbformat_minor": 5
}
